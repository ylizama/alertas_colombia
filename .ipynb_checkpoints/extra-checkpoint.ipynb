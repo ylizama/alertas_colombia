{
 "cells": [
  {
   "cell_type": "code",
   "execution_count": null,
   "id": "03b9ed0a",
   "metadata": {},
   "outputs": [],
   "source": [
    "import string\n",
    "replacing = [\n",
    "    \"Línea Nacional 018000914814 BUREAU VERrTAS Cenificationwwwdefensoriagovco Plantilla VIgente desde 27062017\",\n",
    "    \"Carrera 8No 12B31 Bogotá DC\",\n",
    "    \"Doctora NANCY PATRICIA GUTIERREZ CASTAÑEDA Ministerio del Interior Secretaría Técnica de laComisión Intersectorial para la Respuesta Rápida alas Alertas Tempranas CIPRAT\",\n",
    "    \"Doctora NANCY PATRICIA GUTIERREZ CASTAÑEDA ·Ministerio del Interior Secretaría Técnica de la Comisión Intersectorial para la Respuesta Rápida alas Alertas Tempranas CIPRAT\",\n",
    "    \"Doctora NANCY PATRICIA GUTIERREZ CASTAÑEDA ·Ministerio del Interior Secretaría Técnica de laComisión Intersectorial para la Respuesta Rápida alas Alertas Tempranas CIPRAT\",\n",
    "    \"Sede Central Calle 55 No 1032 Tel 3147300 Ext fax 2452 Bogotá DC Colombia correo electrónico satdefensoriaorgco\",\n",
    "    \"Doctor GUILLERMO RIVERA FLÓREZ Ministro del Interior Secretaría Técnica de la Comisión Intersectorial para la Respuesta Rápida a las Alertas Tempranas\",\n",
    "    \"Sede Central: Calle 55 No. 10 -32 Tels: 3147300 Ext. 2437 Telefax 3147300 Ext. 2452 Bogotá, D.C., Colombia correo electrónico: sat@defensoria.org.co\",\n",
    "    \"Sede Central Calle 55 N° 10-32 Teléfono 3147300 Ext 2437 Fax:3147300 Ext 2452 Correo electrónico: sat@defensoria.org.co\",\n",
    "    \"Sede Central: Calle 55 No. 10-32 Teléfono: 3147300 ex 2437 Telefax 3147300 ext 2452 Correo Electrónico: sat@defensoria.org.co - Bogotá, D.C., Colombia\", \n",
    "    \"Sede Central: Calle 55 No. 10-32 Teléfono: 3147300 Ext. 2437 Telefax 3147300 ext 2452 Correo Electrónico: sat@defensoria.org.co - Bogotá, D.C., Colombia\", \n",
    "    \"Sede Central: Calle 55 No. 10-32 Teléfonos: 6915300 ; 3147300 extensión: 2437, fax ext. 2452 Correo Electrónico: sat@defensoria.org.co – Calle 55 No. 10 -32 Bogotá, D.C. Colombia\",\n",
    "             \"Carrera 9 # 16 -21 Bogotá D.C. PBX: (57) (1) 3147300 Línea Nacional: 01 8000 914814 www.defensoria.gov.co Plantilla Vigente desde:\",\n",
    "             \"Doctor: GUILLERMO RIVERA FLÓREZ Ministro del Interior Secretaría Técnica de la Comisión Intersectorial para la Respuesta Rápida a las Alertas Tempranas (CIPRAT) Carrera 8 No. 12 B - 31 BOGOTÁ, D.C. Referencia:\",\n",
    "             \"CARLOS ALFONSO NEGRET MOSQUERA Defensor del Pueblo JProyectó: Mariana Hernández ArandaQ Revisó: Fernando Gaitán Peña Aprobó: Mauricio Redondo Valencia Consecutivo Dependencia: '7,n~\\\"-..11 .. 5Sentencia 00463 de 2018 Consejo de Estado c.p Jaime Orlando Santofimio Gamboa \\\":\\\" \\\". .Línea Nacional: 01 8000914814ISO9001: 2008 NTC GP 1000: 2009 www.defensoria.goY.co Plantilla Vigente desde: 27106/2017BUREAU VERITAS Certiticatíon\", \n",
    "             \"Carrera 9 # 16 -21, Bogo tá, D.C. PBX: (57) ( 1) 314 73 00, ext .: 3402 · Línea Nacional: 01 8000 914814 www.defensoria.gov.co Código: AD -P06 -F-20 - VERSIÓN: 04 - vigente desde: 07/12 /2016\"]\n",
    "\n",
    "def cleantext(text):\n",
    "    text = text.strip()\n",
    "    if text == \"\" or text != text or text == \" \":\n",
    "        return \"\"\n",
    "    for s in replacing:\n",
    "        if s in text:\n",
    "            print(\"*\")\n",
    "            text = text.replace(s, \"\")\n",
    "    text = text.translate(str.maketrans('', '', string.punctuation))\n",
    "    \n",
    "    return text\n",
    "\n",
    "df[\"Text\"] = df[\"Text\"].apply(cleantext)"
   ]
  }
 ],
 "metadata": {
  "kernelspec": {
   "display_name": "Python 3 (ipykernel)",
   "language": "python",
   "name": "python3"
  },
  "language_info": {
   "codemirror_mode": {
    "name": "ipython",
    "version": 3
   },
   "file_extension": ".py",
   "mimetype": "text/x-python",
   "name": "python",
   "nbconvert_exporter": "python",
   "pygments_lexer": "ipython3",
   "version": "3.9.12"
  }
 },
 "nbformat": 4,
 "nbformat_minor": 5
}
