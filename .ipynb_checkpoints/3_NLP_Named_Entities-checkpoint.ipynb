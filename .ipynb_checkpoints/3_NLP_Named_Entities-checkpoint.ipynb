{
 "cells": [
  {
   "cell_type": "markdown",
   "metadata": {},
   "source": [
    "# 1. Installs, Imports and Settings"
   ]
  },
  {
   "cell_type": "code",
   "execution_count": 2,
   "metadata": {
    "scrolled": true
   },
   "outputs": [],
   "source": [
    "#!pip install spacy==3.1.1 \n",
    "#restart runtime after this\n",
    "#!python -m spacy download es_core_news_sm\n",
    "\n",
    "import spacy\n",
    "nlp = spacy.load(\"es_core_news_sm\")\n",
    "\n",
    "import csv\n",
    "import pandas as pd\n",
    "pd.options.display.max_rows\n",
    "pd.set_option('display.max_colwidth', None)"
   ]
  },
  {
   "cell_type": "markdown",
   "metadata": {},
   "source": [
    "#  2. Reading files "
   ]
  },
  {
   "cell_type": "code",
   "execution_count": 3,
   "metadata": {},
   "outputs": [
    {
     "name": "stdout",
     "output_type": "stream",
     "text": [
      "Size of Data: 666\n",
      "\n",
      "Columns :  ['Filename', 'Text', 'Type', 'Year']\n"
     ]
    }
   ],
   "source": [
    "df = pd.read_csv('data/alertas.csv', sep=\"|\")\n",
    "df = df[df[\"Text\"] != \" \"]\n",
    "print(\"Size of Data:\", len(df))\n",
    "print()\n",
    "print(\"Columns : \", list(df.columns))"
   ]
  },
  {
   "cell_type": "markdown",
   "metadata": {},
   "source": [
    "# 3. Functions"
   ]
  },
  {
   "cell_type": "code",
   "execution_count": 4,
   "metadata": {},
   "outputs": [],
   "source": [
    "exceptions = []\n",
    "\n",
    "emojies  = ['😳','👏', '✨','🤡','😳','🕊']\n",
    "\n",
    "def is_emoji(s):\n",
    "    return s in emojies\n",
    "\n",
    "def acrfull(x):\n",
    "    return ': '.join([x, spacy.explain(x)])\n",
    "\n",
    "def extract_named_entities(text):    \n",
    "    nlp.max_length = len(text) + 100\n",
    "    doc = nlp(text)\n",
    "\n",
    "    dt = pd.DataFrame(columns=['entity', 'label'])\n",
    "    i = 0\n",
    "    for ent in doc.ents:\n",
    "        if ent.text not in exceptions:\n",
    "            dt.loc[i] = [ent.text, ent.label_] \n",
    "            i = i +1\n",
    "        \n",
    "    dt = dt.reset_index()\n",
    "    dt = dt.groupby(['entity', 'label']).agg({'index' : 'count'}).sort_values('index', ascending=False).reset_index()\n",
    "    dt.columns = ['Entity', 'Type', '#Ocurrences']\n",
    "    dt = dt.set_index('Entity')\n",
    "    dt['Type'] = dt['Type'].apply(acrfull)\n",
    "    \n",
    "    dt = dt.sort_values('#Ocurrences', ascending=False) #sort before deleting duplicates\n",
    "    dt = dt[~dt.index.duplicated(keep='first')]                 \n",
    "    \n",
    "    #recognizing handlers\n",
    "    dt.loc[dt.index.str.startswith('@') , 'Type'] = 'Social Media Handler'\n",
    "    \n",
    "    #emojies - comparing it with list instead of all emojies for optimization\n",
    "    #dt.loc[dt.index.map(is_emoji) , 'Type'] = 'Emojie'\n",
    "    \n",
    "    return dt.sort_values('#Ocurrences', ascending=False)"
   ]
  },
  {
   "cell_type": "markdown",
   "metadata": {},
   "source": [
    "# 4. Top 30 named entities in the whole corpus"
   ]
  },
  {
   "cell_type": "code",
   "execution_count": 5,
   "metadata": {},
   "outputs": [
    {
     "data": {
      "text/plain": [
       "29208384"
      ]
     },
     "execution_count": 5,
     "metadata": {},
     "output_type": "execute_result"
    }
   ],
   "source": [
    "text = ' '.join(df['Text'])\n",
    "len(text)"
   ]
  },
  {
   "cell_type": "code",
   "execution_count": null,
   "metadata": {},
   "outputs": [],
   "source": [
    "extract_named_entities(' '.join(df['Text'])).head(30)"
   ]
  },
  {
   "cell_type": "markdown",
   "metadata": {},
   "source": [
    "## 4.1 Top 30 named entities in Advertencias"
   ]
  },
  {
   "cell_type": "code",
   "execution_count": null,
   "metadata": {},
   "outputs": [],
   "source": [
    "dfg = df[df[\"Type\"] == \"advertencia\"]\n",
    "extract_named_entities(' '.join(dfg['Text'])).head(30)"
   ]
  },
  {
   "cell_type": "markdown",
   "metadata": {},
   "source": [
    "## 4.2 Top 30 named entities in Seguimiento"
   ]
  },
  {
   "cell_type": "code",
   "execution_count": 6,
   "metadata": {},
   "outputs": [
    {
     "data": {
      "text/html": [
       "<div>\n",
       "<style scoped>\n",
       "    .dataframe tbody tr th:only-of-type {\n",
       "        vertical-align: middle;\n",
       "    }\n",
       "\n",
       "    .dataframe tbody tr th {\n",
       "        vertical-align: top;\n",
       "    }\n",
       "\n",
       "    .dataframe thead th {\n",
       "        text-align: right;\n",
       "    }\n",
       "</style>\n",
       "<table border=\"1\" class=\"dataframe\">\n",
       "  <thead>\n",
       "    <tr style=\"text-align: right;\">\n",
       "      <th></th>\n",
       "      <th>Type</th>\n",
       "      <th>#Ocurrences</th>\n",
       "    </tr>\n",
       "    <tr>\n",
       "      <th>Entity</th>\n",
       "      <th></th>\n",
       "      <th></th>\n",
       "    </tr>\n",
       "  </thead>\n",
       "  <tbody>\n",
       "    <tr>\n",
       "      <th>DERECHOS HUMANOS</th>\n",
       "      <td>MISC: Miscellaneous entities, e.g. events, nationalities, products or works of art</td>\n",
       "      <td>77</td>\n",
       "    </tr>\n",
       "    <tr>\n",
       "      <th>PERSONAS DEFENSORAS</th>\n",
       "      <td>ORG: Companies, agencies, institutions, etc.</td>\n",
       "      <td>76</td>\n",
       "    </tr>\n",
       "    <tr>\n",
       "      <th>AT</th>\n",
       "      <td>ORG: Companies, agencies, institutions, etc.</td>\n",
       "      <td>60</td>\n",
       "    </tr>\n",
       "    <tr>\n",
       "      <th>Nacional</th>\n",
       "      <td>MISC: Miscellaneous entities, e.g. events, nationalities, products or works of art</td>\n",
       "      <td>50</td>\n",
       "    </tr>\n",
       "    <tr>\n",
       "      <th>LÍDERES</th>\n",
       "      <td>MISC: Miscellaneous entities, e.g. events, nationalities, products or works of art</td>\n",
       "      <td>49</td>\n",
       "    </tr>\n",
       "    <tr>\n",
       "      <th>Plantilla Vigente</th>\n",
       "      <td>MISC: Miscellaneous entities, e.g. events, nationalities, products or works of art</td>\n",
       "      <td>48</td>\n",
       "    </tr>\n",
       "    <tr>\n",
       "      <th>Defensoría del Pueblo</th>\n",
       "      <td>MISC: Miscellaneous entities, e.g. events, nationalities, products or works of art</td>\n",
       "      <td>46</td>\n",
       "    </tr>\n",
       "    <tr>\n",
       "      <th>Alertas Tempranas</th>\n",
       "      <td>ORG: Companies, agencies, institutions, etc.</td>\n",
       "      <td>38</td>\n",
       "    </tr>\n",
       "    <tr>\n",
       "      <th>Agrario</th>\n",
       "      <td>LOC: Non-GPE locations, mountain ranges, bodies of water</td>\n",
       "      <td>34</td>\n",
       "    </tr>\n",
       "    <tr>\n",
       "      <th>PNIS</th>\n",
       "      <td>ORG: Companies, agencies, institutions, etc.</td>\n",
       "      <td>33</td>\n",
       "    </tr>\n",
       "    <tr>\n",
       "      <th>Estado</th>\n",
       "      <td>LOC: Non-GPE locations, mountain ranges, bodies of water</td>\n",
       "      <td>30</td>\n",
       "    </tr>\n",
       "    <tr>\n",
       "      <th>Ministerio del Interior</th>\n",
       "      <td>LOC: Non-GPE locations, mountain ranges, bodies of water</td>\n",
       "      <td>29</td>\n",
       "    </tr>\n",
       "    <tr>\n",
       "      <th>Víctimas</th>\n",
       "      <td>LOC: Non-GPE locations, mountain ranges, bodies of water</td>\n",
       "      <td>29</td>\n",
       "    </tr>\n",
       "    <tr>\n",
       "      <th>Suarez</th>\n",
       "      <td>LOC: Non-GPE locations, mountain ranges, bodies of water</td>\n",
       "      <td>24</td>\n",
       "    </tr>\n",
       "    <tr>\n",
       "      <th>INFORME SEGUIMIENTO AT</th>\n",
       "      <td>MISC: Miscellaneous entities, e.g. events, nationalities, products or works of art</td>\n",
       "      <td>24</td>\n",
       "    </tr>\n",
       "    <tr>\n",
       "      <th>Colombia</th>\n",
       "      <td>LOC: Non-GPE locations, mountain ranges, bodies of water</td>\n",
       "      <td>23</td>\n",
       "    </tr>\n",
       "    <tr>\n",
       "      <th>INFORME SEGUIMIENTO</th>\n",
       "      <td>MISC: Miscellaneous entities, e.g. events, nationalities, products or works of art</td>\n",
       "      <td>21</td>\n",
       "    </tr>\n",
       "    <tr>\n",
       "      <th>Campesino</th>\n",
       "      <td>LOC: Non-GPE locations, mountain ranges, bodies of water</td>\n",
       "      <td>21</td>\n",
       "    </tr>\n",
       "    <tr>\n",
       "      <th>laDefensoría del Pueblo</th>\n",
       "      <td>ORG: Companies, agencies, institutions, etc.</td>\n",
       "      <td>20</td>\n",
       "    </tr>\n",
       "    <tr>\n",
       "      <th>Tlerralta</th>\n",
       "      <td>LOC: Non-GPE locations, mountain ranges, bodies of water</td>\n",
       "      <td>20</td>\n",
       "    </tr>\n",
       "    <tr>\n",
       "      <th>Temprana</th>\n",
       "      <td>LOC: Non-GPE locations, mountain ranges, bodies of water</td>\n",
       "      <td>19</td>\n",
       "    </tr>\n",
       "    <tr>\n",
       "      <th>Tumaco</th>\n",
       "      <td>LOC: Non-GPE locations, mountain ranges, bodies of water</td>\n",
       "      <td>19</td>\n",
       "    </tr>\n",
       "    <tr>\n",
       "      <th>Cauca</th>\n",
       "      <td>LOC: Non-GPE locations, mountain ranges, bodies of water</td>\n",
       "      <td>18</td>\n",
       "    </tr>\n",
       "    <tr>\n",
       "      <th>www.defensoria.gov.co Plantilla Vigente</th>\n",
       "      <td>ORG: Companies, agencies, institutions, etc.</td>\n",
       "      <td>18</td>\n",
       "    </tr>\n",
       "    <tr>\n",
       "      <th>Caldas</th>\n",
       "      <td>LOC: Non-GPE locations, mountain ranges, bodies of water</td>\n",
       "      <td>18</td>\n",
       "    </tr>\n",
       "    <tr>\n",
       "      <th>Tierralta</th>\n",
       "      <td>LOC: Non-GPE locations, mountain ranges, bodies of water</td>\n",
       "      <td>18</td>\n",
       "    </tr>\n",
       "    <tr>\n",
       "      <th>Comunitarios</th>\n",
       "      <td>LOC: Non-GPE locations, mountain ranges, bodies of water</td>\n",
       "      <td>17</td>\n",
       "    </tr>\n",
       "    <tr>\n",
       "      <th>Derechos Humanos</th>\n",
       "      <td>MISC: Miscellaneous entities, e.g. events, nationalities, products or works of art</td>\n",
       "      <td>17</td>\n",
       "    </tr>\n",
       "    <tr>\n",
       "      <th>Indígenas</th>\n",
       "      <td>LOC: Non-GPE locations, mountain ranges, bodies of water</td>\n",
       "      <td>17</td>\n",
       "    </tr>\n",
       "    <tr>\n",
       "      <th>Norte de Santander</th>\n",
       "      <td>LOC: Non-GPE locations, mountain ranges, bodies of water</td>\n",
       "      <td>16</td>\n",
       "    </tr>\n",
       "  </tbody>\n",
       "</table>\n",
       "</div>"
      ],
      "text/plain": [
       "                                                                                                                       Type  \\\n",
       "Entity                                                                                                                        \n",
       "DERECHOS HUMANOS                         MISC: Miscellaneous entities, e.g. events, nationalities, products or works of art   \n",
       "PERSONAS DEFENSORAS                                                            ORG: Companies, agencies, institutions, etc.   \n",
       "AT                                                                             ORG: Companies, agencies, institutions, etc.   \n",
       "Nacional                                 MISC: Miscellaneous entities, e.g. events, nationalities, products or works of art   \n",
       "LÍDERES                                  MISC: Miscellaneous entities, e.g. events, nationalities, products or works of art   \n",
       "Plantilla Vigente                        MISC: Miscellaneous entities, e.g. events, nationalities, products or works of art   \n",
       "Defensoría del Pueblo                    MISC: Miscellaneous entities, e.g. events, nationalities, products or works of art   \n",
       "Alertas Tempranas                                                              ORG: Companies, agencies, institutions, etc.   \n",
       "Agrario                                                            LOC: Non-GPE locations, mountain ranges, bodies of water   \n",
       "PNIS                                                                           ORG: Companies, agencies, institutions, etc.   \n",
       "Estado                                                             LOC: Non-GPE locations, mountain ranges, bodies of water   \n",
       "Ministerio del Interior                                            LOC: Non-GPE locations, mountain ranges, bodies of water   \n",
       "Víctimas                                                           LOC: Non-GPE locations, mountain ranges, bodies of water   \n",
       "Suarez                                                             LOC: Non-GPE locations, mountain ranges, bodies of water   \n",
       "INFORME SEGUIMIENTO AT                   MISC: Miscellaneous entities, e.g. events, nationalities, products or works of art   \n",
       "Colombia                                                           LOC: Non-GPE locations, mountain ranges, bodies of water   \n",
       "INFORME SEGUIMIENTO                      MISC: Miscellaneous entities, e.g. events, nationalities, products or works of art   \n",
       "Campesino                                                          LOC: Non-GPE locations, mountain ranges, bodies of water   \n",
       "laDefensoría del Pueblo                                                        ORG: Companies, agencies, institutions, etc.   \n",
       "Tlerralta                                                          LOC: Non-GPE locations, mountain ranges, bodies of water   \n",
       "Temprana                                                           LOC: Non-GPE locations, mountain ranges, bodies of water   \n",
       "Tumaco                                                             LOC: Non-GPE locations, mountain ranges, bodies of water   \n",
       "Cauca                                                              LOC: Non-GPE locations, mountain ranges, bodies of water   \n",
       "www.defensoria.gov.co Plantilla Vigente                                        ORG: Companies, agencies, institutions, etc.   \n",
       "Caldas                                                             LOC: Non-GPE locations, mountain ranges, bodies of water   \n",
       "Tierralta                                                          LOC: Non-GPE locations, mountain ranges, bodies of water   \n",
       "Comunitarios                                                       LOC: Non-GPE locations, mountain ranges, bodies of water   \n",
       "Derechos Humanos                         MISC: Miscellaneous entities, e.g. events, nationalities, products or works of art   \n",
       "Indígenas                                                          LOC: Non-GPE locations, mountain ranges, bodies of water   \n",
       "Norte de Santander                                                 LOC: Non-GPE locations, mountain ranges, bodies of water   \n",
       "\n",
       "                                         #Ocurrences  \n",
       "Entity                                                \n",
       "DERECHOS HUMANOS                                  77  \n",
       "PERSONAS DEFENSORAS                               76  \n",
       "AT                                                60  \n",
       "Nacional                                          50  \n",
       "LÍDERES                                           49  \n",
       "Plantilla Vigente                                 48  \n",
       "Defensoría del Pueblo                             46  \n",
       "Alertas Tempranas                                 38  \n",
       "Agrario                                           34  \n",
       "PNIS                                              33  \n",
       "Estado                                            30  \n",
       "Ministerio del Interior                           29  \n",
       "Víctimas                                          29  \n",
       "Suarez                                            24  \n",
       "INFORME SEGUIMIENTO AT                            24  \n",
       "Colombia                                          23  \n",
       "INFORME SEGUIMIENTO                               21  \n",
       "Campesino                                         21  \n",
       "laDefensoría del Pueblo                           20  \n",
       "Tlerralta                                         20  \n",
       "Temprana                                          19  \n",
       "Tumaco                                            19  \n",
       "Cauca                                             18  \n",
       "www.defensoria.gov.co Plantilla Vigente           18  \n",
       "Caldas                                            18  \n",
       "Tierralta                                         18  \n",
       "Comunitarios                                      17  \n",
       "Derechos Humanos                                  17  \n",
       "Indígenas                                         17  \n",
       "Norte de Santander                                16  "
      ]
     },
     "execution_count": 6,
     "metadata": {},
     "output_type": "execute_result"
    }
   ],
   "source": [
    "dfg = df[df[\"Type\"] == \"seguimiento\"]\n",
    "extract_named_entities(' '.join(dfg['Text'])).head(30)"
   ]
  },
  {
   "cell_type": "markdown",
   "metadata": {},
   "source": [
    "# 5. Exporting to html"
   ]
  },
  {
   "cell_type": "code",
   "execution_count": null,
   "metadata": {},
   "outputs": [],
   "source": [
    "!jupyter nbconvert --to html 3"
   ]
  }
 ],
 "metadata": {
  "kernelspec": {
   "display_name": "Python 3 (ipykernel)",
   "language": "python",
   "name": "python3"
  },
  "language_info": {
   "codemirror_mode": {
    "name": "ipython",
    "version": 3
   },
   "file_extension": ".py",
   "mimetype": "text/x-python",
   "name": "python",
   "nbconvert_exporter": "python",
   "pygments_lexer": "ipython3",
   "version": "3.9.7"
  }
 },
 "nbformat": 4,
 "nbformat_minor": 4
}
