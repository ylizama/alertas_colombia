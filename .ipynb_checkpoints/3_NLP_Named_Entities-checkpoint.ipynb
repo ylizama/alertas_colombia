{
 "cells": [
  {
   "cell_type": "markdown",
   "metadata": {},
   "source": [
    "# 1. Installs, Imports and Settings"
   ]
  },
  {
   "cell_type": "code",
   "execution_count": 5,
   "metadata": {
    "scrolled": true
   },
   "outputs": [],
   "source": [
    "#!pip install spacy==3.1.1 \n",
    "#restart runtime after this\n",
    "#!python -m spacy download en_core_web_sm\n",
    "\n",
    "import spacy\n",
    "nlp = spacy.load(\"en_core_web_lg\")\n",
    "\n",
    "import csv\n",
    "import pandas as pd\n",
    "pd.options.display.max_rows\n",
    "pd.set_option('display.max_colwidth', None)\n",
    "\n",
    "#!pip install emoji\n",
    "from emoji import UNICODE_EMOJI"
   ]
  },
  {
   "cell_type": "markdown",
   "metadata": {},
   "source": [
    "#  2. Reading files "
   ]
  },
  {
   "cell_type": "code",
   "execution_count": 7,
   "metadata": {},
   "outputs": [
    {
     "name": "stdout",
     "output_type": "stream",
     "text": [
      "Size of Data: 666\n",
      "\n",
      "Columns :  ['Filename', 'Text', 'Type', 'Year']\n"
     ]
    }
   ],
   "source": [
    "df = pd.read_csv('data/alertas.csv', sep=\"|\")\n",
    "df = df[df[\"Text\"] != \" \"]\n",
    "print(\"Size of Data:\", len(df))\n",
    "print()\n",
    "print(\"Columns : \", list(df.columns))"
   ]
  },
  {
   "cell_type": "markdown",
   "metadata": {},
   "source": [
    "# 3. Functions"
   ]
  },
  {
   "cell_type": "code",
   "execution_count": 8,
   "metadata": {},
   "outputs": [],
   "source": [
    "exceptions = ['⠀ ⠀',  '⠀', '⠀ ⠀', '⠀⠀',  '⠀','#####']\n",
    "\n",
    "emojies  = ['😳','👏', '✨','🤡','😳','🕊']\n",
    "\n",
    "def is_emoji(s):\n",
    "    return s in emojies\n",
    "\n",
    "def acrfull(x):\n",
    "    return ': '.join([x, spacy.explain(x)])\n",
    "\n",
    "def extract_named_entities(text):    \n",
    "    nlp.max_length = len(text) + 100\n",
    "    doc = nlp(text)\n",
    "\n",
    "    dt = pd.DataFrame(columns=['entity', 'label'])\n",
    "    i = 0\n",
    "    for ent in doc.ents:\n",
    "        if ent.text not in exceptions:\n",
    "            dt.loc[i] = [ent.text, ent.label_] \n",
    "            i = i +1\n",
    "        \n",
    "    dt = dt.reset_index()\n",
    "    dt = dt.groupby(['entity', 'label']).agg({'index' : 'count'}).sort_values('index', ascending=False).reset_index()\n",
    "    dt.columns = ['Entity', 'Type', '#Ocurrences']\n",
    "    dt = dt.set_index('Entity')\n",
    "    dt['Type'] = dt['Type'].apply(acrfull)\n",
    "    \n",
    "    dt = dt.sort_values('#Ocurrences', ascending=False) #sort before deleting duplicates\n",
    "    dt = dt[~dt.index.duplicated(keep='first')]                 \n",
    "    \n",
    "    #recognizing handlers\n",
    "    dt.loc[dt.index.str.startswith('@') , 'Type'] = 'Social Media Handler'\n",
    "    \n",
    "    #emojies - comparing it with list instead of all emojies for optimization\n",
    "    #dt.loc[dt.index.map(is_emoji) , 'Type'] = 'Emojie'\n",
    "    \n",
    "    return dt.sort_values('#Ocurrences', ascending=False)"
   ]
  },
  {
   "cell_type": "markdown",
   "metadata": {},
   "source": [
    "# 4. Top 30 named entities in the whole corpus"
   ]
  },
  {
   "cell_type": "code",
   "execution_count": null,
   "metadata": {},
   "outputs": [],
   "source": [
    "extract_named_entities(' '.join(df['Text'])).head(30)"
   ]
  },
  {
   "cell_type": "markdown",
   "metadata": {},
   "source": [
    "## 4.1 Top 30 named entities in Advertencias"
   ]
  },
  {
   "cell_type": "code",
   "execution_count": null,
   "metadata": {},
   "outputs": [],
   "source": [
    "dfg = df[df[\"Type\"] == \"advertencia\"]\n",
    "extract_named_entities(' '.join(dfg['Text'])).head(30)"
   ]
  },
  {
   "cell_type": "markdown",
   "metadata": {},
   "source": [
    "## 4.2 Top 30 named entities in Seguimiento"
   ]
  },
  {
   "cell_type": "code",
   "execution_count": null,
   "metadata": {},
   "outputs": [],
   "source": [
    "dfg = df[df[\"Type\"] == \"seguimiento\"]\n",
    "extract_named_entities(' '.join(dfg['Text'])).head(30)"
   ]
  },
  {
   "cell_type": "markdown",
   "metadata": {},
   "source": [
    "# 5. Exporting to html"
   ]
  },
  {
   "cell_type": "code",
   "execution_count": null,
   "metadata": {},
   "outputs": [],
   "source": [
    "!jupyter nbconvert --to html 3"
   ]
  },
  {
   "cell_type": "code",
   "execution_count": null,
   "metadata": {},
   "outputs": [],
   "source": []
  }
 ],
 "metadata": {
  "kernelspec": {
   "display_name": "Python 3 (ipykernel)",
   "language": "python",
   "name": "python3"
  },
  "language_info": {
   "codemirror_mode": {
    "name": "ipython",
    "version": 3
   },
   "file_extension": ".py",
   "mimetype": "text/x-python",
   "name": "python",
   "nbconvert_exporter": "python",
   "pygments_lexer": "ipython3",
   "version": "3.9.7"
  }
 },
 "nbformat": 4,
 "nbformat_minor": 4
}
