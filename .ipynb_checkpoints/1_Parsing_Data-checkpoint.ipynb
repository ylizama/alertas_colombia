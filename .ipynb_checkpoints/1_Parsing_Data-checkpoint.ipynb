{
 "cells": [
  {
   "cell_type": "markdown",
   "id": "ab54fbc5",
   "metadata": {},
   "source": [
    "# 1. Installs, Settings, Imports"
   ]
  },
  {
   "cell_type": "code",
   "execution_count": 1,
   "id": "4ecd1f37",
   "metadata": {},
   "outputs": [],
   "source": [
    "#install pyDF2\n",
    "#!pip install PyPDF2"
   ]
  },
  {
   "cell_type": "code",
   "execution_count": 2,
   "id": "384ef11e",
   "metadata": {},
   "outputs": [],
   "source": [
    "# importing all the required modules\n",
    "import PyPDF2\n",
    "from PyPDF2 import PdfReader\n",
    "import os, glob, pandas as pd, re"
   ]
  },
  {
   "cell_type": "code",
   "execution_count": 3,
   "id": "2c2be0cf",
   "metadata": {},
   "outputs": [],
   "source": [
    "pd.set_option('display.max_columns', None)  # or 1000\n",
    "pd.set_option('display.max_rows', None)  # or 1000\n",
    "pd.set_option('display.max_colwidth', None)  # or 199"
   ]
  },
  {
   "cell_type": "markdown",
   "id": "df1c2731",
   "metadata": {},
   "source": [
    "# 1.Import data "
   ]
  },
  {
   "cell_type": "code",
   "execution_count": null,
   "id": "43023de7",
   "metadata": {
    "scrolled": true
   },
   "outputs": [
    {
     "name": "stderr",
     "output_type": "stream",
     "text": [
      "unknown widths : \n",
      "[0, IndirectObject(242, 0, 2627409008576)]\n",
      "unknown widths : \n",
      "[0, IndirectObject(245, 0, 2627409008576)]\n",
      "unknown widths : \n",
      "[0, IndirectObject(248, 0, 2627409008576)]\n",
      "unknown widths : \n",
      "[0, IndirectObject(251, 0, 2627409008576)]\n",
      "unknown widths : \n",
      "[0, IndirectObject(254, 0, 2627409008576)]\n",
      "unknown widths : \n",
      "[0, IndirectObject(257, 0, 2627409008576)]\n",
      "unknown widths : \n",
      "[0, IndirectObject(260, 0, 2627409008576)]\n",
      "unknown widths : \n",
      "[0, IndirectObject(263, 0, 2627409008576)]\n",
      "unknown widths : \n",
      "[0, IndirectObject(266, 0, 2627409008576)]\n",
      "unknown widths : \n",
      "[0, IndirectObject(269, 0, 2627409008576)]\n",
      "unknown widths : \n",
      "[0, IndirectObject(272, 0, 2627409008576)]\n",
      "unknown widths : \n",
      "[0, IndirectObject(275, 0, 2627409008576)]\n",
      "unknown widths : \n",
      "[0, IndirectObject(278, 0, 2627409008576)]\n",
      "unknown widths : \n",
      "[0, IndirectObject(281, 0, 2627409008576)]\n"
     ]
    }
   ],
   "source": [
    "files_info = []\n",
    "for filename in glob.iglob('data/**/*.pdf',\n",
    "                           recursive = True):\n",
    "    try:\n",
    "        reader = PdfReader(filename)\n",
    "        text = \"\"\n",
    "        for page in reader.pages:\n",
    "            text += page.extract_text() + \"\\n\"\n",
    "        files_info.append([filename, text])\n",
    "    except:\n",
    "        print(filename)\n",
    "    \n",
    "print(len(files_info))"
   ]
  },
  {
   "cell_type": "code",
   "execution_count": null,
   "id": "b58ebe05",
   "metadata": {},
   "outputs": [],
   "source": [
    "df = pd.DataFrame(files_info, columns = ['Filename', 'Text'])"
   ]
  },
  {
   "cell_type": "code",
   "execution_count": null,
   "id": "6ab7947e",
   "metadata": {},
   "outputs": [],
   "source": [
    "print(len(df))"
   ]
  },
  {
   "cell_type": "code",
   "execution_count": null,
   "id": "da817007",
   "metadata": {},
   "outputs": [],
   "source": [
    "df.head()"
   ]
  },
  {
   "cell_type": "markdown",
   "id": "11811405",
   "metadata": {},
   "source": [
    "# 2.  Prepare data"
   ]
  },
  {
   "cell_type": "code",
   "execution_count": null,
   "id": "eb3ec338",
   "metadata": {},
   "outputs": [],
   "source": [
    "df['Type'] =  df['Filename'].apply(lambda x: \"advertencia\" if x.startswith(\"data\\\\advertencia_PDF\") else \"seguimiento\")"
   ]
  },
  {
   "cell_type": "code",
   "execution_count": null,
   "id": "5120b3f7",
   "metadata": {},
   "outputs": [],
   "source": [
    "def get_year (text):\n",
    "    try: \n",
    "        if text.startswith(\"data\\\\advertencia_PDF\\\\AT \"):\n",
    "            text = text.split(\"data\\\\advertencia_PDF\\\\AT \")[1][:4]\n",
    "            \n",
    "        elif text.startswith(\"data\\\\advertencia_PDF\\\\IR \"):\n",
    "            text = text.split(\"data\\\\advertencia_PDF\\\\IR \")[1][:4]\n",
    "           \n",
    "            \n",
    "        elif text.startswith(\"data\\\\seguimiento\\\\\"):\n",
    "            text = text.split(\"data\\\\seguimiento\\\\\")[1][:4]\n",
    "            \n",
    "        else:\n",
    "            text = \"\"\n",
    "        return text\n",
    "    except:\n",
    "        print(text)\n",
    "\n",
    "def clean_text(text):\n",
    "    text = text.replace ('\\n', ' ')\n",
    "    text = re.sub(' +', ' ', text)\n",
    "    return text"
   ]
  },
  {
   "cell_type": "code",
   "execution_count": null,
   "id": "5052a51a",
   "metadata": {},
   "outputs": [],
   "source": [
    "df['Year'] =  df['Filename'].apply(get_year)"
   ]
  },
  {
   "cell_type": "code",
   "execution_count": null,
   "id": "109dddd3",
   "metadata": {},
   "outputs": [],
   "source": [
    "df['Text'] =  df['Text'].apply(clean_text)"
   ]
  },
  {
   "cell_type": "code",
   "execution_count": null,
   "id": "3be396a1",
   "metadata": {},
   "outputs": [],
   "source": [
    "df.head()"
   ]
  },
  {
   "cell_type": "code",
   "execution_count": null,
   "id": "2263ee4a",
   "metadata": {},
   "outputs": [],
   "source": [
    "len(df[df['Year'].isna()])"
   ]
  },
  {
   "cell_type": "code",
   "execution_count": null,
   "id": "e2e6de23",
   "metadata": {},
   "outputs": [],
   "source": [
    "df['Year'].unique()"
   ]
  },
  {
   "cell_type": "code",
   "execution_count": null,
   "id": "2cb0f498",
   "metadata": {},
   "outputs": [],
   "source": [
    "df.columns"
   ]
  },
  {
   "cell_type": "code",
   "execution_count": null,
   "id": "ae1bf1a2",
   "metadata": {},
   "outputs": [],
   "source": [
    "len(df)"
   ]
  },
  {
   "cell_type": "code",
   "execution_count": null,
   "id": "7a245d84",
   "metadata": {},
   "outputs": [],
   "source": [
    "df.Type.unique()"
   ]
  },
  {
   "cell_type": "code",
   "execution_count": null,
   "id": "eaa33aae",
   "metadata": {
    "scrolled": true
   },
   "outputs": [],
   "source": [
    "#adding manual entries - \n",
    "df.append({'Filename' : 'data\\\\advertencia_PDF\\\\AT 2021\\\\AT N° 007-2021 CAU-Caloto.pdf', \n",
    "          'Text' : ' ', \n",
    "           'Type' : 'advertencia'\n",
    "          'Year':'2021'})\n",
    "\n",
    "df.append({'Filename' : 'data\\\\advertencia_PDF\\\\AT 2021\\\\AT N° 008-2021 BOY-Pajarito, Paya, Pisba CAS-Aguazul,La Salina,Sácama,Támara y Yopal.pdf', \n",
    "          'Text' : ' ', \n",
    "           'Type' : 'advertencia'\n",
    "          'Year':'2021'})\n",
    "df.append({'Filename' : 'data\\\\advertencia_PDF\\\\AT 2021\\\\AT N° 010-2021 Bogotá DC.pdf', \n",
    "          'Text' : ' ', \n",
    "           'Type' : 'advertencia'\n",
    "          'Year':'2021'})\n",
    "df.append({'Filename' : 'data\\\\advertencia_PDF\\\\AT 2021\\\\AT N° 014-2021 VAL-Restrepo.pdf', \n",
    "          'Text' : ' ', \n",
    "           'Type' : 'advertencia'\n",
    "          'Year':'2021'})\n",
    "df.append({'Filename' : 'data\\\\advertencia_PDF\\\\AT 2021\\\\AT N° 029-2021 CHO-San José del Palmar.pdf', \n",
    "          'Text' : ' ', \n",
    "           'Type' : 'advertencia'\n",
    "          'Year':'2021'})\n",
    "df.append({'Filename' : 'data\\\\advertencia_PDF\\\\IR 2010PDF\\\\IR N° 010-10 CHOCÓ-El Litoral del San Juan.pdf', \n",
    "          'Text' : ' ', \n",
    "           'Type' : 'advertencia'\n",
    "          'Year':'2010'})\n",
    "df.append({'Filename' : 'data\\\\advertencia_PDF\\\\IR 2010PDF\\\\IR N° 011-10 AI CORDOBA-Lorica, Moñitos, San Antero y San Bernardo del Viento.pdf', \n",
    "          'Text' : ' ', \n",
    "           'Type' : 'advertencia'\n",
    "          'Year':'2010'})\n",
    "df.append({'Filename' : 'data\\\\advertencia_PDF\\\\IR 2010PDF\\\\IR N° 012-10 CÓRDOBA-La Apartada.pdf', \n",
    "          'Text' : \" \", \n",
    "           'Type' : 'advertencia'\n",
    "          'Year':'2010'})"
   ]
  },
  {
   "cell_type": "markdown",
   "id": "116d6266",
   "metadata": {},
   "source": [
    "# 3. Save file"
   ]
  },
  {
   "cell_type": "code",
   "execution_count": null,
   "id": "c849ac56",
   "metadata": {},
   "outputs": [],
   "source": [
    "df.to_csv(\"data/alertas.csv\", sep=\"|\", index = False)"
   ]
  },
  {
   "cell_type": "code",
   "execution_count": null,
   "id": "ebc81c62",
   "metadata": {},
   "outputs": [],
   "source": [
    "df = pd.read_csv(\"data/alertas.csv\", sep=\"|\")\n",
    "len(df)"
   ]
  },
  {
   "cell_type": "code",
   "execution_count": null,
   "id": "1016483b",
   "metadata": {},
   "outputs": [],
   "source": [
    "df.head()"
   ]
  },
  {
   "cell_type": "code",
   "execution_count": null,
   "id": "47f8853e",
   "metadata": {},
   "outputs": [],
   "source": []
  },
  {
   "cell_type": "code",
   "execution_count": null,
   "id": "67fc3713",
   "metadata": {},
   "outputs": [],
   "source": []
  }
 ],
 "metadata": {
  "kernelspec": {
   "display_name": "Python 3 (ipykernel)",
   "language": "python",
   "name": "python3"
  },
  "language_info": {
   "codemirror_mode": {
    "name": "ipython",
    "version": 3
   },
   "file_extension": ".py",
   "mimetype": "text/x-python",
   "name": "python",
   "nbconvert_exporter": "python",
   "pygments_lexer": "ipython3",
   "version": "3.9.7"
  }
 },
 "nbformat": 4,
 "nbformat_minor": 5
}
