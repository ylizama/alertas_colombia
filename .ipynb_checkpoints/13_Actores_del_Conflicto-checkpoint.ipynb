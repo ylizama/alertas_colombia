{
 "cells": [
  {
   "cell_type": "markdown",
   "id": "0fd4b156",
   "metadata": {},
   "source": [
    "# 1. Install, Imports, Settings"
   ]
  },
  {
   "cell_type": "code",
   "execution_count": 25,
   "id": "2550cf0f",
   "metadata": {
    "scrolled": true
   },
   "outputs": [],
   "source": [
    "import pandas as pd\n",
    "import numpy as np\n",
    "from matplotlib import pyplot as plt\n",
    "import seaborn as sns\n",
    "import spacy\n",
    "from spacy.lang.es.examples import sentences \n",
    "#!python -m spacy download es_core_news_md\n",
    "nlp = spacy.load(\"es_core_news_md\")\n",
    "from collections import Counter\n",
    "\n",
    "import string, math"
   ]
  },
  {
   "cell_type": "code",
   "execution_count": 26,
   "id": "8a2612f4",
   "metadata": {},
   "outputs": [],
   "source": [
    "plt.rcParams[\"figure.figsize\"] = [10, 6]\n",
    "%config InlineBackend.figure_format = 'retina'\n",
    "\n",
    "punct = string.punctuation +'”“'"
   ]
  },
  {
   "cell_type": "markdown",
   "id": "e21e3781",
   "metadata": {},
   "source": [
    "# 2. Loading data"
   ]
  },
  {
   "cell_type": "code",
   "execution_count": null,
   "id": "2fd3dc51",
   "metadata": {},
   "outputs": [],
   "source": [
    "df = pd.read_csv(\"data/alertas_NNAJ_keywords_qwe.csv\", sep=\"|\")\n",
    "print(\"Total Number of documents:\", len(df))\n",
    "print(\"Number of documents with no accesible text (pass protected):\", len(df[df['Text'].isnull()]))\n",
    "print(\"Number of documents with accesible text:\",  len(df[df['Text'].notnull()]))\n",
    "print(\"Number of documents mentioning NNAJ:\",  len(df[df['NNAJ'] != \"[]\"]))"
   ]
  },
  {
   "cell_type": "code",
   "execution_count": null,
   "id": "1fa63b1b",
   "metadata": {},
   "outputs": [],
   "source": [
    "df.drop(['NNAJ_clean_text', 'NNAJ_keywords', 'NNAJ_keywords2','NNAJ_keywords3'], axis = 1).head()"
   ]
  },
  {
   "cell_type": "markdown",
   "id": "1b51a96a",
   "metadata": {},
   "source": [
    "# 3. Basic Text Cleaning "
   ]
  },
  {
   "cell_type": "code",
   "execution_count": null,
   "id": "c996a6f9",
   "metadata": {},
   "outputs": [],
   "source": [
    "df.loc[25][\"Text\"]"
   ]
  },
  {
   "cell_type": "markdown",
   "id": "f758cbca",
   "metadata": {},
   "source": [
    "# 4. Extracting Actores del Conflicto"
   ]
  },
  {
   "cell_type": "code",
   "execution_count": null,
   "id": "5a26dfc3",
   "metadata": {},
   "outputs": [],
   "source": [
    "#https://es.wikipedia.org/wiki/C%C3%A1rtel_(organizaci%C3%B3n_il%C3%ADcita)#Colombia\n",
    "#https://es.wikipedia.org/wiki/Bandas_y_grupos_emergentes_en_Colombia\n",
    "#https://www.datos.gov.co/Mapas-Nacionales/Departamentos-y-municipios-de-Colombia/xdk5-pm3f"
   ]
  },
  {
   "cell_type": "code",
   "execution_count": null,
   "id": "7a40bcf2",
   "metadata": {},
   "outputs": [],
   "source": [
    "grupos = {\n",
    "    \"Grupo Armado Organizado\" : [\"GAO\"],\n",
    "    \"Grupo Armado Ilegal\" : [\"GAI\"],\n",
    "    \"Grupo Armado Organizado Residual\" : [\"GAOR\", \"GAO-R\", \"grupo armado organizado - residual\" ], \n",
    "    \"Ejército de Liberación Nacional\" : [\"ELN\"],\n",
    "    \"Autodefensas Gaitanistas de Colombia\" : [\"AGC\"],\n",
    "    \"Fuerzas Armadas Revolucionarias\" : [\"FARC\", ],\n",
    "    \"Grupo delincuencial organizado\" : [\"GDO\", ],\n",
    "    \"Ejército del Pueblo\" : [\"EP\"],\n",
    "    \"Jalisco Nueva Generación\": [],\n",
    "    \"Bandas Criminales\" : [\"BACRIM\", \"Bandas Emergentes\"],\n",
    "    \"Autodefensas Unidas de Colombia\" : [\"AUC\", ],\n",
    "    \"Grupos posdesmovilización\": [],\n",
    "    \"Ejército de Liberación Popular\": [\"EPL\"],\n",
    "    \"Clan del Golfo\" : [\"AGC\"],\n",
    "}\n",
    "\n",
    "children = [\"NNAJ\", \"niños\", \"niñas\", \"adolescentes\", \"jóvenes\", \"NNA\"]\n",
    "\n",
    "narco_grupos  = [\"Cartel del Amazonas\",  \n",
    "        \"Cartel de Los Nevados\",\n",
    "        \"Cartel de Bogotá\",\n",
    "        \"Cartel de Buga\",\n",
    "        \"Cartel de Medellín\",\n",
    "        \"Oficina de Envigado\",\n",
    "        \"Cartel de Cali\",\n",
    "        \"Cartel del Caquetá\",\n",
    "        \"Cartel del Norte del Valle\",\n",
    "        \"Los Rastrojos\",\n",
    "        \"Cartel de la Costa Atlántica\",\n",
    "        \"Cartel de La Guajira\",\n",
    "        \"Cartel del Cauca\",\n",
    "        \"Los Caparrapos\",\n",
    "        \"Los Paisas\",\n",
    "        \"Águilas Negras\",\n",
    "        \"Los Puntilleros\",\n",
    "        \"Ejército Revolucionario Popular Antisubversivo de Colombia\",\n",
    "        \"Los Pelusos\",\n",
    "        \"GDO Los Pachenca\",\n",
    "        \"Clan Gnecco Cerchar\",\n",
    "        \"Clan Bustamante\", \n",
    "        \"Activo Primer Frente\",\n",
    "        \"Segunda Marquetalia\", \n",
    "        \"Los Zetas\", \n",
    "        \"Cartel de Sinaloa\", \n",
    "        \"Oficina de Envigado\", \n",
    "        \"La Terraza\",\n",
    "        \"Robledo\",\n",
    "        \"Pachelly\",\n",
    "        \"La Sierra\", \n",
    "        \"Caicedo\", \n",
    "        \"Los Triana\",\n",
    "        \"Clan del Oriente\", \n",
    "        \"La Unión\",\n",
    "        \"Clan del Norte\",\n",
    "        \"Los Costeños\", \n",
    "        \"Los Pachencha\", \n",
    "        \"La Cordillera\",\n",
    "        \"La Gran Alianza\",\n",
    "        \"Banda Local\",\n",
    "        \"Norte del Valle\",\n",
    "        \"Los Chuckys\",\n",
    "        \"Los Chacales\",\n",
    "        \"La Constru\",\n",
    "        \"Los Caqueteños\"]\n",
    "\n",
    "POI = {\n",
    "    \"Evaristo Porras\": \"Papa Doc\",\n",
    "    \"Luis Agustín Caicedo Velandia\" : \"Don Lucho\", \n",
    "    \"Víctor Manuel Mejía Múnera\": \"Pablo Arauca\",\n",
    "    \"Miguel Ángel Mejía Múnera\": \"El Mellizo\",\n",
    "    \"Ramón Quintero\":\"\",\n",
    "    \"Pablo Escobar\" : \"El patrón\",\n",
    "    \"Gonzalo Rodríguez Gacha\": \"\",\n",
    "    \"Diego Fernando Murillo\": \"\",\n",
    "    \"Gilberto Rodríguez Orejuela\": \"El Ajedrecista\",\n",
    "    \"Miguel Rodríguez Orejuela\": \"\",\n",
    "    \"Leonidas Vargas\": \"El Rey de Caquetá\",\n",
    "    \"Luis Enrique Calle Serna\": \"\",\n",
    "    \"Wilber Varela\": \"\",\n",
    "    \"Alberto Orlandez Gamboa\": \"\", \n",
    "    \"Hermágoras González\": \"\",\n",
    "    \"Nicolás Rodríguez Bautista\" : \" Gabino \", \n",
    "    \"Iván Márquez\": \"\",\n",
    "    \"Gentil Duarte\": \"\",\n",
    "    \"Jorge Gnecco Cerchar\": \"\", \n",
    "    \"Jesús María Aguirre\" :\"Chucho Mercancía\",\n",
    "    \"Megateo\": \"\",  \n",
    "    \"Vicente Castaño\": \"\", \n",
    "    \"Emiliano Alcides Osorio\": \" Caín \",\n",
    "    \"Edgar Bustamante\" : \"El Yuca\",\n",
    "    \"Manuel Marulanda Vélez\" :\" Tirofijo \",     \n",
    "    \"Jorge Briceño Suarez Mono\": \" Jojoy \",\n",
    "    \"Dairo Antonio Úsuga David\": \"\",\n",
    "    \"Salvatore Mancuso\": \"\",\n",
    "    \"Rodrigo Tovar\": \"\",\n",
    "    \"Carlos Castaño Gil\": \"\",\n",
    "    \"Justo Pastor Perafán\": \"Don Pepe\"\n",
    "}\n",
    "\n",
    "loc = pd.read_csv(\"resources/Departamentos_y_municipios_de_Colombia.csv\")\n",
    "loc.head()"
   ]
  },
  {
   "cell_type": "code",
   "execution_count": null,
   "id": "e0aa7307",
   "metadata": {},
   "outputs": [],
   "source": [
    "df = df[df['NNAJ'] != \"[]\"]"
   ]
  },
  {
   "cell_type": "markdown",
   "id": "c1b4710f",
   "metadata": {},
   "source": [
    "# 4.2. Extract Actors"
   ]
  },
  {
   "cell_type": "code",
   "execution_count": null,
   "id": "e28d4da3",
   "metadata": {},
   "outputs": [],
   "source": [
    "i = 0\n",
    "def replace_accents(text):\n",
    "    return text.replace('á', 'a').replace('é', 'e').replace('í', 'i').replace('ó', 'o').replace('ú', 'u')\n",
    "\n",
    "def extract_actors(text):\n",
    "    if text != text:\n",
    "        return []\n",
    "    \n",
    "    entities  = []\n",
    "    temp_text = replace_accents(text.lower())\n",
    "    \n",
    "    #grupos\n",
    "    for key, value in grupos.items():\n",
    "        temp_key =  replace_accents(key.lower())\n",
    "        if temp_key in temp_text: \n",
    "                entities += [key] * temp_text.count(temp_key)\n",
    "        for v in value:\n",
    "            if v == \"\":\n",
    "                temp_value = replace_accents(v.lower()) if v !=\"\" else \"\"\n",
    "                if temp_value in temp_text:\n",
    "                    entities += [v] * temp_text.count(temp_value)\n",
    "                \n",
    "    #narco_grupos           \n",
    "    for value in narco_grupos:\n",
    "        if replace_accents(value.lower()) in temp_text:\n",
    "            entities += [value] * temp_text.count(replace_accents(value.lower()))\n",
    "    \n",
    "    doc = nlp(text)\n",
    "    for token in doc.ents:\n",
    "          if (token.label_ == \"ORG\" and token.label_ not in entities):\n",
    "            entities.append(token.text)\n",
    "    print(\"*\")\n",
    "    return entities\n",
    "\n",
    "def merge_text(text):\n",
    "    if type(text) == str:\n",
    "        text = text.strip(\"']['\").split(\"', '\")\n",
    "    \n",
    "    text = ' '.join(text)                    \n",
    "    return text"
   ]
  },
  {
   "cell_type": "code",
   "execution_count": null,
   "id": "b213f525",
   "metadata": {},
   "outputs": [],
   "source": [
    "df['NNAJ_Text'] = df['NNAJ'].apply(merge_text)"
   ]
  },
  {
   "cell_type": "code",
   "execution_count": null,
   "id": "1a69b070",
   "metadata": {
    "scrolled": true
   },
   "outputs": [],
   "source": [
    "df[\"Actors_NNAJ\"] = df[\"NNAJ_Text\"].apply(extract_actors)"
   ]
  },
  {
   "cell_type": "code",
   "execution_count": null,
   "id": "b6293327",
   "metadata": {},
   "outputs": [],
   "source": [
    "df.columns"
   ]
  },
  {
   "cell_type": "code",
   "execution_count": null,
   "id": "26a0f4e3",
   "metadata": {},
   "outputs": [],
   "source": [
    "df = df[['Filename', 'Subtype', 'Type', 'Year', 'Path', 'Departamento', 'Actors_NNAJ', 'NNAJ_Text']]"
   ]
  },
  {
   "cell_type": "code",
   "execution_count": null,
   "id": "87879db0",
   "metadata": {},
   "outputs": [],
   "source": [
    "df.to_csv(\"data/alertas_actors_NNAJ.csv\", sep=\"|\", index=False)"
   ]
  },
  {
   "cell_type": "code",
   "execution_count": null,
   "id": "c25765d8",
   "metadata": {},
   "outputs": [],
   "source": [
    "df.head(2)"
   ]
  },
  {
   "cell_type": "code",
   "execution_count": null,
   "id": "c80712b1",
   "metadata": {},
   "outputs": [],
   "source": [
    "def clean_actors(entities):\n",
    "    if len(entities) == 0:\n",
    "        return []\n",
    "    entities = [e.translate(str.maketrans('', '', punct)) for e in entities]\n",
    "    for key, value in grupos.items():\n",
    "        for v in value:\n",
    "            temp_value = replace_accents(v.lower()) \n",
    "            entities = [key if replace_accents(e.lower()) == temp_value else e for e in entities]\n",
    "    return entities"
   ]
  },
  {
   "cell_type": "code",
   "execution_count": null,
   "id": "ad8bfe72",
   "metadata": {},
   "outputs": [],
   "source": [
    "df[\"Actors_NNAJ\"] = df[\"Actors_NNAJ\"].apply(clean_actors)"
   ]
  },
  {
   "cell_type": "code",
   "execution_count": null,
   "id": "220d45d6",
   "metadata": {},
   "outputs": [],
   "source": [
    "df.head(1)"
   ]
  },
  {
   "cell_type": "markdown",
   "id": "4d3c9e78",
   "metadata": {},
   "source": [
    "# 5. Saving text in csv"
   ]
  },
  {
   "cell_type": "code",
   "execution_count": null,
   "id": "6fc7efef",
   "metadata": {},
   "outputs": [],
   "source": [
    "df.to_csv(\"data/alertas_actors_NNAJ.csv\", sep=\"|\", index=False)"
   ]
  },
  {
   "cell_type": "markdown",
   "id": "c890fc57",
   "metadata": {},
   "source": [
    "# 6. Export HTML"
   ]
  },
  {
   "cell_type": "code",
   "execution_count": null,
   "id": "83442c6e",
   "metadata": {},
   "outputs": [],
   "source": [
    "!jupyter nbconvert --to html 13_Actores_del_Conflicto.ipynb"
   ]
  },
  {
   "cell_type": "code",
   "execution_count": null,
   "id": "aad5f3b4",
   "metadata": {},
   "outputs": [],
   "source": []
  }
 ],
 "metadata": {
  "kernelspec": {
   "display_name": "Python 3 (ipykernel)",
   "language": "python",
   "name": "python3"
  },
  "language_info": {
   "codemirror_mode": {
    "name": "ipython",
    "version": 3
   },
   "file_extension": ".py",
   "mimetype": "text/x-python",
   "name": "python",
   "nbconvert_exporter": "python",
   "pygments_lexer": "ipython3",
   "version": "3.9.12"
  }
 },
 "nbformat": 4,
 "nbformat_minor": 5
}
