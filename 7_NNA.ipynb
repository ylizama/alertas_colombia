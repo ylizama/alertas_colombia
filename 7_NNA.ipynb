{
 "cells": [
  {
   "cell_type": "markdown",
   "id": "0fd4b156",
   "metadata": {},
   "source": [
    "# 1. Install, Imports, Settings"
   ]
  },
  {
   "cell_type": "code",
   "execution_count": 1,
   "id": "9213a640",
   "metadata": {},
   "outputs": [],
   "source": [
    "#!pip install nltk\n",
    "#!pip install rake_nltk\n",
    "#!python -m spacy download es_core_news_md"
   ]
  },
  {
   "cell_type": "code",
   "execution_count": 2,
   "id": "2550cf0f",
   "metadata": {
    "scrolled": true
   },
   "outputs": [],
   "source": [
    "import pandas as pd\n",
    "import numpy as np\n",
    "from matplotlib import pyplot as plt\n",
    "import seaborn as sns\n",
    "import spacy\n",
    "from spacy.lang.es.examples import sentences \n",
    "nlp = spacy.load(\"es_core_news_md\")\n",
    "from collections import Counter\n",
    "\n",
    "import re\n",
    "from IPython.display import Markdown, display\n",
    "import string, math\n",
    "import nltk\n",
    "#nltk.download('punkt')\n",
    "from rake_nltk import Rake\n",
    "from nltk.util import ngrams"
   ]
  },
  {
   "cell_type": "code",
   "execution_count": 3,
   "id": "8a2612f4",
   "metadata": {},
   "outputs": [],
   "source": [
    "plt.rcParams[\"figure.figsize\"] = [10, 6]\n",
    "%config InlineBackend.figure_format = 'retina'\n",
    "\n",
    "punct = string.punctuation +'”“'"
   ]
  },
  {
   "cell_type": "markdown",
   "id": "e21e3781",
   "metadata": {},
   "source": [
    "# 2. Loading data"
   ]
  },
  {
   "cell_type": "code",
   "execution_count": 4,
   "id": "2fd3dc51",
   "metadata": {},
   "outputs": [
    {
     "name": "stdout",
     "output_type": "stream",
     "text": [
      "Total Number of documents: 1753\n",
      "Number of documents with no accesible text (password protected): 5\n",
      "Number of documents with accesible text: 1748\n"
     ]
    }
   ],
   "source": [
    "df = pd.read_csv(\"data/alertas.csv\", sep=\"|\")\n",
    "\n",
    "print(\"Total Number of documents:\", len(df))\n",
    "print(\"Number of documents with no accesible text (password protected):\", len(df[df['Text'].isnull()]))\n",
    "print(\"Number of documents with accesible text:\",  len(df[df['Text'].notnull()]))"
   ]
  },
  {
   "cell_type": "code",
   "execution_count": 5,
   "id": "1fa63b1b",
   "metadata": {},
   "outputs": [
    {
     "data": {
      "text/html": [
       "<div>\n",
       "<style scoped>\n",
       "    .dataframe tbody tr th:only-of-type {\n",
       "        vertical-align: middle;\n",
       "    }\n",
       "\n",
       "    .dataframe tbody tr th {\n",
       "        vertical-align: top;\n",
       "    }\n",
       "\n",
       "    .dataframe thead th {\n",
       "        text-align: right;\n",
       "    }\n",
       "</style>\n",
       "<table border=\"1\" class=\"dataframe\">\n",
       "  <thead>\n",
       "    <tr style=\"text-align: right;\">\n",
       "      <th></th>\n",
       "      <th>Filename</th>\n",
       "      <th>Text</th>\n",
       "      <th>Subtype</th>\n",
       "      <th>Type</th>\n",
       "      <th>Year</th>\n",
       "      <th>Path</th>\n",
       "      <th>Departamento</th>\n",
       "    </tr>\n",
       "  </thead>\n",
       "  <tbody>\n",
       "    <tr>\n",
       "      <th>0</th>\n",
       "      <td>AT N° 003-18 NAR-Cumbitara, Maguí Payán, Polic...</td>\n",
       "      <td>Defensoria del Pueblo COLOMB IA Bogotá D.C., 5...</td>\n",
       "      <td>Alerta Temprana</td>\n",
       "      <td>Advertencia</td>\n",
       "      <td>2018</td>\n",
       "      <td>data\\Advertencia_PDF\\AT 2018\\AT N° 003-18 NAR-...</td>\n",
       "      <td>Nariño</td>\n",
       "    </tr>\n",
       "    <tr>\n",
       "      <th>1</th>\n",
       "      <td>AT N° 004-18 NAR-Tumaco.pdf</td>\n",
       "      <td>Defensoría del Pueblo CO LO Mll.t. Carrera 9 #...</td>\n",
       "      <td>Alerta Temprana</td>\n",
       "      <td>Advertencia</td>\n",
       "      <td>2018</td>\n",
       "      <td>data\\Advertencia_PDF\\AT 2018\\AT N° 004-18 NAR-...</td>\n",
       "      <td>Nariño</td>\n",
       "    </tr>\n",
       "    <tr>\n",
       "      <th>2</th>\n",
       "      <td>AT N° 005-18 COR-Tierralta.pdf</td>\n",
       "      <td>Carrera 9 # 16 -21 Bogotá D.C. PBX: (57) (1) 3...</td>\n",
       "      <td>Alerta Temprana</td>\n",
       "      <td>Advertencia</td>\n",
       "      <td>2018</td>\n",
       "      <td>data\\Advertencia_PDF\\AT 2018\\AT N° 005-18 COR-...</td>\n",
       "      <td>Córdoba</td>\n",
       "    </tr>\n",
       "    <tr>\n",
       "      <th>3</th>\n",
       "      <td>AT N° 006-18 ARA-Saravena.pdf</td>\n",
       "      <td>Defensoría del Pueblo Carrera 9 # 16-21 Bogotá...</td>\n",
       "      <td>Alerta Temprana</td>\n",
       "      <td>Advertencia</td>\n",
       "      <td>2018</td>\n",
       "      <td>data\\Advertencia_PDF\\AT 2018\\AT N° 006-18 ARA-...</td>\n",
       "      <td>Arauca</td>\n",
       "    </tr>\n",
       "    <tr>\n",
       "      <th>4</th>\n",
       "      <td>AT N° 007-18 MET-Puerto Lleras, Puerto Rico y ...</td>\n",
       "      <td>San Vicente Bajo l' Margen Izquierda del río G...</td>\n",
       "      <td>Alerta Temprana</td>\n",
       "      <td>Advertencia</td>\n",
       "      <td>2018</td>\n",
       "      <td>data\\Advertencia_PDF\\AT 2018\\AT N° 007-18 MET-...</td>\n",
       "      <td>Meta</td>\n",
       "    </tr>\n",
       "  </tbody>\n",
       "</table>\n",
       "</div>"
      ],
      "text/plain": [
       "                                            Filename  \\\n",
       "0  AT N° 003-18 NAR-Cumbitara, Maguí Payán, Polic...   \n",
       "1                        AT N° 004-18 NAR-Tumaco.pdf   \n",
       "2                     AT N° 005-18 COR-Tierralta.pdf   \n",
       "3                      AT N° 006-18 ARA-Saravena.pdf   \n",
       "4  AT N° 007-18 MET-Puerto Lleras, Puerto Rico y ...   \n",
       "\n",
       "                                                Text          Subtype  \\\n",
       "0  Defensoria del Pueblo COLOMB IA Bogotá D.C., 5...  Alerta Temprana   \n",
       "1  Defensoría del Pueblo CO LO Mll.t. Carrera 9 #...  Alerta Temprana   \n",
       "2  Carrera 9 # 16 -21 Bogotá D.C. PBX: (57) (1) 3...  Alerta Temprana   \n",
       "3  Defensoría del Pueblo Carrera 9 # 16-21 Bogotá...  Alerta Temprana   \n",
       "4  San Vicente Bajo l' Margen Izquierda del río G...  Alerta Temprana   \n",
       "\n",
       "          Type  Year                                               Path  \\\n",
       "0  Advertencia  2018  data\\Advertencia_PDF\\AT 2018\\AT N° 003-18 NAR-...   \n",
       "1  Advertencia  2018  data\\Advertencia_PDF\\AT 2018\\AT N° 004-18 NAR-...   \n",
       "2  Advertencia  2018  data\\Advertencia_PDF\\AT 2018\\AT N° 005-18 COR-...   \n",
       "3  Advertencia  2018  data\\Advertencia_PDF\\AT 2018\\AT N° 006-18 ARA-...   \n",
       "4  Advertencia  2018  data\\Advertencia_PDF\\AT 2018\\AT N° 007-18 MET-...   \n",
       "\n",
       "  Departamento  \n",
       "0       Nariño  \n",
       "1       Nariño  \n",
       "2      Córdoba  \n",
       "3       Arauca  \n",
       "4         Meta  "
      ]
     },
     "execution_count": 5,
     "metadata": {},
     "output_type": "execute_result"
    }
   ],
   "source": [
    "df.head()"
   ]
  },
  {
   "cell_type": "markdown",
   "id": "5c113e82",
   "metadata": {},
   "source": [
    "# 3 Extracting Recommendations"
   ]
  },
  {
   "cell_type": "code",
   "execution_count": 91,
   "id": "f7632948",
   "metadata": {},
   "outputs": [],
   "source": [
    "rep = {\"RECOMENDACIONES\" : [\"RECOMENDACIONE S\", \"RECOMENDACION ES\", \"RECOMENDACIO NES\",\n",
    "                            \"RECOMENDACI ONES\", \"RECOMENDAC IONES\", \"RECOMENDA CIONES\",\n",
    "                            \"RECOMEND ACIONES\", \"RECOMEN DACIONES\", \"RECOME NDACIONES\",\n",
    "                            \"RECOM ENDACIONES\", \"RECO MENDACIONES\", \"REC OMENDACIONES\",\n",
    "                            \"RE COMENDACIONES\", \"R ECOMENDACIONES\",], \n",
    "        \n",
    "       \"recomendaciones\":[ \"recomendacione s\", \"recomendacion es\", \"recomendacio nes\",\n",
    "                            \"recomendaci ones\", \"recomendac iones\", \"recomenda ciones\",\n",
    "                            \"recomend aciones\", \"recomen daciones\", \"recome ndaciones\",\n",
    "                            \"recom endaciones\", \"reco mendaciones\", \"rec omendaciones\",\n",
    "                            \"re comendaciones\", \"r ecomendaciones\",],\n",
    " \n",
    "       \"Recomendaciones\":[  \"Recomendacione s\", \"Recomendacion es\", \"Recomendacio nes\",\n",
    "                            \"Recomendaci ones\", \"Recomendac iones\", \"Recomenda ciones\",\n",
    "                            \"Recomend aciones\", \"Recomen daciones\", \"Recome ndaciones\",\n",
    "                            \"Recom endaciones\", \"Reco mendaciones\", \"Rec omendaciones\",\n",
    "                            \"Re comendaciones\", \"R ecomendaciones\",],\n",
    "        }\n",
    "\n",
    "\n",
    "def replace_recomendaciones(text):\n",
    "    text_res = text\n",
    "    if text == text:\n",
    "        for key in rep.keys():\n",
    "            for value in rep[key]:\n",
    "                if value in text:\n",
    "                    text_res = text.replace(value, key)\n",
    "    return text_res\n",
    "\n",
    "df['Text'] = df['Text'].apply(replace_recomendaciones)"
   ]
  },
  {
   "cell_type": "code",
   "execution_count": 125,
   "id": "aa2b8e77",
   "metadata": {
    "scrolled": false
   },
   "outputs": [
    {
     "name": "stdout",
     "output_type": "stream",
     "text": [
      "Number of documents with recommendations 1413\n",
      "Number of documents without recommendations 335\n"
     ]
    }
   ],
   "source": [
    "dff = df[df[\"Text\"].notnull()]\n",
    "i = 0\n",
    "keywords = [\"RECOMENDACIONES\", \"Recomendaciones\", \n",
    "            \"Al Gobernador de Bolívar, al Alcalde de Morales y a la Fuerza Pública\",\n",
    "            \"En atención a lo anterior se recomienda:\", \n",
    "            \"el Sistema de Alertas Tempranas de la Defensoría del Pueblo formula las siguientes recomendaciones a las autoridades competentes:\", \n",
    "            \"las siguientes recomendaciones\", \n",
    "            \"las medidas que se enumeran a continuación\", \n",
    "            \"se recomienda lo siguiente\", \n",
    "            \"en particular se recomienda\", \n",
    "            \"1. A\", \n",
    "            \"adoptar las medidas que a continuación se enuncian\", \n",
    "            \"1- A\", \n",
    "            \"1) A\", \n",
    "            \"En dicha providencia, la Corte Suprema de Justicia ordenó:\", \n",
    "            \"Se recomienda:\",\n",
    "            \"Comedidamente le solicito\", \n",
    "            \"1.AlaPolicía\", \n",
    "            \"Acontinuación sepresentan lasconclusiones ylasobservaciones alasacciones institucionales desarrolladas porlasautoridades delnivel nacional\"\n",
    "            \n",
    "]\n",
    "\n",
    "for k, t in dff.iterrows():\n",
    "    c = i\n",
    "    text = t['Text']\n",
    "    for key in keywords:\n",
    "        if key in text:\n",
    "            #text[text.find(keyword):]\n",
    "            i = i+1\n",
    "            break\n",
    "    if c == i and t['Subtype'] != \"Notas\" and t['Subtype'] != \"Informe de Seguimiento\":\n",
    "        if ('recomendaciones' in text):\n",
    "            print(t['Filename'])\n",
    "            print(t['Text'])\n",
    "            break\n",
    "print('Number of documents with recommendations', i)\n",
    "print('Number of documents without recommendations', len(dff) - i)"
   ]
  },
  {
   "cell_type": "code",
   "execution_count": 132,
   "id": "673a6eec",
   "metadata": {},
   "outputs": [],
   "source": [
    "def split_recommendations(text, section):\n",
    "    if text == text:\n",
    "        for k in keywords:\n",
    "            if k in text:\n",
    "                return text[text.find(k):] if section else text[:text.find(k)]\n",
    "    return text\n",
    "\n",
    "df['Text_Original'] =  df['Text']\n",
    "df['Recomendations'] = df['Text'].apply(split_recommendations, section=True)\n",
    "df['Text'] = df['Text'].apply(split_recommendations, section=False)"
   ]
  },
  {
   "cell_type": "markdown",
   "id": "f758cbca",
   "metadata": {},
   "source": [
    "# 4. Extracting NNA Sentences"
   ]
  },
  {
   "cell_type": "code",
   "execution_count": 133,
   "id": "7a40bcf2",
   "metadata": {},
   "outputs": [],
   "source": [
    "children_keywords = [\"NNAJ\", \"niños\", \"niñas\", \"adolescentes\", \"jóvenes\", \"NNA\"]\n",
    "agressions = ['homicidio', 'masacres', 'desplazamiento', 'desaparición forzada',] \n",
    "uso_recl = ['reclutamiento', 'expendio de droga', 'sicariato', \"cobro de 'vacunas'\", \"vigilancia\", \n",
    "            \"acciones ejemplarizates\", \"utilización ilícita\", \"uso ilícito\", \"drogas ilícitas\", \"prácticas sexuales\"]"
   ]
  },
  {
   "cell_type": "markdown",
   "id": "c1b4710f",
   "metadata": {},
   "source": [
    "# 4.1. Example of sentences that include use of NNAJ in the first 20 docs"
   ]
  },
  {
   "cell_type": "code",
   "execution_count": 134,
   "id": "2a03354d",
   "metadata": {
    "scrolled": false
   },
   "outputs": [
    {
     "data": {
      "text/markdown": [
       "La presencia de las AGC se realiza con hombre s quienes, vestidos de civil y portando radios de comunicación, celulares y/o armas de corto alcance, se ubican y transitan por lugares estratégicos de los caminos que interconectan las veredas del corregimiento; intimidan a la población para que no visib ilice el reclutamiento y la utilización de** NNAJ **a quienes principalmente les asignan labores de informantes o lo que comúnmente se denomina como “puntos” o personas que controlan visualmente el ingreso y la salida de personas o entidades a los territorio s del corregimiento; interfieren ilegalmente en el desarrollo de reuniones comunitarias para controlar lo que dice la población y contener las denuncias sobre sus actuaciones."
      ],
      "text/plain": [
       "<IPython.core.display.Markdown object>"
      ]
     },
     "metadata": {},
     "output_type": "display_data"
    },
    {
     "data": {
      "text/markdown": [
       "Carrera 9 # 16 -21 Bogotá D.C. PBX: (57) (1) 3147300 Línea Nacional: 01 8000 914814 www.defensoria.gov.co Plantilla Vigente desde: 27/06/2017 Para habitantes del corregimiento, el reclutamiento y utilización de** NNAJ **continúa siendo una de las vulneraciones de derechos más frecuente debido a la escasez y la falta de oportunidades de empleo, en limitaciones para la generación de ingresos - en particular las que se realizan mediante actividades agrícolas y labores campesinas que impliquen la necesidad de contar con vías de acceso las cuales son casi inexistentes en la ruralidad del corregimiento -, la falta de alternativas para la ocupación del tiempo libre y el poco acceso a la educación superior para la población."
      ],
      "text/plain": [
       "<IPython.core.display.Markdown object>"
      ]
     },
     "metadata": {},
     "output_type": "display_data"
    }
   ],
   "source": [
    "text = ' '.join(df[df[\"Text\"].notnull()]['Text'][20:50])\n",
    "keyword = \" NNAJ \"\n",
    "nlp.max_length = 2000000\n",
    "document = nlp(text)\n",
    "for sentence in document.sents:\n",
    "    sentence = sentence.text\n",
    "  \n",
    "    if keyword.lower() in sentence.lower():\n",
    "            \n",
    "            #Use the regex library to replace linebreaks and to make the keyword bolded, again ignoring capitalization\n",
    "            sentence = re.sub('\\n', ' ', sentence)\n",
    "            sentence = re.sub(f\"{keyword}\", f\"**{keyword}**\", sentence, flags=re.IGNORECASE)\n",
    "            \n",
    "            display(Markdown(sentence))"
   ]
  },
  {
   "cell_type": "markdown",
   "id": "4064308e",
   "metadata": {},
   "source": [
    "# 4.2 Extracting NNA sentences"
   ]
  },
  {
   "cell_type": "code",
   "execution_count": 135,
   "id": "6a564dec",
   "metadata": {},
   "outputs": [],
   "source": [
    "def find_sentences_with_keyword(keywords, document):\n",
    "    sents = []\n",
    "    \n",
    "    #Iterate through all the sentences in the document and pull out the text of each sentence\n",
    "    for sentence in document.sents:\n",
    "        sentence = sentence.text\n",
    "        \n",
    "        for keyword in keywords: \n",
    "            if keyword.lower() in sentence.lower():\n",
    "            \n",
    "                #Use the regex library to replace linebreaks and to make the keyword bolded, again ignoring capitalization\n",
    "                sentence = re.sub('\\n', ' ', sentence)\n",
    "                sentence = re.sub(f\"{keyword}\", f\"**{keyword}**\", sentence, flags=re.IGNORECASE)\n",
    "                sents.append(sentence)\n",
    "                break           \n",
    "    return sents\n",
    "\n",
    "def extract_NNAJ_sentences(text):\n",
    "    if text != text:\n",
    "        return []\n",
    "    document = nlp(text)\n",
    "    return find_sentences_with_keyword(keywords=children_keywords, document=document)"
   ]
  },
  {
   "cell_type": "code",
   "execution_count": 136,
   "id": "e58e2d28",
   "metadata": {
    "scrolled": true
   },
   "outputs": [],
   "source": [
    "df['NNAJ'] = df['Text'].apply(extract_NNAJ_sentences)"
   ]
  },
  {
   "cell_type": "markdown",
   "id": "4d3c9e78",
   "metadata": {},
   "source": [
    "# 5. Saving partial text in csv"
   ]
  },
  {
   "cell_type": "code",
   "execution_count": 138,
   "id": "17f4908d",
   "metadata": {},
   "outputs": [],
   "source": [
    "df['Recommendations'] = df['Recomendations']\n",
    "df = df[['Filename', 'Text', 'Subtype', 'Type', 'Year', 'Path', 'Departamento',\n",
    "       'Text_Original', 'Recommendations', 'NNAJ']]"
   ]
  },
  {
   "cell_type": "code",
   "execution_count": 139,
   "id": "5c305a3f",
   "metadata": {},
   "outputs": [
    {
     "data": {
      "text/plain": [
       "Index(['Filename', 'Text', 'Subtype', 'Type', 'Year', 'Path', 'Departamento',\n",
       "       'Text_Original', 'Recommendations', 'NNAJ'],\n",
       "      dtype='object')"
      ]
     },
     "execution_count": 139,
     "metadata": {},
     "output_type": "execute_result"
    }
   ],
   "source": [
    "df.columns"
   ]
  },
  {
   "cell_type": "code",
   "execution_count": 140,
   "id": "6fc7efef",
   "metadata": {},
   "outputs": [],
   "source": [
    "df.to_csv(\"data/alertas_NNA_sentences.csv\", sep=\"|\", index=False)"
   ]
  },
  {
   "cell_type": "markdown",
   "id": "c890fc57",
   "metadata": {},
   "source": [
    "# 6. Export HTML"
   ]
  },
  {
   "cell_type": "code",
   "execution_count": 152,
   "id": "83442c6e",
   "metadata": {},
   "outputs": [
    {
     "name": "stderr",
     "output_type": "stream",
     "text": [
      "[NbConvertApp] Converting notebook 7_NNA.ipynb to html\n",
      "[NbConvertApp] Writing 653495 bytes to 7_NNA.html\n"
     ]
    }
   ],
   "source": [
    "!jupyter nbconvert --to html 7_NNA.ipynb"
   ]
  },
  {
   "cell_type": "code",
   "execution_count": null,
   "id": "70ca885c",
   "metadata": {},
   "outputs": [],
   "source": []
  }
 ],
 "metadata": {
  "kernelspec": {
   "display_name": "Python 3 (ipykernel)",
   "language": "python",
   "name": "python3"
  },
  "language_info": {
   "codemirror_mode": {
    "name": "ipython",
    "version": 3
   },
   "file_extension": ".py",
   "mimetype": "text/x-python",
   "name": "python",
   "nbconvert_exporter": "python",
   "pygments_lexer": "ipython3",
   "version": "3.9.12"
  }
 },
 "nbformat": 4,
 "nbformat_minor": 5
}
