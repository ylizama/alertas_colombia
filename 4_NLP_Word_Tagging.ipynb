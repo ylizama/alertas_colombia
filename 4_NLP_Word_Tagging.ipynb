{
 "cells": [
  {
   "cell_type": "markdown",
   "metadata": {},
   "source": [
    "# 1. Installs, Imports and Settings"
   ]
  },
  {
   "cell_type": "code",
   "execution_count": 1,
   "metadata": {
    "scrolled": true
   },
   "outputs": [
    {
     "name": "stderr",
     "output_type": "stream",
     "text": [
      "[nltk_data] Downloading package punkt to\n",
      "[nltk_data]     C:\\Users\\Admin\\AppData\\Roaming\\nltk_data...\n",
      "[nltk_data]   Unzipping tokenizers\\punkt.zip.\n",
      "[nltk_data] Downloading package averaged_perceptron_tagger to\n",
      "[nltk_data]     C:\\Users\\Admin\\AppData\\Roaming\\nltk_data...\n",
      "[nltk_data]   Package averaged_perceptron_tagger is already up-to-\n",
      "[nltk_data]       date!\n",
      "[nltk_data] Downloading package wordnet to\n",
      "[nltk_data]     C:\\Users\\Admin\\AppData\\Roaming\\nltk_data...\n",
      "[nltk_data]   Package wordnet is already up-to-date!\n"
     ]
    }
   ],
   "source": [
    "#!pip install spacy==3.1.1 #restart runtime after this\n",
    "#!python -m spacy download en_core_web_sm\n",
    "\n",
    "import csv\n",
    "import pandas as pd\n",
    "pd.options.display.max_rows\n",
    "pd.set_option('display.max_colwidth', None)\n",
    "\n",
    "import nltk\n",
    "nltk.download('punkt')\n",
    "nltk.download('averaged_perceptron_tagger')\n",
    "from nltk.stem import WordNetLemmatizer\n",
    "wordnet_lemmatizer = WordNetLemmatizer()\n",
    "nltk.download('wordnet');\n",
    "\n",
    "import string\n",
    "import operator\n",
    "from itertools import islice\n",
    "from collections import Counter"
   ]
  },
  {
   "cell_type": "markdown",
   "metadata": {},
   "source": [
    "#  2. Reading files "
   ]
  },
  {
   "cell_type": "code",
   "execution_count": 2,
   "metadata": {},
   "outputs": [
    {
     "name": "stdout",
     "output_type": "stream",
     "text": [
      "Size of Data: 666\n",
      "\n",
      "Columns :  ['Filename', 'Text', 'Type', 'Year']\n"
     ]
    }
   ],
   "source": [
    "df = pd.read_csv('data/alertas.csv', sep=\"|\")\n",
    "df = df[df[\"Text\"] != \" \"]\n",
    "print(\"Size of Data:\", len(df))\n",
    "print()\n",
    "print(\"Columns : \", list(df.columns))"
   ]
  },
  {
   "cell_type": "markdown",
   "metadata": {},
   "source": [
    "# 3. Functions"
   ]
  },
  {
   "cell_type": "code",
   "execution_count": 3,
   "metadata": {},
   "outputs": [],
   "source": [
    "stopw = [\"'s\", \"s\", \"@\", '*', '’', \"t\", \"gt\", \"http\", \"https\", \"amp\", \"m\", 'i', 'u', 'youtu.be/Sj9uLcw-yl4', \n",
    "        \"'m\", '\\-', '[', ']', '·', 're', '“', '”']\n",
    "#m is the number of top ngrams.\n",
    "def getNPartsOfSpeech(text, m, tag):\n",
    "    h_dict = {}   \n",
    "    tokens = nltk.word_tokenize(text)\n",
    "    pos_tags = nltk.pos_tag(tokens)\n",
    "    \n",
    "    #lemmatization and filtering allowed tags\n",
    "    filtered_tags = [wordnet_lemmatizer.lemmatize(pt[0], pos=\"v\") for pt in pos_tags if pt[1].startswith(tag)]\n",
    "    filtered_tags = [f for f in filtered_tags if f not in stopw]\n",
    "    \n",
    "    for ft in filtered_tags:    \n",
    "        if ft not in h_dict:\n",
    "            h_dict[ft] = 0\n",
    "        h_dict[ft] += 1\n",
    "        \n",
    "    sorted_dict = sorted(h_dict.items(), key=operator.itemgetter(1), reverse=True)\n",
    "    top_values = list(islice(sorted_dict, m))\n",
    "    return [(r[0], r[1], round(r[1]/len(filtered_tags)*100,2)) for r in top_values]\n",
    "\n",
    "def printNPOS(data, m):\n",
    "    postags = []\n",
    "    \n",
    "    verbs = getNPartsOfSpeech(data, m, 'V')\n",
    "    verbs += [(None, None)] * (m - len(verbs))\n",
    "    \n",
    "    adjs = getNPartsOfSpeech(data, m , 'J')\n",
    "    adjs +=[(None, None)] * (m - len(adjs))\n",
    "    \n",
    "    nouns = getNPartsOfSpeech(data, m , 'N')\n",
    "    nouns +=[(None, None)] * (m - len(nouns))\n",
    "    \n",
    "    for i in range(0,m):\n",
    "        if all(verbs[i]) or all(adj[i]) or all(nouns[i]):\n",
    "            postags.append(verbs[i] + adjs[i] + nouns[i])\n",
    "    df = pd.DataFrame(postags, columns=['Verbs', 'Absolute Freq', 'Relative Freq', \n",
    "                                       'Adjectives', 'Absolute Freq', 'Relative Freq',\n",
    "                                        'Nouns', 'Absolute Freq', 'Relative Freq' ]) \n",
    "    return df"
   ]
  },
  {
   "cell_type": "markdown",
   "metadata": {},
   "source": [
    "# 4. Top 20 Verbs, Adj, and Nouns in the whole corpus"
   ]
  },
  {
   "cell_type": "code",
   "execution_count": null,
   "metadata": {},
   "outputs": [],
   "source": [
    "printNPOS(' '.join(df['Text']), 20)"
   ]
  },
  {
   "cell_type": "markdown",
   "metadata": {},
   "source": [
    "## 4.1 Top 20 Verbs, Adj, and Nouns in Advertencias"
   ]
  },
  {
   "cell_type": "code",
   "execution_count": null,
   "metadata": {},
   "outputs": [],
   "source": [
    "dfg = df[df[\"Type\"] == \"advertencia\"]\n",
    "printNPOS(' '.join(dfg['Text']), 20)"
   ]
  },
  {
   "cell_type": "markdown",
   "metadata": {},
   "source": [
    "## 4.1 Top 20 Verbs, Adj, and Nouns in Seguimientos"
   ]
  },
  {
   "cell_type": "code",
   "execution_count": null,
   "metadata": {},
   "outputs": [],
   "source": [
    "dfg = df[df[\"Type\"] == \"seguimiento\"]\n",
    "printNPOS(' '.join(dfg['Text']), 20)"
   ]
  },
  {
   "cell_type": "markdown",
   "metadata": {},
   "source": [
    "## 5. Exporting to html"
   ]
  },
  {
   "cell_type": "code",
   "execution_count": 5,
   "metadata": {},
   "outputs": [
    {
     "name": "stderr",
     "output_type": "stream",
     "text": [
      "[NbConvertApp] Converting notebook 8_NLP_Word_Tagging.ipynb to html\n",
      "[NbConvertApp] Writing 586885 bytes to 8_NLP_Word_Tagging.html\n"
     ]
    }
   ],
   "source": [
    "!jupyter nbconvert --to html 4"
   ]
  },
  {
   "cell_type": "code",
   "execution_count": null,
   "metadata": {},
   "outputs": [],
   "source": []
  }
 ],
 "metadata": {
  "kernelspec": {
   "display_name": "Python 3 (ipykernel)",
   "language": "python",
   "name": "python3"
  },
  "language_info": {
   "codemirror_mode": {
    "name": "ipython",
    "version": 3
   },
   "file_extension": ".py",
   "mimetype": "text/x-python",
   "name": "python",
   "nbconvert_exporter": "python",
   "pygments_lexer": "ipython3",
   "version": "3.9.7"
  }
 },
 "nbformat": 4,
 "nbformat_minor": 4
}
