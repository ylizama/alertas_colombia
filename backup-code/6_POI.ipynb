{
 "cells": [
  {
   "cell_type": "markdown",
   "id": "0fd4b156",
   "metadata": {},
   "source": [
    "# 1. Install, Imports, Settings"
   ]
  },
  {
   "cell_type": "code",
   "execution_count": 29,
   "id": "2550cf0f",
   "metadata": {
    "scrolled": true
   },
   "outputs": [],
   "source": [
    "import pandas as pd\n",
    "import numpy as np\n",
    "from matplotlib import pyplot as plt\n",
    "import seaborn as sns\n",
    "import spacy\n",
    "from spacy.lang.es.examples import sentences \n",
    "#!python -m spacy download es_core_news_md\n",
    "nlp = spacy.load(\"es_core_news_md\")\n",
    "\n",
    "import string, math"
   ]
  },
  {
   "cell_type": "code",
   "execution_count": 30,
   "id": "8a2612f4",
   "metadata": {},
   "outputs": [],
   "source": [
    "plt.rcParams[\"figure.figsize\"] = [10, 6]\n",
    "%config InlineBackend.figure_format = 'retina'\n",
    "\n",
    "punct = string.punctuation +'”“'"
   ]
  },
  {
   "cell_type": "markdown",
   "id": "e21e3781",
   "metadata": {},
   "source": [
    "# 2. Loading data"
   ]
  },
  {
   "cell_type": "code",
   "execution_count": 31,
   "id": "2fd3dc51",
   "metadata": {},
   "outputs": [
    {
     "name": "stdout",
     "output_type": "stream",
     "text": [
      "Total Number of documents: 1753\n",
      "Number of documents with no accesible text (password protected): 5\n",
      "Number of documents with accesible text: 1748\n"
     ]
    }
   ],
   "source": [
    "df = pd.read_csv(\"data/alertas.csv\", sep=\"|\")\n",
    "\n",
    "print(\"Total Number of documents:\", len(df))\n",
    "print(\"Number of documents with no accesible text (password protected):\", len(df[df['Text'].isnull()]))\n",
    "print(\"Number of documents with accesible text:\",  len(df[df['Text'].notnull()]))"
   ]
  },
  {
   "cell_type": "code",
   "execution_count": 32,
   "id": "1fa63b1b",
   "metadata": {},
   "outputs": [
    {
     "data": {
      "text/html": [
       "<div>\n",
       "<style scoped>\n",
       "    .dataframe tbody tr th:only-of-type {\n",
       "        vertical-align: middle;\n",
       "    }\n",
       "\n",
       "    .dataframe tbody tr th {\n",
       "        vertical-align: top;\n",
       "    }\n",
       "\n",
       "    .dataframe thead th {\n",
       "        text-align: right;\n",
       "    }\n",
       "</style>\n",
       "<table border=\"1\" class=\"dataframe\">\n",
       "  <thead>\n",
       "    <tr style=\"text-align: right;\">\n",
       "      <th></th>\n",
       "      <th>Filename</th>\n",
       "      <th>Text</th>\n",
       "      <th>Subtype</th>\n",
       "      <th>Type</th>\n",
       "      <th>Year</th>\n",
       "      <th>Path</th>\n",
       "      <th>Departamento</th>\n",
       "    </tr>\n",
       "  </thead>\n",
       "  <tbody>\n",
       "    <tr>\n",
       "      <th>0</th>\n",
       "      <td>AT N° 003-18 NAR-Cumbitara, Maguí Payán, Polic...</td>\n",
       "      <td>Defensoria del Pueblo COLOMB IA Bogotá D.C., 5...</td>\n",
       "      <td>Alerta Temprana</td>\n",
       "      <td>Advertencia</td>\n",
       "      <td>2018</td>\n",
       "      <td>data\\Advertencia_PDF\\AT 2018\\AT N° 003-18 NAR-...</td>\n",
       "      <td>Nariño</td>\n",
       "    </tr>\n",
       "    <tr>\n",
       "      <th>1</th>\n",
       "      <td>AT N° 004-18 NAR-Tumaco.pdf</td>\n",
       "      <td>Defensoría del Pueblo CO LO Mll.t. Carrera 9 #...</td>\n",
       "      <td>Alerta Temprana</td>\n",
       "      <td>Advertencia</td>\n",
       "      <td>2018</td>\n",
       "      <td>data\\Advertencia_PDF\\AT 2018\\AT N° 004-18 NAR-...</td>\n",
       "      <td>Nariño</td>\n",
       "    </tr>\n",
       "    <tr>\n",
       "      <th>2</th>\n",
       "      <td>AT N° 005-18 COR-Tierralta.pdf</td>\n",
       "      <td>Carrera 9 # 16 -21 Bogotá D.C. PBX: (57) (1) 3...</td>\n",
       "      <td>Alerta Temprana</td>\n",
       "      <td>Advertencia</td>\n",
       "      <td>2018</td>\n",
       "      <td>data\\Advertencia_PDF\\AT 2018\\AT N° 005-18 COR-...</td>\n",
       "      <td>Córdoba</td>\n",
       "    </tr>\n",
       "    <tr>\n",
       "      <th>3</th>\n",
       "      <td>AT N° 006-18 ARA-Saravena.pdf</td>\n",
       "      <td>Defensoría del Pueblo Carrera 9 # 16-21 Bogotá...</td>\n",
       "      <td>Alerta Temprana</td>\n",
       "      <td>Advertencia</td>\n",
       "      <td>2018</td>\n",
       "      <td>data\\Advertencia_PDF\\AT 2018\\AT N° 006-18 ARA-...</td>\n",
       "      <td>Arauca</td>\n",
       "    </tr>\n",
       "    <tr>\n",
       "      <th>4</th>\n",
       "      <td>AT N° 007-18 MET-Puerto Lleras, Puerto Rico y ...</td>\n",
       "      <td>San Vicente Bajo l' Margen Izquierda del río G...</td>\n",
       "      <td>Alerta Temprana</td>\n",
       "      <td>Advertencia</td>\n",
       "      <td>2018</td>\n",
       "      <td>data\\Advertencia_PDF\\AT 2018\\AT N° 007-18 MET-...</td>\n",
       "      <td>Meta</td>\n",
       "    </tr>\n",
       "  </tbody>\n",
       "</table>\n",
       "</div>"
      ],
      "text/plain": [
       "                                            Filename  \\\n",
       "0  AT N° 003-18 NAR-Cumbitara, Maguí Payán, Polic...   \n",
       "1                        AT N° 004-18 NAR-Tumaco.pdf   \n",
       "2                     AT N° 005-18 COR-Tierralta.pdf   \n",
       "3                      AT N° 006-18 ARA-Saravena.pdf   \n",
       "4  AT N° 007-18 MET-Puerto Lleras, Puerto Rico y ...   \n",
       "\n",
       "                                                Text          Subtype  \\\n",
       "0  Defensoria del Pueblo COLOMB IA Bogotá D.C., 5...  Alerta Temprana   \n",
       "1  Defensoría del Pueblo CO LO Mll.t. Carrera 9 #...  Alerta Temprana   \n",
       "2  Carrera 9 # 16 -21 Bogotá D.C. PBX: (57) (1) 3...  Alerta Temprana   \n",
       "3  Defensoría del Pueblo Carrera 9 # 16-21 Bogotá...  Alerta Temprana   \n",
       "4  San Vicente Bajo l' Margen Izquierda del río G...  Alerta Temprana   \n",
       "\n",
       "          Type  Year                                               Path  \\\n",
       "0  Advertencia  2018  data\\Advertencia_PDF\\AT 2018\\AT N° 003-18 NAR-...   \n",
       "1  Advertencia  2018  data\\Advertencia_PDF\\AT 2018\\AT N° 004-18 NAR-...   \n",
       "2  Advertencia  2018  data\\Advertencia_PDF\\AT 2018\\AT N° 005-18 COR-...   \n",
       "3  Advertencia  2018  data\\Advertencia_PDF\\AT 2018\\AT N° 006-18 ARA-...   \n",
       "4  Advertencia  2018  data\\Advertencia_PDF\\AT 2018\\AT N° 007-18 MET-...   \n",
       "\n",
       "  Departamento  \n",
       "0       Nariño  \n",
       "1       Nariño  \n",
       "2      Córdoba  \n",
       "3       Arauca  \n",
       "4         Meta  "
      ]
     },
     "execution_count": 32,
     "metadata": {},
     "output_type": "execute_result"
    }
   ],
   "source": [
    "df.head()"
   ]
  },
  {
   "cell_type": "markdown",
   "id": "1b51a96a",
   "metadata": {},
   "source": [
    "# 3. Basic Text Cleaning "
   ]
  },
  {
   "cell_type": "code",
   "execution_count": 33,
   "id": "c996a6f9",
   "metadata": {},
   "outputs": [
    {
     "data": {
      "text/plain": [
       "'Carrera 9 # 16 -21 Bogotá D.C. PBX: (57) (1 ) 3147300 Línea Nacional: 01 8000 914814 www.defensoria.gov.co Plantilla Vigente desde: 27/06/2017 Bogotá D.C., 5 de marzo de 2018 Doctor GUILLERMO RIVERA FLÓREZ Ministro del Interior Secretaría Técnica de la Comisión Intersectorial para la Respuesta Rápida a las Alertas Tempranas (CIPRAT) Carrera 8 No. 12 B - 31 Ciudad Referencia: ALERTA TEMPRANA DE INMINENCIA N° 0 27-181 debido a la situación de riesgo de vulneracio nes a los DDHH y al DIH de los habitantes del municipio Tarazá – Antioquia, de todos los barrios del casco urbano y de los siguientes corregimientos y veredas: Barro Blanc o, veredas: Tahamí, Doradas Altas, Doradas Bajas, Neri, Tesorito, Potrero Largo, Purí, San Antonio, Tamaco, Barro Blanco; Corregimiento El Doce: Puquí, centro pob lado El Doce; Corregimiento La Caucana, veredas: Santa Clara, La Esperanza, Pecoralia, Agualin da, La Primavera, Rancho Viejo, Pecora, La Caucana, La Cabaña, Piedra Brava, La Cidra, El Porvenir, Blanco, La Linda; Corregimiento del Guaimaro: Popales, Chuchui, Matecaña; Corregimiento Puerto Antioquia, veredas: El Rayo, La Unión, Cañón de Iglesias, El Socorro, Las Acacias, Curumana, Anaparci ; Resguardo Indígena Embera de Jaidez avi. Respetado señor Ministro del Interior: De manera atenta y de acuerdo a lo establecido en el Decreto 2124 de 2017, me permito remitirle la Alerta Temprana de la referencia, debido a la grave situación de riesgo de vulneración colectiva de los DDHH y el DIH de cerca de 40.000 habitantes de las zonas urbanas y rurales del municipio de Tarazá , ubicado en el departamento de Antioquia. La presente Alerta Temprana tiene el propósi to de advertir posibles enfrentamientos con interposición de población civil, desplazamientos masivos, homicidios selectivos y de configuración múltiple en la zona rural de Tarazá , que comprende el conjunto de veredas ubicadas en los límites con los munic ipios de San José de Uré e Ituango , y agrupadas en los corregimientos de La Caucana, Guaimaro y el sector adyacente al Cañ ón de Iglesias. 1 El Decreto 2124 del 18 de diciembre de 2017: “por el cual se reglamenta el sistema de prevención y alerta para la reacción rápida a la presencia y acciones y/o actividades de las organizaciones, hechos y conductas criminales que pongan en riesgo lo s derec hos de la población y la implementación del Acuerdo Final para la Terminación del Conflicto y la Construcción de una Paz Estable y Duradera”, define que las Alertas Tempranas son el documento de advertencia de carácter preventivo emitido de manera autónoma por la Defensoría del Pueblo (artículo 6). En los casos que la Entidad evalúe que las circunstancias lo ameriten, emitirá Alertas Tempranas bajo el rótulo de riesgo de Inminencia (artículo 15), las cuales son remitidas la Secretaría Técnic a de la Comisión Intersectorial para la Respuesta Rápida a las Alertas Tempranas (CIPRAT), quien una vez recibida transmitirá de forma inmediata a las entidades nacionales competentes y a las autoridades territoriales para el cumplimiento de sus funcione s y la adopción de las medidas necesarias de reacción rápida (Artículo 11). Carrera 9 # 16 -21 Bogotá D.C. PBX: (57) (1 ) 3147300 Línea Nacional: 01 8000 914814 www.defensoria.gov.co Plantilla Vigente desde: 27/06/2017 Carrera 9 # 16 -21 Bogotá D.C. PBX: (57) (1 ) 3147300 Línea Nacional: 01 8000 914814 www.defensoria.gov.co Plantilla Vigente desde: 27/06/2017 Se pretende documentar los diferentes hechos victimizantes y conductas vulneratorias que muestran un preocupante inc rement o en las cifras de homicidio, desplazamiento individual y colectivo , que se han presentado en jurisdicción del municipio de Tarazá en lo corrido del presente año , debido a la disputa al interior de las Autodefensas Gaitanistas de Colombia (AGC), por control territorial , la presencia de la guerrilla del ELN y posibles disidentes del proceso de paz con las FARC – EP. Es un escenario de riesgo que por la dinámica de los actores armados, los propósitos en conflicto y los territo rios en disputa, parece r epetir una confrontación violenta ya vivida en la zona entre los años 2008 y 2011, sin mencionar su génesis en la guerra sostenida entre bloques de las AUC y las guerrillas en los años inmediatamente anteriores al periodo señalado, teniendo en cuenta los s iguientes elementos: I. Antecedentes Según las proyecciones del DANE para 2015 , el municipio de Tarazá contaba con una población de 42.641 personas. Según datos suministrados por la Alcaldía de Tarazá, hasta agosto de ese año la población que se encontraba en los niveles I y II del SISBEN era de 38.310 habitantes, algo que da cuenta de que la mayoría de la población vive en condiciones de vulnerabilidad socioeconómica. 12.542 habitantes corresponden a Niños Niñas y Adolescentes – NNA, entre los 5 y los 17 añ os. Según datos de la Secretaría de Desarrollo Social de Tarazá , la economía de este municipio se basa en la minería aurífera, los servicios comerciales y asociados al transporte, la ganadería y cultivos a mediana y pequeña escala de maíz, yuca, cacao y c aucho. Este municipio es la entrada al Bajo Cauca sobre la Troncal de la Costa Atlántica, a 266 km. de Medellín. Tarazá presenta una topografía muy diversa, la zona llana se extiende a lo largo de la Troncal y sobre el valle aluvial que forma el río Cauca . En su territorio también convergen dos sistemas montañosos : uno al norte, que está enmarcado dentro del área de influencia del Nudo de Paramillo, limitando con los municipio s de San José de Uré y Puerto Libertador , en el sur del departamento de Córdoba; el segundo sistema al sur del municipio , se encuentra dentro de las estribaciones de la Cordillera Central , allende el río Cauca , en las veredas que conforman o son adyacentes al corregimiento de Barro Blanco, que a su vez limita con Cáceres, el corregimie nto de Liberia ( El Charcón ), de Anorí y Zaragoza. Los accidentes geográficos han determinado de forma particular la presencia y la dinámica de los actores armados ilegales en Tarazá. En el norte del municipio, en el área boscosa en inmediaciones del Nudo de Paramillo, tuvo una presencia muy significativ a el Frente 18 de las FARC – EP. A mediados de la década de 1980, esa guerrilla comenzó a realizar incursiones procedente s de los municipios de Ituango y Puerto Libertador , penetrando por el Cañón de Iglesia s hasta el corregimiento del Guaimaro, incluso hasta la vereda El Rayo en el corregimiento de Puerto Antioquia, muy cerca al casco urbano. A pesar de los fuer tes combates sostenidos con la Fuerza P ública , con bloques paramilitares y luego con grupos posdes movilización de las AUC, las FARC EP , siempre mantuvieron este corredor de movilidad hasta su reincorporación en el año 2016 . En el Cañón Carrera 9 # 16 -21 Bogotá D.C. PBX: (57) (1 ) 3147300 Línea Nacional: 01 8000 914814 www.defensoria.gov.co Plantilla Vigente desde: 27/06/2017 de Iglesias hubo una zona de pre agrupamiento temporal de aproximadamente 70 integrantes de es a organización. Los gru pos paramilitares también han hecho presencia en la zona norte del municipio , desde finales de la década de 1980. Los primeros intentos de este tipo de organización paramilitar estuvieron apoyados por los grupos de Autodefensas del Magdalena Medio , quienes enviaron hombres, armas y dinero para consolidar este proyecto contrainsurgente en la subregión del Bajo Cauca. El Bloque Mineros de las AUC solo fue reconocido con este nombre a partir del año 2000, a pesar de ser señalado de cometer graves vulneracion es a los DDHH en la década de 1990, como las masacres de los corregimientos de La Granja (1996) y El Aro (1997) en el municipio de Ituango. La sede principal de mando del Bloque Mineros estuvo ubicada en los Corregimientos de La Caucana y Guaimaro , ubicado s en jurisdicción de Tarazá , donde se encontraban los principales jefes, encabezados por Ramiro Vanoy, conocido como “Cuco Vanoy ”, quien sembró el terror en la zona hasta su desmovilización con 2.670 combatientes en enero de 2006, en una vereda del corregi miento de La Caucana: Pecoralia. Otro grupo paramilitar que operó en Tarazá fue el Bloque Barro Blanco de las AUC. Su nombre se debía a que tuvo como sede de mando e l corregimiento de este mismo nombre , ubicado al sur de Tar azá, al otro lado del río Cauc a, y cuyo objetivo principal fue el narcotráfico en función del proyecto paramilitar . Tuvo influencia directa en los vecinos municipios de Cáceres, Anorí, Valdivia y otros municipios limítrofes de la subregión del Norte de Antioquia . Este grupo se desmovil izó con el Bloque Mineros de las AUC . Las desmovilizaciones paramilitares provoc aron un vacío en el control territorial en el corregimiento de Barro Blanco que, a partir del año 2008 , le per mitió la incursión al grupo posdesmovilización “Águilas Negras ”, proveniente de Urabá y que hoy se autodenomina Autodefensas Gaitanistas de Colombia (AGC) . Desde este sitio ha coordinado los procesos de expansión y consolidación territorial en el Bajo Cauca hasta el presente . En este corregimiento también hicieron pre sencia integrantes del Frente 36 de las FARC EP , activo s en la zona hasta su reincorporación . El ELN ha tenido una presencia intermitente en esta misma zona, por cerca de tres décadas . El Frente de Guerra Compañero Tomás ha sido el más permanente, Pero a partir del año 2012 , la presencia del ELN ha sido reforzada con la compañía móvil Héroes y Mártires de Tarazá, lo que la ha permitido el importante control territorial que detenta en la actualidad. A partir de la desmovilización de los bloques de las AUC que operaban en la subregión del Bajo Cauca en el año 2006 , y de la posterior extradición a Estados Unidos de sus principales jefes en el año 2008, comenzó una reorganización de grupos armados pos desmovilización , reforzada con personal que no se desmoviliz ó o que después de hacer parte del proceso de sometimiento a la justicia, reincidió en conductas ilegales. En la zona hizo aparición el grupo de delincuencia organizada: “Los Paisas ”, un grupo que dependía de la llamada “ Oficina de Envigado ” y que tenía al ianza con el grupo armado ilegal “ Los Rastrojos ”, provenientes del Carrera 9 # 16 -21 Bogotá D.C. PBX: (57) (1 ) 3147300 Línea Nacional: 01 8000 914814 www.defensoria.gov.co Plantilla Vigente desde: 27/06/2017 Norte del Valle. El otro grupo armado ilegal que se conformó fue el de Los Caparrapos, en alusión a un grupo de comandantes que llegaron del municipio de Caparrapí, ubicado en el Magdalena Medio cundinamarqués y que habían sido mandos medios de los bloques de las AUC. En el periodo comprendido entre los años 2008 y 2011 en el Bajo Cauca y específicamente en el municipio de Tarazá, según los datos de la Red Nacional de Información – RNI de l a Unidad para Atención y Reparación Integral a las Víctimas (UARIV), se registró el mayor número de hechos victimizantes , tales como: homicidio s, masacres, desplazamiento s individual es y colectivo s, desaparición forzada, reclutamiento de NNA, esto debido a la disputa entre los grupos posdesmovilización a los que se ha hecho alusión, los cuales buscaban acceder al control territorial de las zonas dejadas por las AUC. Paisas – Rastrojos se enfrentaron contra Los Caparrapos y las Águilas Negras. Las Guerrillas de las FARC EP y el ELN , buscaban recuperar el territorio perdido en la confrontación anterior y hacían alianzas tácticas, sobre todo de movilidad y de protección de zonas de cultivos de coca, con uno y otro grupo posdesmovilización de las AUC. La confro ntación armada entre estructuras ilegales, fuerzas del Estado y los ámbitos trasnacionales en que operan las redes del narcotráfico, empezaron a transformarse de manera significativa a partir del año 2012, en un escenario de pactos a escala territorial. A nivel internacional , los carteles mexicanos se distribuyeron la producción de la hoja y de clorhidrato de coca ína en todo el país, correspondiendo él área del Noroccidente al Cartel de Sinaloa . A escala regional, hubo una negociación entre las Águilas Ne gras (hoy AGC) y Los Ra strojos en noviembre de 2011 , acordando que estos últimos se retiraban de Antioquia y el Sur de Córdoba, quedando las AGC con el control de toda la producción de cocaína para la exportación en esta zona del país. Esta distribución de economías ilegales, provoca pactos entre grupos armados ilegales : de un lado, los grupos sucesores de las AUC, respetan el control de las guerrillas en zonas montañosas en donde hay cultivos, dejando para ellos el impuesto de gramaje ; y de otro lado, tanto Caparrapos como Paisas , pasan a hacer parte de la estructura de los frentes de combate de las AGC, en una especie de concesión territorial para la captación de otras rentas ilegales como la extorsión y la minería no formalizada y participación en la ca dena de producción y exportación de la cocaína. La Oficina de Envigado , vio favorecid os sus intereses con estos pacto s, reconoci endo el valor de las rutas internacionales que controlaba n, recibiendo dinero y armas nuevas , producto del tráfico ilegal deriva do de grupos narcotraficantes provenientes de Sinaloa – México . Este fue el escenario que desde el 2012 y que hasta el 2017 , mantuvo en un relativo clima de paz a los grupos sucesores de las AUC2 que tuvieron cohesión como estructura en las AGC . Se 2 Grupos Armados Ilegales Pos desmovilización de las AUC Carrera 9 # 16 -21 Bogotá D.C. PBX: (57) (1 ) 3147300 Línea Nacional: 01 8000 914814 www.defensoria.gov.co Plantilla Vigente desde: 27/06/2017 const ituye así el Bloque Pacificadores de Bajo Cauca y Sur de Córdoba de las AGC . Los nombres de las estructuras armadas de tipo delincuencial, se transforman en frente de guerra, intentando emular a la guerrilla y a las AUC en su estructura organizacional . Las AGC , bautizaron cada frente con el nombre de algún personaje significativo del mundo paramilitar. A Los Caparrapos, con sede principal en Piamonte – Cáceres, le llamaron: Frente Virgilio Peralta. Los Paisas, que o peraban entre L a Caucana y El Guaimaro, p asaron a conformar el Frente José Felipe Reyes. No obstante, estos dos frentes conservaron cierta autonomía en el control de los territorios y el recaudo de las rentas ilegales. En los territorios del Bajo Cauca y el Sur de Córdoba , en los que las AGC hab ían logrado un control hegemónico previo al pacto con Los Rastrojos, organizó tres frentes que tenían un nivel de subordinación directo a la línea de mando establecida desde Urabá. El Frente Julio César Vargas se mantuvo en Barro Blanco y desde ahí coordin aba operativamente todo el Bloque. Sobre el río Nechí, entre el corregimiento de Buenos Aires (Palizada) – Zaragoza y el de Cuturú – Caucasia, se estableció la sede de mando del Frente Francisco Morales Peñate, que actúa hasta el municipio de Nechí. Mientr as que en los municipios del Sur de Córdoba , se organizó el control territorial de las AGC , en torno al frente Rubén Darío Ávila. Desde comienzos del año 2017, el equilibrio entre los grupos sucesores de las estructuras paramilitares asociadas a las Autod efensas Unidas de Colombia, comenzó a romperse. El 8 de enero de 2017, un grupo de hombres armados, ingresó en el corregimiento de Piamonte – Cáceres, produciendo la muerte de un reconocido integrante del Bloque Mineros y luego miembro de la organización c riminal “Los Paisas”. Había salido recientemente de la cárcel y al parecer tenía el propósito de ocupar un liderazgo en la estructura. Además de la muerte de esta persona, se produjo el homicidio de al menos otras cuatro, quienes al parecer fueron lanzadas al río Cauca, aunque solo se encontró un cuerpo. Las autoridades de Policía manifestaron en su momento que se trataba de una confrontación al interior del “Clan del Golfo” (AGC), por el control territorial de las rentas ilegales, que afectaba a los munic ipios de Cáceres y Tarazá. La negociación entre los actores armados ilegales y algunas capturas de mandos operativos de la zona, permitieron que el conflicto no escalara, aunque la ruptura al interior de las AGC era evidente y solo bastaba la confluencia de varios elementos de contexto para que se presentara una confrontación violenta en el Bajo Cauca. II. Escenario de riesgo actual El contexto ha estado determinado por el retiro de las FARC EP del escenario bélico en la región , tras el Acuerdo Final suscr ito con el Gobierno nacional . Los territorios que controlaba n las FARC – EP, quedaron a merced del apetito expansivo de los grupos sucesores de las AUC y del ELN . Sectores de l as AGC , tiene n el propósito de controlar esos territorios directamente o a través de “concesiones ”, con el objetivo de obtener rentas ilegales , impon er condiciones por el otorgamiento de la concesión territorial , lo cual ha producido recientes confrontaci ones con Carrera 9 # 16 -21 Bogotá D.C. PBX: (57) (1 ) 3147300 Línea Nacional: 01 8000 914814 www.defensoria.gov.co Plantilla Vigente desde: 27/06/2017 otros frentes de las AGC en e l Bajo Cauca , interes ados en este modelo de “franquicia ”, tales como los frentes: Virgilio Peralta Arenas (Caparrapos) y un reducto del anteriormente denominado frente José Felipe Reyes (Paisas). Estas últimas unidades tenían la expectativa de expandir sus “negocios ” a otras zonas de cultivo de hoja de coca, de explotación de minería no formalizada y de control de rutas de movilidad de la ilegalidad . En la actualidad , la alianza entre Caparrapos y Paisas se presenta como el Bloque de Guerra Virgilio Peralta Arenas de la “Autodefensa Campesina ”, por lo menos así ha firmado recientes panfletos físicos que han circulado en su zona de influencia. Las muertes o capturas de algunos de los comandantes o integrantes de las AGC , han provocado movimientos en la línea de mando central de las AGC, pero t ambién ha significado el debilitamiento y necesidad de recomposición de las estructuras regionales . En el Bajo Cauca, este debilitamiento ha generado que las estructuras agenciadas por las AGC, busquen su autonomía, desobedeciendo las órdenes provenientes del mando central de las AGC en Urabá. El principal objeto de disputa de las estructuras asociadas a las AGC , ésta centrada en las necesidades de control de la cadena del narcotráfico . Durante 2017, dichas actividades pudieron tener un comportamiento ines table del mercado, debido a que miles de familias campesinas que viven de los cultivos de coca , han limitado la siembra y se han comprometido con el modelo de sustitución voluntaria, en el marco de la implementación del Plan Nacional Integral de Sustitució n de Cultivos de Uso Ilícito – PNIS como forma de implementación del Acuerdo Final suscrito entre el Gobierno nacional y las FARC – EP. A su vez, los resulta dos operativos de la Fuerza P ública han logrado impactar las finanzas de los grupos armados ilegale s surgidos con posterioridad al proceso de desmovilización de las AUC en el Bajo Cauca , lo que ha reducido el poder adquisitivo para la compra de pasta de coca por parte de las AGC . En retaliación por la acción de las autoridades, las AGC han ejecutado un llamado “Plan Pistola” dirigido contra la Policía Nacional , lo cual profundiza la vulnerabilidad de la comunidad para afrontar la protección ante situaciones de amenaza contra la vida, integridad, libertad y seguridad. Son precisamente los territorios de l cultivo de coca vinculados al PNIS , el escenario principal de riesgo de las comunidades rurales en los municipios de Tarazá y Cáceres . También la minería no formalizada es apetecida por la generación de exacciones a las máquinas y hasta los propios bar equeros que deben pagar 2.000 pesos cada día para poder trabajar, sin embargo, la dinámica la impone el mercado trasnacional del narcotráfico. Narcotraficantes nacionales e incluso internacionales (Cartel es mexicanos ), en asocio con estructuras de narcotr áfico del Valle de Aburrá, estarían tomando el control de negocios ilegales, en especial para obtener ganancias en toda la cadena del narcotráfico : desde la pretensión de manejar los réditos que se pudieran generar en la estabiliza ción de los flujos de pr oducción de la pasta de coca y las rutas de movilidad, en especial en territorios abandonados por las FARC , hasta el control del narcotráfico al menudeo . Así, grupos que no contaban con muchos recursos para financiar sus propósitos expansivos , pudieron hab erse Carrera 9 # 16 -21 Bogotá D.C. PBX: (57) (1 ) 3147300 Línea Nacional: 01 8000 914814 www.defensoria.gov.co Plantilla Vigente desde: 27/06/2017 robustecido con el ingreso de estos capitales que han sido importantes para la persistencia y agudización del conflicto violento, en especial estructuras sucesoras del paramilitarismo como las AGC. La disputa entre grupos sucesores del paramilitarism o asociados a las AGC, genera alianzas y rupturas que hacen más dramática la situación humanitaria en el Bajo Cauca. La alianza Caparrapos – Paisas ha generado una abierta disputa violenta con tres frentes de las AGC : el Frente Julio César Vargas , el cual , combate contra Caparrapos en zona rural de Cáceres, desde Barro Blanco, tal como puede observarse en el relato de la Alerta Temprana No. 09 de 2018. El Frente Francisco Morelos Peñate , disputa el control del territorio del municipio de Caucasia , en corre gimientos como : Puerto Colombia y El Pando, donde se presentaron hostilidades con pequeñas células de Los Caparrapos . Y en el norte de Tarazá , en límites con San José de Uré e Ituango, el Frente Rubén Darío Ávila de las AGC, que ha mantenido la hegemonía e n los municipios del sur de Córdoba , se enfrenta a la estructura de la alianza Caparrapos - Paisas , que ha mantenido el control de los corregimientos de El Guaimaro y La Caucana , desde hace 6 años. Para el caso del municipio de Tarazá, la disputa entre C aparrapos y las diferentes es tructuras de las AGC , durante los dos primeros meses del presente año, ha estado caracterizada por una violencia masiva , pero con o bjetivos determinados, expresados en el desplazamiento individual y el homicidio selectivo, hech os victimizantes que se ilustrarán más adelante. A diferencia del municipio de Cáceres , en este periodo las violaciones a los DDHH y el DIH se han caracterizado por una confrontación en la zona rural abierta , que ha provocado desplazamientos masivos : en cu atro eventos se produjeron cerca de 1600 víctimas , en una clara estrategia de vaciamiento del territorio . No obstante, este escenario de riesgo puede cambiar radicalmente en el territorio ubicado al norte del municipio de Tarazá , y este es precisamente el propósito de la presente Alerta Temprana: advertir sobre el movimiento de hombres armados entre el Guaimaro y el Cañón de Iglesias (vereda El Socorro) en Tarazá hasta los límites del municipio de Ituango, donde se ha generado un desplazamiento masivo entr e los días 27 y 28 de febrero del presente año de al menos 22 familias de las veredas Ciénaga, el Silencio y San Juanillos al corregimiento de Santa Rita ubicado en Ituango . El día 4 de marzo se presentaron combates por cerca de tres horas en un territorio cercano al Cañón de Iglesias. Según una fuente comunitaria se presentaron muertos en combate, que recogieron los propios grupos enfrentados, que al parecer se trata del Frente de Guerra Virgilio Peralta Arenas (Caparrapos) y del Frente Rubén Darío Ávila d e las AGC. Hasta el momento no hay datos de desplazamiento forzado. Las alertas tempranas No. 005 para Tierra lta y No. 023 para el municipio de San José de Uré, ilustran la dinámica de los actores armados y las vulneraciones a los DDHH que ha producido la confrontación armada entre el frente Rubén Darío Ávila de las AGC y Los Caparrapos en estos municipios del Sur de Córdoba , limítrofes con Tarazá e Ituango, para el primer municipio relata la incursión de armados desde veredas ubicadas en el corregimiento de La Caucana, como Santa Clara. Pero el movimiento de grupos armados ilegales entre el límite con Ituango, en veredas adyacentes al Cañón de Iglesias no estaba advertido. Carrera 9 # 16 -21 Bogotá D.C. PBX: (57) (1 ) 3147300 Línea Nacional: 01 8000 914814 www.defensoria.gov.co Plantilla Vigente desde: 27/06/2017 Como se mencionó anteriormente, las FARC EP estuvieron controlando el Cañón de Igle sias y el corredor que pasa por el corregimiento de Santa Rita en Itua ngo hasta el año 2016 , que se movilizó hasta la zona veredal transitoria correspondiente. Rápidamente Los Caparrapos – Paisas se expandieron desde el corregimiento de Guaimaro hasta esta zona, que además de ser corredor de movilidad tiene un gran número de hectáreas sembradas con coca. Uno de los hechos más resonados que dan cuenta del reciente ejercicio de control territorial en la zona por este grupo , fue el asesinato de Miguel Pérez, l íder de la vereda La Unión, de las organizaciones COCAM, ASOCBAC, Marcha patriótica e impulsor del Programa de Sustitución de cultivos ilícitos, el 22 de octubre de 2017. El presunto asesino fue capturado por las autoridades y señalado de ser el presunto c oordinador de esta facción de las AGC en la zona de las veredas adyacentes al Cañón de Iglesias. El control del corredor del Cañón de Iglesias , le permitiría al frente Rubén Darío Ávila de las AGC copar espacios a Los Caparrapos – Paisas, abriendo una ru ta de penetración que le facilitaría llegar hasta el principal bastión de este último grupo armado en el corregimiento Guaimaro , donde habitan cerca de 1600 personas. El mismo propósito tiene Los Caparrapos en esta contienda, porque por el Cañón pueden ing resar a Ituango y enfrentar desde una mejor posición a las AGC , por los municipios de Puerto Libertador y San José de Uré. Es importante señalar que justo alrededor de los puntos de entrada al cañón se ubic an dos resguardos Embera Catío: Jaideza bi, hacia Tarazá y Jaidukamá hacia Ituango. Pero al parecer, en el medio del camino, justo en el límite entre Ituango y Tarazá, en las veredas adyacentes al Cañón por el lado de Ituango, hay un reducto de personas que se han retirado del proceso de reincorporación de las FARC – EP, y han vuelto a tomar las armas. No hay certeza respecto a sí están articulados a alguna organización armada ilegal o se han estructurado autónomamente , aunque en un comunicado que circuló por redes sociales , y supuestamente firmado por las “Columnas 18 y 36 frentes FARC – EP”, fechado el 28 de febrero en Ituango, menciona las razones por las que esta facción no está en el Proceso de Paz y desmiente los señalamientos de ser los provocadores del reciente desplazamiento de las comunidades de Ciénaga , La Soledad, San Juanillo, Quebradona y El Indio, atribuyendo la responsabilidad por estas conductas a las AGC. Sin embargo, la veracidad de este comunicado no ha sido confirmada aun . Algunas fuentes consultadas , señalan que los desplazamiento s forzados han sido provocados por Los Caparrapos , hipótesis que se debe considerar porque este grupo armado ha estimulado esta conducta recientemente en la zona, como es el caso del vecino municipio de Cáceres. En caso de existir ese reducto rearmado de las FARC EP, puede implicar otro factor de riesgo: el control a sangre y fuego de los territorios dejados a partir del proceso de reincorporación, entrando como un actor activo en el proceso de expansión y confrontación , complicando aún más el escenario actual de riesgo . Combates recientes en el sector de Chontadural , en el municipio de Ituango , e interce ptaciones de comunicaciones por parte de la Fuerza Pública, entregados a medios parecen corroborar esta hipótesis. A continuación se describen los principal es hechos victimizantes de los DDHH y las conductas vulneratorias del DIH que sustenta el escenario de riesgo descrito en la presente Alerta Carrera 9 # 16 -21 Bogotá D.C. PBX: (57) (1 ) 3147300 Línea Nacional: 01 8000 914814 www.defensoria.gov.co Plantilla Vigente desde: 27/06/2017 Temprana y que se han presentado durante los meses de enero y febrero del presente año en el municipio de Tarazá. a. Homicidios Durante los dos primeros meses del presente año el homicidio en Tarazá se ha incrementado . Entre el 1 de enero y el 28 de febrero de 2018, la cifra de asesinatos es de 23 casos, según datos de la Secretaría de Gobierno de Tarazá con informa ción suministrada por la Policía Nacional. En el mismo periodo , en 2017, se presentaron 6 homicidios , según datos del Observatorio de la Policía Nacional, lo que comparativamente arroja un incremento del 383%. La mayoría de los homicidios son selectivo s y se presenta n mediante la modalidad de “sicaria to” en la zona urbana , y por incursiones de pequeñas células de armados , en zona rural; otros pocos , se han presentado en combates. Algunos homicidios se han cometido contra supuestos integrantes de las estru cturas ilegales, ya sea en contra de personas calificadas como expendedores de drogas , apoyos logísticos y sicarios de grupos armados ilegales . También se han prese ntado homicidios contra pobla dores, como el registrado el 24 de enero de 2018 , en la hacien da “El Topacio ”, entregada por Ramiro Vanoy al Fondo de Reparación de las Víctimas . Allí fu eron asesinados dos vigilantes de una empresa privada se seguridad , contratada por la Unidad Especial de Atención y Reparación Integral a las Víctimas (UARIV), quien tiene la custodia del bien. Producto de este homicidio se desplazaron forzadamente las dos familias de las víctimas y otras ocho , de los demás vigilantes del predio. A continuación se reseña otros homicidios registrados por el SAT: - El 8 de febrero, aproximadamente a las 6:00 pm, en el sector Piedras (cinco minutos de la zona urbana) , fue asesinado el señor David Alexis Narváez, de 27 años de edad, residente en la vereda la Pipiola del corregimiento El Doce. El señor Alexis era miembro de la Junta de Acción Comunal y s e encontraba en el Programa de s ustitución de cultivos ilícitos. Su familia se vio obligada a desplazarse forzadamente. - El 11 de febrero de 2018, fue asesinado un reconocido mecánico que había hecho parte del proceso de desmovilización de las AUC . En el mismo evento resultaron heridas otras cuatro personas, al parecer también desmovilizadas. - El 18 de febrero de 2018, en horas de la noche, un grupo de hombres armados al parecer provenientes de las AGC , desde el municipio de San José d e Uré, incursionó en la vereda limítrofe de Santa Clara de Tarazá y en un billar dio muerte, según fuentes comunitarias, a cuatro personas, aunque oficialmente solo se dio levantamiento de dos cadáveres que fueron llevados a Tarazá. Carrera 9 # 16 -21 Bogotá D.C. PBX: (57) (1 ) 3147300 Línea Nacional: 01 8000 914814 www.defensoria.gov.co Plantilla Vigente desde: 27/06/2017 - El sábado 3 de marzo en horas de la noche, fue asesinada una reconocida integrante de la pobl ación LGBT que se hacía llamar ALEXA. El asesinato se produjo en la peluquería en que Alexa trabajaba, en el barrio Palmas, del casco urbano de Tarazá. - El sábado 3 de marzo en de l a noche fue asesinada una señora propietaria de una tienda en la vereda El Cinco, del corregimiento de Puerto Antioquia, vereda señalada por una fuente como frontera entre el control territorial de grupos armados ilegales. El homicidio se produjo en su pro pia tienda. El esposo de esta señora fue asesinado 15 días atrás, en hechos similares ya que el homicidio se produjo en la misma tienda que era propiedad de esta familia. - El sábado 3 de marzo fueron asesinadas dos personas que se movilizaban en una moto cicleta por el corregimiento de El Doce. Las dos personas eran padre e hijo entre sí y se dedicaban a la venta de discos de música y video. - Al comienzo de la noche del 6 de marzo, en el barrio Puente Roto, fue asesinada Yesica Osorio, ama de casa y madr e de un menor de edad. Fue asesinada por un sicario que le disparo mientras estaba en la mecedora de una casa vecina departiendo con varias personas. - En la noche del 6 de marzo fue asesinado en el sector de Piedras, sobre la Troncal de la Costa Atlántic a el Intendente Wilson Nelson Ramírez, mientras que su compañero, el patrullero Arley Ortiz Rivas, resultó herido. Los hechos se presentaron cuando iniciaron la persecución de dos sujetos sospechosos ya que se encontraban en la búsqueda de los responsables materiales de un homicidio que se había producido pocas horas antes. Los sujetos perseguidos usaron sus armas de fuego impactando mortalmente al intendente Ramírez. b. Desplazamiento forzado Como territorio expulsor, el municipio de Tarazá se ha carac terizado durante las primeras semanas del 2018 p or un desplazamiento individual de familias a cuenta gota , quienes salen forzadamente del municipio. Las víctimas principalmente son familiares de personas asesinad as o amenazadas bajo el cargo de “colaborar con el bando enemigo ” o con la Fuerza Pública. La cifra suministrada por la Unidad Municipal de Víctimas de la Alcaldía de Medellín , de familias atendidas procedentes de Tarazá , entre el 1 de enero y el 2 8 de febrero del presente año, es de 70 familias desplazadas forzadamente . En la Personería de Bello, en tre el 1 de enero y el 22 de febrero , han declarado desplazamiento forzado : 28 familias procedentes de ese municipio. Solo a estos dos municipios del Valle de Aburrá , han llegado 98 familias de Tarazá , un promedio de 490 personas en solo 8 semanas del año 2018 . La cifra de desplazados forzados expulsados de Tarazá a nivel nacional aún no es conocida por el SAT, pero estos datos parciales ya dan cuenta de un evento colectivo que , aunque a cuenta gotas , es de enorme s proporciones , revelando una crisis humanitaria oculta. Carrera 9 # 16 -21 Bogotá D.C. PBX: (57) (1 ) 3147300 Línea Nacional: 01 8000 914814 www.defensoria.gov.co Plantilla Vigente desde: 27/06/2017 En materia propiamente de desplazamiento masivo, el municipio de Tarazá , ha sido receptor de dos eventos: El día 19 de enero de 2018, se produjo el desplazamiento de 45 barequeros que tr abajaban en inmediac iones de Alto Tamaná en Cáceres. D espués de este hecho se produjo el desplazamiento en el resto de veredas del sector hacía el primer evento masivo de este año en Cáceres . Estas personas declararon el hecho ante la Personería de Tarazá, en donde residen con sus familias, y han recibido ayudas humanitarias de emergencia por afectación de los medios de vida. Otro desplazamiento masivo , fue el declarad o por un grupo de 47 barequeros, también ante la Personería de Tarazá, que dicen haber si do desplazados forzadamente el 24 de febrero de 2018, por el actor armado Los Caparrapos , desde su sitio de trabajo en la vereda La Esperanza , en límites con San José de Uré. Aunque los elementos de este desplazamiento aún son materia de verificación, la declaración se recepcionó , en los términos de las Ley 1448 de 2011 por una agencia del Ministerio Público. Este desplazamiento puede evidenciar el paso de los Caparrapos hasta los límites con el municipio de Ituango. c. Restricciones a la movilidad Las d iferentes fuentes comunitarias y oficial es locales consultadas, coinciden en señalar que el casco urbano de Tarazá se encuentra sitiado por las barreras a la movilidad que imponen por el control territorial grupos armados ilegales. Los residentes de la zo na urbana no pueden movilizarse hacía el norte de la localidad , hacía los corregimientos de Guaimaro y La Caucana , ni al occidente hacía el corregimiento E l Doce, ni al sur hacía Barro Blanco, y mucho menos al oriente, hacía el vecino municipio de Cáceres. A esto se suma que el territorio rural está altamente contaminado por artefactos exp losivos y munición sin explotar. Tarazá es el quinto municipio con más eventos de registrados en el país según la base de datos de DAICMA. Desde el primero de marzo de 2018, circula un panfleto firmado por el Bloque Virgilio Peralta Arenas , en el que se restringe la mov ilidad a partir de las 7:00 p.m. en los sectores en los que tiene injerencia. A esta situación crítica , se adiciona el temor por amenazas generalizadas, a lgunas podrían calificarse como falsas , pero otras resultan concretas , como por ejemplo el paro armado realizado por el ELN entre el 10 y el 13 de febrero de 2018 . Aunque las hostilidades realizadas por este grupo guerrillero fueron en el municipio de Vald ivia, en particular en Puerto Valdivia , que es el sector donde tradicionalmente esta guerrilla accede a la Troncal de la Costa Atlántica , todo el trayecto de ésta, hasta Caucasia , estuvo completamente paralizado los días 11 y 12 de febrero. A pesar de la p resencia de la Fuerza P ública toda la población de este sector, incluyendo los cascos urbanos de Tarazá y Cáceres , cesó toda actividad económica, de transporte y oficial. En el municipio de Tarazá , el ELN tienen presencia en el corregimiento de Barro Blanc o y en varias veredas del de Puerto Antioquia; así lo evidencia el evento Carrera 9 # 16 -21 Bogotá D.C. PBX: (57) (1 ) 3147300 Línea Nacional: 01 8000 914814 www.defensoria.gov.co Plantilla Vigente desde: 27/06/2017 registrado el día 2 de febrero del presente año , cuando se escucharon tres de tonaciones en la vereda El Rayo: a l parecer integrantes del ELN intentaron derribar unas torres de transm isión de energía , sin lograr su propósito. E sto también muestra lo cerca que puede llegar este grupo insurgente al casco urbano. d. Cultivadores de coca En un lapso de menos de tres meses , han sido asesinados dos integrantes de la organización encarga da de promover la sustitución de cultivos en Tarazá. En una reunión encabezada por el Defensor Regional de Antioquia, el día 15 de febrero de 2018, varios líderes de la CO CCAM expresaron su preocupación en materia de seguridad, ya que los campesinos cult ivadores de la hoja de coca están presionados por los grupos armados ilegales , los cuales les impiden sustituir cultivos , se oponen a la erradicación forzada con acompañamiento de la Fuerza Pública y señalan el incumplimiento del Gobierno Nacional en el cronograma de pagos acordados por la sustitución voluntaria. Un representante de la Agencia encargada en la localidad de las actividades relacionadas con sustitución, afirmó que las demoras se deben a las inconsistencias en la información suministrada para l a construcción de las bases de datos. No obstante, en algunas veredas los grupos armados ilegales han señalado a los líderes sociales y comunitarios , como responsables de los incumplimientos por parte del Gobierno Nacional. Por las características de la violencia que actualmente se presenta en este territorio , líderes que promueven la implementación de los acuerdos , son altamente vulnerables . Incluso, se han presentado dos homicidios, tal como se ha mencionado (Miguel Pérez y David Alexis Narváez) . Las organizaciones que tienen un mayor nivel de riesgo en Tarazá son: Coordinadora Nacional Cultivadores de Coca, Amapola y Marihu ana (CO CCAM), Asociación de Campesinos del Bajo Cauca (ASOCBAC), Asociación Nacional de Zonas de Reserva Campesina (ANZORC) , ASOC OMUNAL Tarazá y el movimiento Marcha Patriótica. El programa PNIS , no ha podido ser implementa do en varias veredas de los corregimientos de El Doce y Barro Blanco , esto se debe a que , el 27 de septiembre de 2017 , los funcionarios del Programa y de la Alca ldía de Tarazá fueron obligados a devolver los formularios y a salir del corregimiento El Doce , por una intimidación directa de los actores armados ilegales que controlan este territorio. Los líderes de COCAM y ASOCBAC que acompañaban el proceso también fu eron intimidados y obligados a abandonar el corregimiento . En conclusión, la dinámica de los actores armados ilegales que determina la hipótesis de riesgo de vulneración de los DDHH y el DIH para la población civil de Tarazá está caracterizada por: el re tiro de las FARC del escenario bélico, el aparente rearme de algunos integrantes que no van más con el proceso de reincorporación de las FARC, el avance de las AGC y del ELN sobre estos, las c apturas y muertes de las comandancias de los GAIP AUC que han provocado divisiones en su interior y rupturas de algunos grupos con el mando central de Carrera 9 # 16 -21 Bogotá D.C. PBX: (57) (1 ) 3147300 Línea Nacional: 01 8000 914814 www.defensoria.gov.co Plantilla Vigente desde: 27/06/2017 Urabá . Esto ha provocado que en los dos últimos años el control hegemónico de este territorio sea inestable y que los actores armados , además de la movilidad de rutas d el narcotráfico que van hacía las dos costas de Panamá, tengan interés en rentas ilícitas como los cultivos de coca y la extorsión a la minería no formalizada. Aunque este no es un escenario nuevo, tanto fuentes comunitarias como oficiales coinciden en expresar : “volvimos a la guerra anterior”, en alusión a la aguda violencia provocada por el contexto de confrontación entre grupos armados ilegales entre los años 2008 y 201 1, que recicla los mismos actores y territorios en disputa, en una muestras más de q ue los pactos entre ilegales , baja n las cifras de violencia en el corto plazo , pero son inestables en el mediano plazo, repitiendo ciclos de violencia , debido a la falta de acción integral oportuna del Estado en estas zonas del país. III. Recomendaciones A la Secretaría Técnica de la Comisión Intersectorial para la Respuesta Rápida a las Alertas Tempranas (CIPRAT), tramitar de manera inmediata ante las autoridades competentes esta alerta temprana de inminencia, para que se adopten las medidas urgentes de preve nción y protección para los habitantes d el municipio de T arazá , entre otras, se recomienda: 1. Al Ejército Nacional, en particular a la Décima Primera Brigada para que con la coordinación de la Séptima División , fortale zca las operaciones tendientes a controlar los corredores de movilidad que los grupos armados ilegales utilizan para pretender contr olar el municipio de Tarazá, concretamente en el Cañón de Iglesias (vereda Socorro), en los límites con los municipios de Ituango y San José de Uré y en los corregimientos de Barro Blanco y El Doce. 2. A la Policía Nacional, establecer un grupo del Escuad rón Móvil de Carabineros (EMCAR) en el corregimiento El Guaimaro, contando con el apoyo logístico de la Gobernación de Antioquia y la Alcaldía de Tarazá. 3. A la Policía Nacional, la Gobernación de Antioquia y la Alcaldía de Tarazá, agilizar los trámites pertinentes para la construcción y puesta en funcionamiento d e la proyectada subestación de P olicía para el corregimiento Barro Blanco. 4. A la Policía Nacional, ampliar el número de efectivos en la estación de Policía del casco urbano de Tarazá y en l a subestación del corregimiento La Caucana, contando con el apoyo logístico de la Gobernación de Antioquia y la Alcaldía de Tarazá según lo establecido en la ley. 5. A la Fiscalía General de la Nación, al CTI y a la SIJIN, reforzar los equipos y las estra tegias investigativas , con el ánimo de desestructurar las organizaciones armadas ilegales y esclarecer las vulneraciones a los DDHH que se han producido en Tarazá durante el presente año. Carrera 9 # 16 -21 Bogotá D.C. PBX: (57) (1 ) 3147300 Línea Nacional: 01 8000 914814 www.defensoria.gov.co Plantilla Vigente desde: 27/06/2017 6. A la Unidad Nacional de Protección, concertar donde haya lugar, la implementación de medidas de protección colectiva y formación en mecanismos de autoprotección , con las organizaciones sociales: Coordinadora Nacional Cultivadores de Coca, Amapola y Marihu ana (COCCAM), Asociación de Campesinos del Bajo Cauca (ASOCBAC), Asociación Nacional de Zonas de Reserva Campesina (ANZORC) , ASOCUMUNAL Tarazá y el movimiento Marcha Patriótica. 7. A la Dirección de Asuntos Indígenas ROOM y Minorías del Ministerio del Interior y a la Gerencia Indígena de la Gobernación de Antioquia , disponer los recursos y el acompañamiento técnico para la implementación del Plan de Salvaguarda para el Pueblo Embera de Antioquia, de que trata el Auto 04 de 2009 , de seguimiento a la Sentencia T – 025 de 2004, de la Corte Constitucional, con el propósito de proteger a la población de los resguardos indígenas de Jaideza bi y Jaidukamá . 8. A la Alcaldía de Tarazá, en coordinación con la Gobernación de Antioquia y la UARIV, activar el Plan de Contingencia de que trata la Ley 1448 de 2011, previendo la ocurren cia de eventos de vulneración de DDHH masivos. Además de disponer con previsión los recursos suficientes para la atenci ón de una emergencia humanitaria es necesaria la designación de un centro único de recepción, registro y entrega de las ayudas por parte de la administración local. 9. A la UARIV, analizar los casos de desplazamiento individual que se han presentado en l o que va corrido del año 2018 en el municipio de Tarazá y según los criterios de la Ley 1448 de 2011, dar el tratamiento de eventos masivo s de desplazamiento en donde haya lugar. Igualmente, valorar estas declaraciones dentro del plazo de 60 días establecido en la Ley. 10. A la Agencia de Renovación del Territorio, cumplir un cronograma oportuno en las actividades y los pagos programados, t eniendo en cuenta que los retrasos son utilizados como pretexto por parte de los grupos armados ilegales para incentivar la salida de las familias del Programa de Sustitución de Cultivos Ilícitos y para señalar a líderes sociales. Ante los altos índices de pobreza en Tarazá también se le recomienda acelerar la concertación para la implementación de los PDET. 11. A la Comisión Intersectorial para la Respuesta Rápida a las Alertas Tempranas (CIPRAT), apoyar la coordinación de la respuesta estatal en materia de prevención y protección por parte de las autoridades concernidas en esta Alerta Temprana de Inminencia y convocar los espacios territorial es de que trata el Decreto 2124 de 2017, para hacer seguimiento a la evolución del riesgo y la respuesta institucio nal. Carrera 9 # 16 -21 Bogotá D.C. PBX: (57) (1 ) 3147300 Línea Nacional: 01 8000 914814 www.defensoria.gov.co Plantilla Vigente desde: 27/06/2017 12. A la Comisión Intersectorial de Respuesta Rápida a las Alertas Tempranas - CIPRAT, informar a la Dirección del Sistema de Alertas Tempranas (SAT) de la Defensoría del Pueblo, las actuaciones y medidas adoptadas con respecto a las recomendaciones formuladas en la presente advertencia conforme a lo previsto en la Corte constitucional y la Ley 24 de 1992. Dicha información deberá ser allegada en concordancia con los términos establecidos en del Decreto 2124 de 2017 y según lo estipulado en el artícul o 15 y subsiguientes de la Ley 24 del 15 de diciembre de 1992 , a los siguientes datos de contacto: Correo Electrónico institucional: jeguzman@defensoría.gov.co y fegaitan @defensor ía.gov.co Dirección Pos tal: Carrera 9 No 16 -21 Bogotá D.C., Código postal: 110321 Defensoría del Pueblo Cordialmente, CARLOS ALFONSO NEGRET MOSQUERA Defensor del Pueblo Proyectó: Claudia Rojas Revisó: Rafael Hernando Navarro y Mauricio Redondo Valencia Archivado en: Alertas Tempranas 2018 Consecutivo Dependencia: 404001 -0142/18 ORIGINAL FIRMADO'"
      ]
     },
     "execution_count": 33,
     "metadata": {},
     "output_type": "execute_result"
    }
   ],
   "source": [
    "df.loc[25][\"Text\"]"
   ]
  },
  {
   "cell_type": "markdown",
   "id": "f758cbca",
   "metadata": {},
   "source": [
    "# 4. Extracting Actores del Conflicto"
   ]
  },
  {
   "cell_type": "code",
   "execution_count": 34,
   "id": "5a26dfc3",
   "metadata": {},
   "outputs": [],
   "source": [
    "#https://es.wikipedia.org/wiki/C%C3%A1rtel_(organizaci%C3%B3n_il%C3%ADcita)#Colombia\n",
    "#https://es.wikipedia.org/wiki/Bandas_y_grupos_emergentes_en_Colombia\n",
    "#https://www.datos.gov.co/Mapas-Nacionales/Departamentos-y-municipios-de-Colombia/xdk5-pm3f"
   ]
  },
  {
   "cell_type": "code",
   "execution_count": 35,
   "id": "7a40bcf2",
   "metadata": {},
   "outputs": [
    {
     "data": {
      "text/html": [
       "<div>\n",
       "<style scoped>\n",
       "    .dataframe tbody tr th:only-of-type {\n",
       "        vertical-align: middle;\n",
       "    }\n",
       "\n",
       "    .dataframe tbody tr th {\n",
       "        vertical-align: top;\n",
       "    }\n",
       "\n",
       "    .dataframe thead th {\n",
       "        text-align: right;\n",
       "    }\n",
       "</style>\n",
       "<table border=\"1\" class=\"dataframe\">\n",
       "  <thead>\n",
       "    <tr style=\"text-align: right;\">\n",
       "      <th></th>\n",
       "      <th>REGION</th>\n",
       "      <th>CÓDIGO DANE DEL DEPARTAMENTO</th>\n",
       "      <th>DEPARTAMENTO</th>\n",
       "      <th>CÓDIGO DANE DEL MUNICIPIO</th>\n",
       "      <th>MUNICIPIO</th>\n",
       "    </tr>\n",
       "  </thead>\n",
       "  <tbody>\n",
       "    <tr>\n",
       "      <th>0</th>\n",
       "      <td>Región Eje Cafetero - Antioquia</td>\n",
       "      <td>5</td>\n",
       "      <td>Antioquia</td>\n",
       "      <td>5.001</td>\n",
       "      <td>Medellín</td>\n",
       "    </tr>\n",
       "    <tr>\n",
       "      <th>1</th>\n",
       "      <td>Región Eje Cafetero - Antioquia</td>\n",
       "      <td>5</td>\n",
       "      <td>Antioquia</td>\n",
       "      <td>5.002</td>\n",
       "      <td>Abejorral</td>\n",
       "    </tr>\n",
       "    <tr>\n",
       "      <th>2</th>\n",
       "      <td>Región Eje Cafetero - Antioquia</td>\n",
       "      <td>5</td>\n",
       "      <td>Antioquia</td>\n",
       "      <td>5.004</td>\n",
       "      <td>Abriaquí</td>\n",
       "    </tr>\n",
       "    <tr>\n",
       "      <th>3</th>\n",
       "      <td>Región Eje Cafetero - Antioquia</td>\n",
       "      <td>5</td>\n",
       "      <td>Antioquia</td>\n",
       "      <td>5.021</td>\n",
       "      <td>Alejandría</td>\n",
       "    </tr>\n",
       "    <tr>\n",
       "      <th>4</th>\n",
       "      <td>Región Eje Cafetero - Antioquia</td>\n",
       "      <td>5</td>\n",
       "      <td>Antioquia</td>\n",
       "      <td>5.030</td>\n",
       "      <td>Amagá</td>\n",
       "    </tr>\n",
       "  </tbody>\n",
       "</table>\n",
       "</div>"
      ],
      "text/plain": [
       "                            REGION  CÓDIGO DANE DEL DEPARTAMENTO DEPARTAMENTO  \\\n",
       "0  Región Eje Cafetero - Antioquia                             5    Antioquia   \n",
       "1  Región Eje Cafetero - Antioquia                             5    Antioquia   \n",
       "2  Región Eje Cafetero - Antioquia                             5    Antioquia   \n",
       "3  Región Eje Cafetero - Antioquia                             5    Antioquia   \n",
       "4  Región Eje Cafetero - Antioquia                             5    Antioquia   \n",
       "\n",
       "   CÓDIGO DANE DEL MUNICIPIO   MUNICIPIO  \n",
       "0                      5.001    Medellín  \n",
       "1                      5.002   Abejorral  \n",
       "2                      5.004    Abriaquí  \n",
       "3                      5.021  Alejandría  \n",
       "4                      5.030       Amagá  "
      ]
     },
     "execution_count": 35,
     "metadata": {},
     "output_type": "execute_result"
    }
   ],
   "source": [
    "grupos = {\n",
    "    \"Grupo Armado Organizado\" : [\"GAO\"],\n",
    "    \"Grupo Armado Ilegal\" : [\"GAI\"],\n",
    "    \"Grupo Armado Organizado Residual\" : [\"GAOR\", \"GAO-R\", \"grupo armado organizado - residual\" ], \n",
    "    \"Ejército de Liberación Nacional\" : [\"ELN\"],\n",
    "    \"Autodefensas Gaitanistas de Colombia\" : [\"AGC\"],\n",
    "    \"Fuerzas Armadas Revolucionarias\" : [\"FARC\", ],\n",
    "    \"Grupo delincuencial organizado\" : [\"GDO\", ],\n",
    "    \"Ejército del Pueblo\" : [\"EP\"],\n",
    "    \"Jalisco Nueva Generación\": [],\n",
    "    \"Bandas Criminales\" : [\"BACRIM\", \"Bandas Emergentes\"],\n",
    "    \"Autodefensas Unidas de Colombia\" : [\"AUC\", ],\n",
    "    \"Grupos posdesmovilización\": [],\n",
    "    \"Ejército de Liberación Popular\": [\"EPL\"],\n",
    "    \"Clan del Golfo\" : [\"AGC\"],\n",
    "}\n",
    "\n",
    "children = [\"NNAJ\", \"niños\", \"niñas\", \"adolescentes\", \"jóvenes\", \"NNA\"]\n",
    "\n",
    "narco_grupos  = [\"Cartel del Amazonas\",  \n",
    "        \"Cartel de Los Nevados\",\n",
    "        \"Cartel de Bogotá\",\n",
    "        \"Cartel de Buga\",\n",
    "        \"Cartel de Medellín\",\n",
    "        \"Oficina de Envigado\",\n",
    "        \"Cartel de Cali\",\n",
    "        \"Cartel del Caquetá\",\n",
    "        \"Cartel del Norte del Valle\",\n",
    "        \"Los Rastrojos\",\n",
    "        \"Cartel de la Costa Atlántica\",\n",
    "        \"Cartel de La Guajira\",\n",
    "        \"Cartel del Cauca\",\n",
    "        \"Los Caparrapos\",\n",
    "        \"Los Paisas\",\n",
    "        \"Águilas Negras\",\n",
    "        \"Los Puntilleros\",\n",
    "        \"Ejército Revolucionario Popular Antisubversivo de Colombia\",\n",
    "        \"Los Pelusos\",\n",
    "        \"GDO Los Pachenca\",\n",
    "        \"Clan Gnecco Cerchar\",\n",
    "        \"Clan Bustamante\", \n",
    "        \"Activo Primer Frente\",\n",
    "        \"Segunda Marquetalia\", \n",
    "        \"Los Zetas\", \n",
    "        \"Cartel de Sinaloa\", \n",
    "        \"Oficina de Envigado\", \n",
    "        \"La Terraza\",\n",
    "        \"Robledo\",\n",
    "        \"Pachelly\",\n",
    "        \"La Sierra\", \n",
    "        \"Caicedo\", \n",
    "        \"Los Triana\",\n",
    "        \"Clan del Oriente\", \n",
    "        \"La Unión\",\n",
    "        \"Clan del Norte\",\n",
    "        \"Los Costeños\", \n",
    "        \"Los Pachencha\", \n",
    "        \"La Cordillera\",\n",
    "        \"La Gran Alianza\",\n",
    "        \"Banda Local\",\n",
    "        \"Norte del Valle\",\n",
    "        \"Los Chuckys\",\n",
    "        \"Los Chacales\",\n",
    "        \"La Constru\",\n",
    "        \"Los Caqueteños\"]\n",
    "\n",
    "POI = {\n",
    "    \"Evaristo Porras\": \"Papa Doc\",\n",
    "    \"Luis Agustín Caicedo Velandia\" : \"Don Lucho\", \n",
    "    \"Víctor Manuel Mejía Múnera\": \"Pablo Arauca\",\n",
    "    \"Miguel Ángel Mejía Múnera\": \"El Mellizo\",\n",
    "    \"Ramón Quintero\":\"\",\n",
    "    \"Pablo Escobar\" : \"El patrón\",\n",
    "    \"Gonzalo Rodríguez Gacha\": \"\",\n",
    "    \"Diego Fernando Murillo\": \"\",\n",
    "    \"Gilberto Rodríguez Orejuela\": \"El Ajedrecista\",\n",
    "    \"Miguel Rodríguez Orejuela\": \"\",\n",
    "    \"Leonidas Vargas\": \"El Rey de Caquetá\",\n",
    "    \"Luis Enrique Calle Serna\": \"\",\n",
    "    \"Wilber Varela\": \"\",\n",
    "    \"Alberto Orlandez Gamboa\": \"\", \n",
    "    \"Hermágoras González\": \"\",\n",
    "    \"Nicolás Rodríguez Bautista\" : \" Gabino \", \n",
    "    \"Iván Márquez\": \"\",\n",
    "    \"Gentil Duarte\": \"\",\n",
    "    \"Jorge Gnecco Cerchar\": \"\", \n",
    "    \"Jesús María Aguirre\" :\"Chucho Mercancía\",\n",
    "    \"Megateo\": \"\",  \n",
    "    \"Vicente Castaño\": \"\", \n",
    "    \"Emiliano Alcides Osorio\": \" Caín \",\n",
    "    \"Edgar Bustamante\" : \"El Yuca\",\n",
    "    \"Manuel Marulanda Vélez\" :\" Tirofijo \",     \n",
    "    \"Jorge Briceño Suarez Mono\": \" Jojoy \",\n",
    "    \"Dairo Antonio Úsuga David\": \"\",\n",
    "    \"Salvatore Mancuso\": \"\",\n",
    "    \"Rodrigo Tovar\": \"\",\n",
    "    \"Carlos Castaño Gil\": \"\",\n",
    "    \"Justo Pastor Perafán\": \"Don Pepe\"\n",
    "}\n",
    "\n",
    "loc = pd.read_csv(\"resources/Departamentos_y_municipios_de_Colombia.csv\")\n",
    "loc.head()"
   ]
  },
  {
   "cell_type": "markdown",
   "id": "4d2af001",
   "metadata": {},
   "source": [
    "## 4.1 Persons of Interests"
   ]
  },
  {
   "cell_type": "code",
   "execution_count": 36,
   "id": "46841934",
   "metadata": {},
   "outputs": [
    {
     "data": {
      "text/plain": [
       "dict_keys(['Evaristo Porras', 'Luis Agustín Caicedo Velandia', 'Víctor Manuel Mejía Múnera', 'Miguel Ángel Mejía Múnera', 'Ramón Quintero', 'Pablo Escobar', 'Gonzalo Rodríguez Gacha', 'Diego Fernando Murillo', 'Gilberto Rodríguez Orejuela', 'Miguel Rodríguez Orejuela', 'Leonidas Vargas', 'Luis Enrique Calle Serna', 'Wilber Varela', 'Alberto Orlandez Gamboa', 'Hermágoras González', 'Nicolás Rodríguez Bautista', 'Iván Márquez', 'Gentil Duarte', 'Jorge Gnecco Cerchar', 'Jesús María Aguirre', 'Megateo', 'Vicente Castaño', 'Emiliano Alcides Osorio', 'Edgar Bustamante', 'Manuel Marulanda Vélez', 'Jorge Briceño Suarez Mono', 'Dairo Antonio Úsuga David', 'Salvatore Mancuso', 'Rodrigo Tovar', 'Carlos Castaño Gil', 'Justo Pastor Perafán'])"
      ]
     },
     "execution_count": 36,
     "metadata": {},
     "output_type": "execute_result"
    }
   ],
   "source": [
    "POI.keys()"
   ]
  },
  {
   "cell_type": "code",
   "execution_count": 43,
   "id": "5f902c3b",
   "metadata": {
    "scrolled": true
   },
   "outputs": [
    {
     "data": {
      "text/plain": [
       "'Carrera 9 # 16 -21 Bogotá D.C. PBX: (57) (1 ) 3147300 Línea Nacional: 01 8000 914814 www.defensoria.gov.co Plantilla Vigente desde: 27/06/2017 Bogotá D.C., 5 de marzo de 2018 Doctor GUILLERMO RIVERA FLÓREZ Ministro del Interior Secretaría Técnica de la Comisión Intersectorial para la Respuesta Rápida a las Alertas Tempranas (CIPRAT) Carrera 8 No. 12 B - 31 Ciudad Referencia: ALERTA TEMPRANA DE INMINENCIA N° 0 27-181 debido a la situación de riesgo de vulneracio nes a los DDHH y al DIH de los habitantes del municipio Tarazá – Antioquia, de todos los barrios del casco urbano y de los siguientes corregimientos y veredas: Barro Blanc o, veredas: Tahamí, Doradas Altas, Doradas Bajas, Neri, Tesorito, Potrero Largo, Purí, San Antonio, Tamaco, Barro Blanco; Corregimiento El Doce: Puquí, centro pob lado El Doce; Corregimiento La Caucana, veredas: Santa Clara, La Esperanza, Pecoralia, Agualin da, La Primavera, Rancho Viejo, Pecora, La Caucana, La Cabaña, Piedra Brava, La Cidra, El Porvenir, Blanco, La Linda; Corregimiento del Guaimaro: Popales, Chuchui, Matecaña; Corregimiento Puerto Antioquia, veredas: El Rayo, La Unión, Cañón de Iglesias, El Socorro, Las Acacias, Curumana, Anaparci ; Resguardo Indígena Embera de Jaidez avi. Respetado señor Ministro del Interior: De manera atenta y de acuerdo a lo establecido en el Decreto 2124 de 2017, me permito remitirle la Alerta Temprana de la referencia, debido a la grave situación de riesgo de vulneración colectiva de los DDHH y el DIH de cerca de 40.000 habitantes de las zonas urbanas y rurales del municipio de Tarazá , ubicado en el departamento de Antioquia. La presente Alerta Temprana tiene el propósi to de advertir posibles enfrentamientos con interposición de población civil, desplazamientos masivos, homicidios selectivos y de configuración múltiple en la zona rural de Tarazá , que comprende el conjunto de veredas ubicadas en los límites con los munic ipios de San José de Uré e Ituango , y agrupadas en los corregimientos de La Caucana, Guaimaro y el sector adyacente al Cañ ón de Iglesias. 1 El Decreto 2124 del 18 de diciembre de 2017: “por el cual se reglamenta el sistema de prevención y alerta para la reacción rápida a la presencia y acciones y/o actividades de las organizaciones, hechos y conductas criminales que pongan en riesgo lo s derec hos de la población y la implementación del Acuerdo Final para la Terminación del Conflicto y la Construcción de una Paz Estable y Duradera”, define que las Alertas Tempranas son el documento de advertencia de carácter preventivo emitido de manera autónoma por la Defensoría del Pueblo (artículo 6). En los casos que la Entidad evalúe que las circunstancias lo ameriten, emitirá Alertas Tempranas bajo el rótulo de riesgo de Inminencia (artículo 15), las cuales son remitidas la Secretaría Técnic a de la Comisión Intersectorial para la Respuesta Rápida a las Alertas Tempranas (CIPRAT), quien una vez recibida transmitirá de forma inmediata a las entidades nacionales competentes y a las autoridades territoriales para el cumplimiento de sus funcione s y la adopción de las medidas necesarias de reacción rápida (Artículo 11). Carrera 9 # 16 -21 Bogotá D.C. PBX: (57) (1 ) 3147300 Línea Nacional: 01 8000 914814 www.defensoria.gov.co Plantilla Vigente desde: 27/06/2017 Carrera 9 # 16 -21 Bogotá D.C. PBX: (57) (1 ) 3147300 Línea Nacional: 01 8000 914814 www.defensoria.gov.co Plantilla Vigente desde: 27/06/2017 Se pretende documentar los diferentes hechos victimizantes y conductas vulneratorias que muestran un preocupante inc rement o en las cifras de homicidio, desplazamiento individual y colectivo , que se han presentado en jurisdicción del municipio de Tarazá en lo corrido del presente año , debido a la disputa al interior de las Autodefensas Gaitanistas de Colombia (AGC), por control territorial , la presencia de la guerrilla del ELN y posibles disidentes del proceso de paz con las FARC – EP. Es un escenario de riesgo que por la dinámica de los actores armados, los propósitos en conflicto y los territo rios en disputa, parece r epetir una confrontación violenta ya vivida en la zona entre los años 2008 y 2011, sin mencionar su génesis en la guerra sostenida entre bloques de las AUC y las guerrillas en los años inmediatamente anteriores al periodo señalado, teniendo en cuenta los s iguientes elementos: I. Antecedentes Según las proyecciones del DANE para 2015 , el municipio de Tarazá contaba con una población de 42.641 personas. Según datos suministrados por la Alcaldía de Tarazá, hasta agosto de ese año la población que se encontraba en los niveles I y II del SISBEN era de 38.310 habitantes, algo que da cuenta de que la mayoría de la población vive en condiciones de vulnerabilidad socioeconómica. 12.542 habitantes corresponden a Niños Niñas y Adolescentes – NNA, entre los 5 y los 17 añ os. Según datos de la Secretaría de Desarrollo Social de Tarazá , la economía de este municipio se basa en la minería aurífera, los servicios comerciales y asociados al transporte, la ganadería y cultivos a mediana y pequeña escala de maíz, yuca, cacao y c aucho. Este municipio es la entrada al Bajo Cauca sobre la Troncal de la Costa Atlántica, a 266 km. de Medellín. Tarazá presenta una topografía muy diversa, la zona llana se extiende a lo largo de la Troncal y sobre el valle aluvial que forma el río Cauca . En su territorio también convergen dos sistemas montañosos : uno al norte, que está enmarcado dentro del área de influencia del Nudo de Paramillo, limitando con los municipio s de San José de Uré y Puerto Libertador , en el sur del departamento de Córdoba; el segundo sistema al sur del municipio , se encuentra dentro de las estribaciones de la Cordillera Central , allende el río Cauca , en las veredas que conforman o son adyacentes al corregimiento de Barro Blanco, que a su vez limita con Cáceres, el corregimie nto de Liberia ( El Charcón ), de Anorí y Zaragoza. Los accidentes geográficos han determinado de forma particular la presencia y la dinámica de los actores armados ilegales en Tarazá. En el norte del municipio, en el área boscosa en inmediaciones del Nudo de Paramillo, tuvo una presencia muy significativ a el Frente 18 de las FARC – EP. A mediados de la década de 1980, esa guerrilla comenzó a realizar incursiones procedente s de los municipios de Ituango y Puerto Libertador , penetrando por el Cañón de Iglesia s hasta el corregimiento del Guaimaro, incluso hasta la vereda El Rayo en el corregimiento de Puerto Antioquia, muy cerca al casco urbano. A pesar de los fuer tes combates sostenidos con la Fuerza P ública , con bloques paramilitares y luego con grupos posdes movilización de las AUC, las FARC EP , siempre mantuvieron este corredor de movilidad hasta su reincorporación en el año 2016 . En el Cañón Carrera 9 # 16 -21 Bogotá D.C. PBX: (57) (1 ) 3147300 Línea Nacional: 01 8000 914814 www.defensoria.gov.co Plantilla Vigente desde: 27/06/2017 de Iglesias hubo una zona de pre agrupamiento temporal de aproximadamente 70 integrantes de es a organización. Los gru pos paramilitares también han hecho presencia en la zona norte del municipio , desde finales de la década de 1980. Los primeros intentos de este tipo de organización paramilitar estuvieron apoyados por los grupos de Autodefensas del Magdalena Medio , quienes enviaron hombres, armas y dinero para consolidar este proyecto contrainsurgente en la subregión del Bajo Cauca. El Bloque Mineros de las AUC solo fue reconocido con este nombre a partir del año 2000, a pesar de ser señalado de cometer graves vulneracion es a los DDHH en la década de 1990, como las masacres de los corregimientos de La Granja (1996) y El Aro (1997) en el municipio de Ituango. La sede principal de mando del Bloque Mineros estuvo ubicada en los Corregimientos de La Caucana y Guaimaro , ubicado s en jurisdicción de Tarazá , donde se encontraban los principales jefes, encabezados por Ramiro Vanoy, conocido como “Cuco Vanoy ”, quien sembró el terror en la zona hasta su desmovilización con 2.670 combatientes en enero de 2006, en una vereda del corregi miento de La Caucana: Pecoralia. Otro grupo paramilitar que operó en Tarazá fue el Bloque Barro Blanco de las AUC. Su nombre se debía a que tuvo como sede de mando e l corregimiento de este mismo nombre , ubicado al sur de Tar azá, al otro lado del río Cauc a, y cuyo objetivo principal fue el narcotráfico en función del proyecto paramilitar . Tuvo influencia directa en los vecinos municipios de Cáceres, Anorí, Valdivia y otros municipios limítrofes de la subregión del Norte de Antioquia . Este grupo se desmovil izó con el Bloque Mineros de las AUC . Las desmovilizaciones paramilitares provoc aron un vacío en el control territorial en el corregimiento de Barro Blanco que, a partir del año 2008 , le per mitió la incursión al grupo posdesmovilización “Águilas Negras ”, proveniente de Urabá y que hoy se autodenomina Autodefensas Gaitanistas de Colombia (AGC) . Desde este sitio ha coordinado los procesos de expansión y consolidación territorial en el Bajo Cauca hasta el presente . En este corregimiento también hicieron pre sencia integrantes del Frente 36 de las FARC EP , activo s en la zona hasta su reincorporación . El ELN ha tenido una presencia intermitente en esta misma zona, por cerca de tres décadas . El Frente de Guerra Compañero Tomás ha sido el más permanente, Pero a partir del año 2012 , la presencia del ELN ha sido reforzada con la compañía móvil Héroes y Mártires de Tarazá, lo que la ha permitido el importante control territorial que detenta en la actualidad. A partir de la desmovilización de los bloques de las AUC que operaban en la subregión del Bajo Cauca en el año 2006 , y de la posterior extradición a Estados Unidos de sus principales jefes en el año 2008, comenzó una reorganización de grupos armados pos desmovilización , reforzada con personal que no se desmoviliz ó o que después de hacer parte del proceso de sometimiento a la justicia, reincidió en conductas ilegales. En la zona hizo aparición el grupo de delincuencia organizada: “Los Paisas ”, un grupo que dependía de la llamada “ Oficina de Envigado ” y que tenía al ianza con el grupo armado ilegal “ Los Rastrojos ”, provenientes del Carrera 9 # 16 -21 Bogotá D.C. PBX: (57) (1 ) 3147300 Línea Nacional: 01 8000 914814 www.defensoria.gov.co Plantilla Vigente desde: 27/06/2017 Norte del Valle. El otro grupo armado ilegal que se conformó fue el de Los Caparrapos, en alusión a un grupo de comandantes que llegaron del municipio de Caparrapí, ubicado en el Magdalena Medio cundinamarqués y que habían sido mandos medios de los bloques de las AUC. En el periodo comprendido entre los años 2008 y 2011 en el Bajo Cauca y específicamente en el municipio de Tarazá, según los datos de la Red Nacional de Información – RNI de l a Unidad para Atención y Reparación Integral a las Víctimas (UARIV), se registró el mayor número de hechos victimizantes , tales como: homicidio s, masacres, desplazamiento s individual es y colectivo s, desaparición forzada, reclutamiento de NNA, esto debido a la disputa entre los grupos posdesmovilización a los que se ha hecho alusión, los cuales buscaban acceder al control territorial de las zonas dejadas por las AUC. Paisas – Rastrojos se enfrentaron contra Los Caparrapos y las Águilas Negras. Las Guerrillas de las FARC EP y el ELN , buscaban recuperar el territorio perdido en la confrontación anterior y hacían alianzas tácticas, sobre todo de movilidad y de protección de zonas de cultivos de coca, con uno y otro grupo posdesmovilización de las AUC. La confro ntación armada entre estructuras ilegales, fuerzas del Estado y los ámbitos trasnacionales en que operan las redes del narcotráfico, empezaron a transformarse de manera significativa a partir del año 2012, en un escenario de pactos a escala territorial. A nivel internacional , los carteles mexicanos se distribuyeron la producción de la hoja y de clorhidrato de coca ína en todo el país, correspondiendo él área del Noroccidente al Cartel de Sinaloa . A escala regional, hubo una negociación entre las Águilas Ne gras (hoy AGC) y Los Ra strojos en noviembre de 2011 , acordando que estos últimos se retiraban de Antioquia y el Sur de Córdoba, quedando las AGC con el control de toda la producción de cocaína para la exportación en esta zona del país. Esta distribución de economías ilegales, provoca pactos entre grupos armados ilegales : de un lado, los grupos sucesores de las AUC, respetan el control de las guerrillas en zonas montañosas en donde hay cultivos, dejando para ellos el impuesto de gramaje ; y de otro lado, tanto Caparrapos como Paisas , pasan a hacer parte de la estructura de los frentes de combate de las AGC, en una especie de concesión territorial para la captación de otras rentas ilegales como la extorsión y la minería no formalizada y participación en la ca dena de producción y exportación de la cocaína. La Oficina de Envigado , vio favorecid os sus intereses con estos pacto s, reconoci endo el valor de las rutas internacionales que controlaba n, recibiendo dinero y armas nuevas , producto del tráfico ilegal deriva do de grupos narcotraficantes provenientes de Sinaloa – México . Este fue el escenario que desde el 2012 y que hasta el 2017 , mantuvo en un relativo clima de paz a los grupos sucesores de las AUC2 que tuvieron cohesión como estructura en las AGC . Se 2 Grupos Armados Ilegales Pos desmovilización de las AUC Carrera 9 # 16 -21 Bogotá D.C. PBX: (57) (1 ) 3147300 Línea Nacional: 01 8000 914814 www.defensoria.gov.co Plantilla Vigente desde: 27/06/2017 const ituye así el Bloque Pacificadores de Bajo Cauca y Sur de Córdoba de las AGC . Los nombres de las estructuras armadas de tipo delincuencial, se transforman en frente de guerra, intentando emular a la guerrilla y a las AUC en su estructura organizacional . Las AGC , bautizaron cada frente con el nombre de algún personaje significativo del mundo paramilitar. A Los Caparrapos, con sede principal en Piamonte – Cáceres, le llamaron: Frente Virgilio Peralta. Los Paisas, que o peraban entre L a Caucana y El Guaimaro, p asaron a conformar el Frente José Felipe Reyes. No obstante, estos dos frentes conservaron cierta autonomía en el control de los territorios y el recaudo de las rentas ilegales. En los territorios del Bajo Cauca y el Sur de Córdoba , en los que las AGC hab ían logrado un control hegemónico previo al pacto con Los Rastrojos, organizó tres frentes que tenían un nivel de subordinación directo a la línea de mando establecida desde Urabá. El Frente Julio César Vargas se mantuvo en Barro Blanco y desde ahí coordin aba operativamente todo el Bloque. Sobre el río Nechí, entre el corregimiento de Buenos Aires (Palizada) – Zaragoza y el de Cuturú – Caucasia, se estableció la sede de mando del Frente Francisco Morales Peñate, que actúa hasta el municipio de Nechí. Mientr as que en los municipios del Sur de Córdoba , se organizó el control territorial de las AGC , en torno al frente Rubén Darío Ávila. Desde comienzos del año 2017, el equilibrio entre los grupos sucesores de las estructuras paramilitares asociadas a las Autod efensas Unidas de Colombia, comenzó a romperse. El 8 de enero de 2017, un grupo de hombres armados, ingresó en el corregimiento de Piamonte – Cáceres, produciendo la muerte de un reconocido integrante del Bloque Mineros y luego miembro de la organización c riminal “Los Paisas”. Había salido recientemente de la cárcel y al parecer tenía el propósito de ocupar un liderazgo en la estructura. Además de la muerte de esta persona, se produjo el homicidio de al menos otras cuatro, quienes al parecer fueron lanzadas al río Cauca, aunque solo se encontró un cuerpo. Las autoridades de Policía manifestaron en su momento que se trataba de una confrontación al interior del “Clan del Golfo” (AGC), por el control territorial de las rentas ilegales, que afectaba a los munic ipios de Cáceres y Tarazá. La negociación entre los actores armados ilegales y algunas capturas de mandos operativos de la zona, permitieron que el conflicto no escalara, aunque la ruptura al interior de las AGC era evidente y solo bastaba la confluencia de varios elementos de contexto para que se presentara una confrontación violenta en el Bajo Cauca. II. Escenario de riesgo actual El contexto ha estado determinado por el retiro de las FARC EP del escenario bélico en la región , tras el Acuerdo Final suscr ito con el Gobierno nacional . Los territorios que controlaba n las FARC – EP, quedaron a merced del apetito expansivo de los grupos sucesores de las AUC y del ELN . Sectores de l as AGC , tiene n el propósito de controlar esos territorios directamente o a través de “concesiones ”, con el objetivo de obtener rentas ilegales , impon er condiciones por el otorgamiento de la concesión territorial , lo cual ha producido recientes confrontaci ones con Carrera 9 # 16 -21 Bogotá D.C. PBX: (57) (1 ) 3147300 Línea Nacional: 01 8000 914814 www.defensoria.gov.co Plantilla Vigente desde: 27/06/2017 otros frentes de las AGC en e l Bajo Cauca , interes ados en este modelo de “franquicia ”, tales como los frentes: Virgilio Peralta Arenas (Caparrapos) y un reducto del anteriormente denominado frente José Felipe Reyes (Paisas). Estas últimas unidades tenían la expectativa de expandir sus “negocios ” a otras zonas de cultivo de hoja de coca, de explotación de minería no formalizada y de control de rutas de movilidad de la ilegalidad . En la actualidad , la alianza entre Caparrapos y Paisas se presenta como el Bloque de Guerra Virgilio Peralta Arenas de la “Autodefensa Campesina ”, por lo menos así ha firmado recientes panfletos físicos que han circulado en su zona de influencia. Las muertes o capturas de algunos de los comandantes o integrantes de las AGC , han provocado movimientos en la línea de mando central de las AGC, pero t ambién ha significado el debilitamiento y necesidad de recomposición de las estructuras regionales . En el Bajo Cauca, este debilitamiento ha generado que las estructuras agenciadas por las AGC, busquen su autonomía, desobedeciendo las órdenes provenientes del mando central de las AGC en Urabá. El principal objeto de disputa de las estructuras asociadas a las AGC , ésta centrada en las necesidades de control de la cadena del narcotráfico . Durante 2017, dichas actividades pudieron tener un comportamiento ines table del mercado, debido a que miles de familias campesinas que viven de los cultivos de coca , han limitado la siembra y se han comprometido con el modelo de sustitución voluntaria, en el marco de la implementación del Plan Nacional Integral de Sustitució n de Cultivos de Uso Ilícito – PNIS como forma de implementación del Acuerdo Final suscrito entre el Gobierno nacional y las FARC – EP. A su vez, los resulta dos operativos de la Fuerza P ública han logrado impactar las finanzas de los grupos armados ilegale s surgidos con posterioridad al proceso de desmovilización de las AUC en el Bajo Cauca , lo que ha reducido el poder adquisitivo para la compra de pasta de coca por parte de las AGC . En retaliación por la acción de las autoridades, las AGC han ejecutado un llamado “Plan Pistola” dirigido contra la Policía Nacional , lo cual profundiza la vulnerabilidad de la comunidad para afrontar la protección ante situaciones de amenaza contra la vida, integridad, libertad y seguridad. Son precisamente los territorios de l cultivo de coca vinculados al PNIS , el escenario principal de riesgo de las comunidades rurales en los municipios de Tarazá y Cáceres . También la minería no formalizada es apetecida por la generación de exacciones a las máquinas y hasta los propios bar equeros que deben pagar 2.000 pesos cada día para poder trabajar, sin embargo, la dinámica la impone el mercado trasnacional del narcotráfico. Narcotraficantes nacionales e incluso internacionales (Cartel es mexicanos ), en asocio con estructuras de narcotr áfico del Valle de Aburrá, estarían tomando el control de negocios ilegales, en especial para obtener ganancias en toda la cadena del narcotráfico : desde la pretensión de manejar los réditos que se pudieran generar en la estabiliza ción de los flujos de pr oducción de la pasta de coca y las rutas de movilidad, en especial en territorios abandonados por las FARC , hasta el control del narcotráfico al menudeo . Así, grupos que no contaban con muchos recursos para financiar sus propósitos expansivos , pudieron hab erse Carrera 9 # 16 -21 Bogotá D.C. PBX: (57) (1 ) 3147300 Línea Nacional: 01 8000 914814 www.defensoria.gov.co Plantilla Vigente desde: 27/06/2017 robustecido con el ingreso de estos capitales que han sido importantes para la persistencia y agudización del conflicto violento, en especial estructuras sucesoras del paramilitarismo como las AGC. La disputa entre grupos sucesores del paramilitarism o asociados a las AGC, genera alianzas y rupturas que hacen más dramática la situación humanitaria en el Bajo Cauca. La alianza Caparrapos – Paisas ha generado una abierta disputa violenta con tres frentes de las AGC : el Frente Julio César Vargas , el cual , combate contra Caparrapos en zona rural de Cáceres, desde Barro Blanco, tal como puede observarse en el relato de la Alerta Temprana No. 09 de 2018. El Frente Francisco Morelos Peñate , disputa el control del territorio del municipio de Caucasia , en corre gimientos como : Puerto Colombia y El Pando, donde se presentaron hostilidades con pequeñas células de Los Caparrapos . Y en el norte de Tarazá , en límites con San José de Uré e Ituango, el Frente Rubén Darío Ávila de las AGC, que ha mantenido la hegemonía e n los municipios del sur de Córdoba , se enfrenta a la estructura de la alianza Caparrapos - Paisas , que ha mantenido el control de los corregimientos de El Guaimaro y La Caucana , desde hace 6 años. Para el caso del municipio de Tarazá, la disputa entre C aparrapos y las diferentes es tructuras de las AGC , durante los dos primeros meses del presente año, ha estado caracterizada por una violencia masiva , pero con o bjetivos determinados, expresados en el desplazamiento individual y el homicidio selectivo, hech os victimizantes que se ilustrarán más adelante. A diferencia del municipio de Cáceres , en este periodo las violaciones a los DDHH y el DIH se han caracterizado por una confrontación en la zona rural abierta , que ha provocado desplazamientos masivos : en cu atro eventos se produjeron cerca de 1600 víctimas , en una clara estrategia de vaciamiento del territorio . No obstante, este escenario de riesgo puede cambiar radicalmente en el territorio ubicado al norte del municipio de Tarazá , y este es precisamente el propósito de la presente Alerta Temprana: advertir sobre el movimiento de hombres armados entre el Guaimaro y el Cañón de Iglesias (vereda El Socorro) en Tarazá hasta los límites del municipio de Ituango, donde se ha generado un desplazamiento masivo entr e los días 27 y 28 de febrero del presente año de al menos 22 familias de las veredas Ciénaga, el Silencio y San Juanillos al corregimiento de Santa Rita ubicado en Ituango . El día 4 de marzo se presentaron combates por cerca de tres horas en un territorio cercano al Cañón de Iglesias. Según una fuente comunitaria se presentaron muertos en combate, que recogieron los propios grupos enfrentados, que al parecer se trata del Frente de Guerra Virgilio Peralta Arenas (Caparrapos) y del Frente Rubén Darío Ávila d e las AGC. Hasta el momento no hay datos de desplazamiento forzado. Las alertas tempranas No. 005 para Tierra lta y No. 023 para el municipio de San José de Uré, ilustran la dinámica de los actores armados y las vulneraciones a los DDHH que ha producido la confrontación armada entre el frente Rubén Darío Ávila de las AGC y Los Caparrapos en estos municipios del Sur de Córdoba , limítrofes con Tarazá e Ituango, para el primer municipio relata la incursión de armados desde veredas ubicadas en el corregimiento de La Caucana, como Santa Clara. Pero el movimiento de grupos armados ilegales entre el límite con Ituango, en veredas adyacentes al Cañón de Iglesias no estaba advertido. Carrera 9 # 16 -21 Bogotá D.C. PBX: (57) (1 ) 3147300 Línea Nacional: 01 8000 914814 www.defensoria.gov.co Plantilla Vigente desde: 27/06/2017 Como se mencionó anteriormente, las FARC EP estuvieron controlando el Cañón de Igle sias y el corredor que pasa por el corregimiento de Santa Rita en Itua ngo hasta el año 2016 , que se movilizó hasta la zona veredal transitoria correspondiente. Rápidamente Los Caparrapos – Paisas se expandieron desde el corregimiento de Guaimaro hasta esta zona, que además de ser corredor de movilidad tiene un gran número de hectáreas sembradas con coca. Uno de los hechos más resonados que dan cuenta del reciente ejercicio de control territorial en la zona por este grupo , fue el asesinato de Miguel Pérez, l íder de la vereda La Unión, de las organizaciones COCAM, ASOCBAC, Marcha patriótica e impulsor del Programa de Sustitución de cultivos ilícitos, el 22 de octubre de 2017. El presunto asesino fue capturado por las autoridades y señalado de ser el presunto c oordinador de esta facción de las AGC en la zona de las veredas adyacentes al Cañón de Iglesias. El control del corredor del Cañón de Iglesias , le permitiría al frente Rubén Darío Ávila de las AGC copar espacios a Los Caparrapos – Paisas, abriendo una ru ta de penetración que le facilitaría llegar hasta el principal bastión de este último grupo armado en el corregimiento Guaimaro , donde habitan cerca de 1600 personas. El mismo propósito tiene Los Caparrapos en esta contienda, porque por el Cañón pueden ing resar a Ituango y enfrentar desde una mejor posición a las AGC , por los municipios de Puerto Libertador y San José de Uré. Es importante señalar que justo alrededor de los puntos de entrada al cañón se ubic an dos resguardos Embera Catío: Jaideza bi, hacia Tarazá y Jaidukamá hacia Ituango. Pero al parecer, en el medio del camino, justo en el límite entre Ituango y Tarazá, en las veredas adyacentes al Cañón por el lado de Ituango, hay un reducto de personas que se han retirado del proceso de reincorporación de las FARC – EP, y han vuelto a tomar las armas. No hay certeza respecto a sí están articulados a alguna organización armada ilegal o se han estructurado autónomamente , aunque en un comunicado que circuló por redes sociales , y supuestamente firmado por las “Columnas 18 y 36 frentes FARC – EP”, fechado el 28 de febrero en Ituango, menciona las razones por las que esta facción no está en el Proceso de Paz y desmiente los señalamientos de ser los provocadores del reciente desplazamiento de las comunidades de Ciénaga , La Soledad, San Juanillo, Quebradona y El Indio, atribuyendo la responsabilidad por estas conductas a las AGC. Sin embargo, la veracidad de este comunicado no ha sido confirmada aun . Algunas fuentes consultadas , señalan que los desplazamiento s forzados han sido provocados por Los Caparrapos , hipótesis que se debe considerar porque este grupo armado ha estimulado esta conducta recientemente en la zona, como es el caso del vecino municipio de Cáceres. En caso de existir ese reducto rearmado de las FARC EP, puede implicar otro factor de riesgo: el control a sangre y fuego de los territorios dejados a partir del proceso de reincorporación, entrando como un actor activo en el proceso de expansión y confrontación , complicando aún más el escenario actual de riesgo . Combates recientes en el sector de Chontadural , en el municipio de Ituango , e interce ptaciones de comunicaciones por parte de la Fuerza Pública, entregados a medios parecen corroborar esta hipótesis. A continuación se describen los principal es hechos victimizantes de los DDHH y las conductas vulneratorias del DIH que sustenta el escenario de riesgo descrito en la presente Alerta Carrera 9 # 16 -21 Bogotá D.C. PBX: (57) (1 ) 3147300 Línea Nacional: 01 8000 914814 www.defensoria.gov.co Plantilla Vigente desde: 27/06/2017 Temprana y que se han presentado durante los meses de enero y febrero del presente año en el municipio de Tarazá. a. Homicidios Durante los dos primeros meses del presente año el homicidio en Tarazá se ha incrementado . Entre el 1 de enero y el 28 de febrero de 2018, la cifra de asesinatos es de 23 casos, según datos de la Secretaría de Gobierno de Tarazá con informa ción suministrada por la Policía Nacional. En el mismo periodo , en 2017, se presentaron 6 homicidios , según datos del Observatorio de la Policía Nacional, lo que comparativamente arroja un incremento del 383%. La mayoría de los homicidios son selectivo s y se presenta n mediante la modalidad de “sicaria to” en la zona urbana , y por incursiones de pequeñas células de armados , en zona rural; otros pocos , se han presentado en combates. Algunos homicidios se han cometido contra supuestos integrantes de las estru cturas ilegales, ya sea en contra de personas calificadas como expendedores de drogas , apoyos logísticos y sicarios de grupos armados ilegales . También se han prese ntado homicidios contra pobla dores, como el registrado el 24 de enero de 2018 , en la hacien da “El Topacio ”, entregada por Ramiro Vanoy al Fondo de Reparación de las Víctimas . Allí fu eron asesinados dos vigilantes de una empresa privada se seguridad , contratada por la Unidad Especial de Atención y Reparación Integral a las Víctimas (UARIV), quien tiene la custodia del bien. Producto de este homicidio se desplazaron forzadamente las dos familias de las víctimas y otras ocho , de los demás vigilantes del predio. A continuación se reseña otros homicidios registrados por el SAT: - El 8 de febrero, aproximadamente a las 6:00 pm, en el sector Piedras (cinco minutos de la zona urbana) , fue asesinado el señor David Alexis Narváez, de 27 años de edad, residente en la vereda la Pipiola del corregimiento El Doce. El señor Alexis era miembro de la Junta de Acción Comunal y s e encontraba en el Programa de s ustitución de cultivos ilícitos. Su familia se vio obligada a desplazarse forzadamente. - El 11 de febrero de 2018, fue asesinado un reconocido mecánico que había hecho parte del proceso de desmovilización de las AUC . En el mismo evento resultaron heridas otras cuatro personas, al parecer también desmovilizadas. - El 18 de febrero de 2018, en horas de la noche, un grupo de hombres armados al parecer provenientes de las AGC , desde el municipio de San José d e Uré, incursionó en la vereda limítrofe de Santa Clara de Tarazá y en un billar dio muerte, según fuentes comunitarias, a cuatro personas, aunque oficialmente solo se dio levantamiento de dos cadáveres que fueron llevados a Tarazá. Carrera 9 # 16 -21 Bogotá D.C. PBX: (57) (1 ) 3147300 Línea Nacional: 01 8000 914814 www.defensoria.gov.co Plantilla Vigente desde: 27/06/2017 - El sábado 3 de marzo en horas de la noche, fue asesinada una reconocida integrante de la pobl ación LGBT que se hacía llamar ALEXA. El asesinato se produjo en la peluquería en que Alexa trabajaba, en el barrio Palmas, del casco urbano de Tarazá. - El sábado 3 de marzo en de l a noche fue asesinada una señora propietaria de una tienda en la vereda El Cinco, del corregimiento de Puerto Antioquia, vereda señalada por una fuente como frontera entre el control territorial de grupos armados ilegales. El homicidio se produjo en su pro pia tienda. El esposo de esta señora fue asesinado 15 días atrás, en hechos similares ya que el homicidio se produjo en la misma tienda que era propiedad de esta familia. - El sábado 3 de marzo fueron asesinadas dos personas que se movilizaban en una moto cicleta por el corregimiento de El Doce. Las dos personas eran padre e hijo entre sí y se dedicaban a la venta de discos de música y video. - Al comienzo de la noche del 6 de marzo, en el barrio Puente Roto, fue asesinada Yesica Osorio, ama de casa y madr e de un menor de edad. Fue asesinada por un sicario que le disparo mientras estaba en la mecedora de una casa vecina departiendo con varias personas. - En la noche del 6 de marzo fue asesinado en el sector de Piedras, sobre la Troncal de la Costa Atlántic a el Intendente Wilson Nelson Ramírez, mientras que su compañero, el patrullero Arley Ortiz Rivas, resultó herido. Los hechos se presentaron cuando iniciaron la persecución de dos sujetos sospechosos ya que se encontraban en la búsqueda de los responsables materiales de un homicidio que se había producido pocas horas antes. Los sujetos perseguidos usaron sus armas de fuego impactando mortalmente al intendente Ramírez. b. Desplazamiento forzado Como territorio expulsor, el municipio de Tarazá se ha carac terizado durante las primeras semanas del 2018 p or un desplazamiento individual de familias a cuenta gota , quienes salen forzadamente del municipio. Las víctimas principalmente son familiares de personas asesinad as o amenazadas bajo el cargo de “colaborar con el bando enemigo ” o con la Fuerza Pública. La cifra suministrada por la Unidad Municipal de Víctimas de la Alcaldía de Medellín , de familias atendidas procedentes de Tarazá , entre el 1 de enero y el 2 8 de febrero del presente año, es de 70 familias desplazadas forzadamente . En la Personería de Bello, en tre el 1 de enero y el 22 de febrero , han declarado desplazamiento forzado : 28 familias procedentes de ese municipio. Solo a estos dos municipios del Valle de Aburrá , han llegado 98 familias de Tarazá , un promedio de 490 personas en solo 8 semanas del año 2018 . La cifra de desplazados forzados expulsados de Tarazá a nivel nacional aún no es conocida por el SAT, pero estos datos parciales ya dan cuenta de un evento colectivo que , aunque a cuenta gotas , es de enorme s proporciones , revelando una crisis humanitaria oculta. Carrera 9 # 16 -21 Bogotá D.C. PBX: (57) (1 ) 3147300 Línea Nacional: 01 8000 914814 www.defensoria.gov.co Plantilla Vigente desde: 27/06/2017 En materia propiamente de desplazamiento masivo, el municipio de Tarazá , ha sido receptor de dos eventos: El día 19 de enero de 2018, se produjo el desplazamiento de 45 barequeros que tr abajaban en inmediac iones de Alto Tamaná en Cáceres. D espués de este hecho se produjo el desplazamiento en el resto de veredas del sector hacía el primer evento masivo de este año en Cáceres . Estas personas declararon el hecho ante la Personería de Tarazá, en donde residen con sus familias, y han recibido ayudas humanitarias de emergencia por afectación de los medios de vida. Otro desplazamiento masivo , fue el declarad o por un grupo de 47 barequeros, también ante la Personería de Tarazá, que dicen haber si do desplazados forzadamente el 24 de febrero de 2018, por el actor armado Los Caparrapos , desde su sitio de trabajo en la vereda La Esperanza , en límites con San José de Uré. Aunque los elementos de este desplazamiento aún son materia de verificación, la declaración se recepcionó , en los términos de las Ley 1448 de 2011 por una agencia del Ministerio Público. Este desplazamiento puede evidenciar el paso de los Caparrapos hasta los límites con el municipio de Ituango. c. Restricciones a la movilidad Las d iferentes fuentes comunitarias y oficial es locales consultadas, coinciden en señalar que el casco urbano de Tarazá se encuentra sitiado por las barreras a la movilidad que imponen por el control territorial grupos armados ilegales. Los residentes de la zo na urbana no pueden movilizarse hacía el norte de la localidad , hacía los corregimientos de Guaimaro y La Caucana , ni al occidente hacía el corregimiento E l Doce, ni al sur hacía Barro Blanco, y mucho menos al oriente, hacía el vecino municipio de Cáceres. A esto se suma que el territorio rural está altamente contaminado por artefactos exp losivos y munición sin explotar. Tarazá es el quinto municipio con más eventos de registrados en el país según la base de datos de DAICMA. Desde el primero de marzo de 2018, circula un panfleto firmado por el Bloque Virgilio Peralta Arenas , en el que se restringe la mov ilidad a partir de las 7:00 p.m. en los sectores en los que tiene injerencia. A esta situación crítica , se adiciona el temor por amenazas generalizadas, a lgunas podrían calificarse como falsas , pero otras resultan concretas , como por ejemplo el paro armado realizado por el ELN entre el 10 y el 13 de febrero de 2018 . Aunque las hostilidades realizadas por este grupo guerrillero fueron en el municipio de Vald ivia, en particular en Puerto Valdivia , que es el sector donde tradicionalmente esta guerrilla accede a la Troncal de la Costa Atlántica , todo el trayecto de ésta, hasta Caucasia , estuvo completamente paralizado los días 11 y 12 de febrero. A pesar de la p resencia de la Fuerza P ública toda la población de este sector, incluyendo los cascos urbanos de Tarazá y Cáceres , cesó toda actividad económica, de transporte y oficial. En el municipio de Tarazá , el ELN tienen presencia en el corregimiento de Barro Blanc o y en varias veredas del de Puerto Antioquia; así lo evidencia el evento Carrera 9 # 16 -21 Bogotá D.C. PBX: (57) (1 ) 3147300 Línea Nacional: 01 8000 914814 www.defensoria.gov.co Plantilla Vigente desde: 27/06/2017 registrado el día 2 de febrero del presente año , cuando se escucharon tres de tonaciones en la vereda El Rayo: a l parecer integrantes del ELN intentaron derribar unas torres de transm isión de energía , sin lograr su propósito. E sto también muestra lo cerca que puede llegar este grupo insurgente al casco urbano. d. Cultivadores de coca En un lapso de menos de tres meses , han sido asesinados dos integrantes de la organización encarga da de promover la sustitución de cultivos en Tarazá. En una reunión encabezada por el Defensor Regional de Antioquia, el día 15 de febrero de 2018, varios líderes de la CO CCAM expresaron su preocupación en materia de seguridad, ya que los campesinos cult ivadores de la hoja de coca están presionados por los grupos armados ilegales , los cuales les impiden sustituir cultivos , se oponen a la erradicación forzada con acompañamiento de la Fuerza Pública y señalan el incumplimiento del Gobierno Nacional en el cronograma de pagos acordados por la sustitución voluntaria. Un representante de la Agencia encargada en la localidad de las actividades relacionadas con sustitución, afirmó que las demoras se deben a las inconsistencias en la información suministrada para l a construcción de las bases de datos. No obstante, en algunas veredas los grupos armados ilegales han señalado a los líderes sociales y comunitarios , como responsables de los incumplimientos por parte del Gobierno Nacional. Por las características de la violencia que actualmente se presenta en este territorio , líderes que promueven la implementación de los acuerdos , son altamente vulnerables . Incluso, se han presentado dos homicidios, tal como se ha mencionado (Miguel Pérez y David Alexis Narváez) . Las organizaciones que tienen un mayor nivel de riesgo en Tarazá son: Coordinadora Nacional Cultivadores de Coca, Amapola y Marihu ana (CO CCAM), Asociación de Campesinos del Bajo Cauca (ASOCBAC), Asociación Nacional de Zonas de Reserva Campesina (ANZORC) , ASOC OMUNAL Tarazá y el movimiento Marcha Patriótica. El programa PNIS , no ha podido ser implementa do en varias veredas de los corregimientos de El Doce y Barro Blanco , esto se debe a que , el 27 de septiembre de 2017 , los funcionarios del Programa y de la Alca ldía de Tarazá fueron obligados a devolver los formularios y a salir del corregimiento El Doce , por una intimidación directa de los actores armados ilegales que controlan este territorio. Los líderes de COCAM y ASOCBAC que acompañaban el proceso también fu eron intimidados y obligados a abandonar el corregimiento . En conclusión, la dinámica de los actores armados ilegales que determina la hipótesis de riesgo de vulneración de los DDHH y el DIH para la población civil de Tarazá está caracterizada por: el re tiro de las FARC del escenario bélico, el aparente rearme de algunos integrantes que no van más con el proceso de reincorporación de las FARC, el avance de las AGC y del ELN sobre estos, las c apturas y muertes de las comandancias de los GAIP AUC que han provocado divisiones en su interior y rupturas de algunos grupos con el mando central de Carrera 9 # 16 -21 Bogotá D.C. PBX: (57) (1 ) 3147300 Línea Nacional: 01 8000 914814 www.defensoria.gov.co Plantilla Vigente desde: 27/06/2017 Urabá . Esto ha provocado que en los dos últimos años el control hegemónico de este territorio sea inestable y que los actores armados , además de la movilidad de rutas d el narcotráfico que van hacía las dos costas de Panamá, tengan interés en rentas ilícitas como los cultivos de coca y la extorsión a la minería no formalizada. Aunque este no es un escenario nuevo, tanto fuentes comunitarias como oficiales coinciden en expresar : “volvimos a la guerra anterior”, en alusión a la aguda violencia provocada por el contexto de confrontación entre grupos armados ilegales entre los años 2008 y 201 1, que recicla los mismos actores y territorios en disputa, en una muestras más de q ue los pactos entre ilegales , baja n las cifras de violencia en el corto plazo , pero son inestables en el mediano plazo, repitiendo ciclos de violencia , debido a la falta de acción integral oportuna del Estado en estas zonas del país. III. Recomendaciones A la Secretaría Técnica de la Comisión Intersectorial para la Respuesta Rápida a las Alertas Tempranas (CIPRAT), tramitar de manera inmediata ante las autoridades competentes esta alerta temprana de inminencia, para que se adopten las medidas urgentes de preve nción y protección para los habitantes d el municipio de T arazá , entre otras, se recomienda: 1. Al Ejército Nacional, en particular a la Décima Primera Brigada para que con la coordinación de la Séptima División , fortale zca las operaciones tendientes a controlar los corredores de movilidad que los grupos armados ilegales utilizan para pretender contr olar el municipio de Tarazá, concretamente en el Cañón de Iglesias (vereda Socorro), en los límites con los municipios de Ituango y San José de Uré y en los corregimientos de Barro Blanco y El Doce. 2. A la Policía Nacional, establecer un grupo del Escuad rón Móvil de Carabineros (EMCAR) en el corregimiento El Guaimaro, contando con el apoyo logístico de la Gobernación de Antioquia y la Alcaldía de Tarazá. 3. A la Policía Nacional, la Gobernación de Antioquia y la Alcaldía de Tarazá, agilizar los trámites pertinentes para la construcción y puesta en funcionamiento d e la proyectada subestación de P olicía para el corregimiento Barro Blanco. 4. A la Policía Nacional, ampliar el número de efectivos en la estación de Policía del casco urbano de Tarazá y en l a subestación del corregimiento La Caucana, contando con el apoyo logístico de la Gobernación de Antioquia y la Alcaldía de Tarazá según lo establecido en la ley. 5. A la Fiscalía General de la Nación, al CTI y a la SIJIN, reforzar los equipos y las estra tegias investigativas , con el ánimo de desestructurar las organizaciones armadas ilegales y esclarecer las vulneraciones a los DDHH que se han producido en Tarazá durante el presente año. Carrera 9 # 16 -21 Bogotá D.C. PBX: (57) (1 ) 3147300 Línea Nacional: 01 8000 914814 www.defensoria.gov.co Plantilla Vigente desde: 27/06/2017 6. A la Unidad Nacional de Protección, concertar donde haya lugar, la implementación de medidas de protección colectiva y formación en mecanismos de autoprotección , con las organizaciones sociales: Coordinadora Nacional Cultivadores de Coca, Amapola y Marihu ana (COCCAM), Asociación de Campesinos del Bajo Cauca (ASOCBAC), Asociación Nacional de Zonas de Reserva Campesina (ANZORC) , ASOCUMUNAL Tarazá y el movimiento Marcha Patriótica. 7. A la Dirección de Asuntos Indígenas ROOM y Minorías del Ministerio del Interior y a la Gerencia Indígena de la Gobernación de Antioquia , disponer los recursos y el acompañamiento técnico para la implementación del Plan de Salvaguarda para el Pueblo Embera de Antioquia, de que trata el Auto 04 de 2009 , de seguimiento a la Sentencia T – 025 de 2004, de la Corte Constitucional, con el propósito de proteger a la población de los resguardos indígenas de Jaideza bi y Jaidukamá . 8. A la Alcaldía de Tarazá, en coordinación con la Gobernación de Antioquia y la UARIV, activar el Plan de Contingencia de que trata la Ley 1448 de 2011, previendo la ocurren cia de eventos de vulneración de DDHH masivos. Además de disponer con previsión los recursos suficientes para la atenci ón de una emergencia humanitaria es necesaria la designación de un centro único de recepción, registro y entrega de las ayudas por parte de la administración local. 9. A la UARIV, analizar los casos de desplazamiento individual que se han presentado en l o que va corrido del año 2018 en el municipio de Tarazá y según los criterios de la Ley 1448 de 2011, dar el tratamiento de eventos masivo s de desplazamiento en donde haya lugar. Igualmente, valorar estas declaraciones dentro del plazo de 60 días establecido en la Ley. 10. A la Agencia de Renovación del Territorio, cumplir un cronograma oportuno en las actividades y los pagos programados, t eniendo en cuenta que los retrasos son utilizados como pretexto por parte de los grupos armados ilegales para incentivar la salida de las familias del Programa de Sustitución de Cultivos Ilícitos y para señalar a líderes sociales. Ante los altos índices de pobreza en Tarazá también se le recomienda acelerar la concertación para la implementación de los PDET. 11. A la Comisión Intersectorial para la Respuesta Rápida a las Alertas Tempranas (CIPRAT), apoyar la coordinación de la respuesta estatal en materia de prevención y protección por parte de las autoridades concernidas en esta Alerta Temprana de Inminencia y convocar los espacios territorial es de que trata el Decreto 2124 de 2017, para hacer seguimiento a la evolución del riesgo y la respuesta institucio nal. Carrera 9 # 16 -21 Bogotá D.C. PBX: (57) (1 ) 3147300 Línea Nacional: 01 8000 914814 www.defensoria.gov.co Plantilla Vigente desde: 27/06/2017 12. A la Comisión Intersectorial de Respuesta Rápida a las Alertas Tempranas - CIPRAT, informar a la Dirección del Sistema de Alertas Tempranas (SAT) de la Defensoría del Pueblo, las actuaciones y medidas adoptadas con respecto a las recomendaciones formuladas en la presente advertencia conforme a lo previsto en la Corte constitucional y la Ley 24 de 1992. Dicha información deberá ser allegada en concordancia con los términos establecidos en del Decreto 2124 de 2017 y según lo estipulado en el artícul o 15 y subsiguientes de la Ley 24 del 15 de diciembre de 1992 , a los siguientes datos de contacto: Correo Electrónico institucional: jeguzman@defensoría.gov.co y fegaitan @defensor ía.gov.co Dirección Pos tal: Carrera 9 No 16 -21 Bogotá D.C., Código postal: 110321 Defensoría del Pueblo Cordialmente, CARLOS ALFONSO NEGRET MOSQUERA Defensor del Pueblo Proyectó: Claudia Rojas Revisó: Rafael Hernando Navarro y Mauricio Redondo Valencia Archivado en: Alertas Tempranas 2018 Consecutivo Dependencia: 404001 -0142/18 ORIGINAL FIRMADO'"
      ]
     },
     "execution_count": 43,
     "metadata": {},
     "output_type": "execute_result"
    }
   ],
   "source": [
    "def replace_accents(w):\n",
    "    return w.replace('á', 'a').replace('é', 'e').replace('í', 'i').replace('ó', 'o').replace('ú', 'u')\n",
    "\n",
    "def extract_POI(text):\n",
    "    if text != text:\n",
    "        return []\n",
    "    entities  = []\n",
    "    temp_text = replace_accents(text.lower())\n",
    "    for key, value in POI.items():\n",
    "        temp_key =   replace_accents(key.lower())        \n",
    "        if temp_key in temp_text: \n",
    "                entities += [key] * temp_text.count(temp_key)\n",
    "        \n",
    "        if value != \"\":\n",
    "            temp_value = replace_accents(value.lower())\n",
    "            if temp_value in temp_text:\n",
    "                entities += [key] * temp_text.count(temp_value)\n",
    "                \n",
    "    doc = nlp(text)\n",
    "    for token in doc.ents:\n",
    "          if (token.label_ == \"PER\" and token.label_ not in entities):\n",
    "            entities.append(token.text)\n",
    "    entities = [e.translate(str.maketrans('', '', punct)) for e in entities]\n",
    "    return entities\n",
    "\n",
    "test = df.loc[25][\"Text\"]\n",
    "test"
   ]
  },
  {
   "cell_type": "code",
   "execution_count": 44,
   "id": "04badb73",
   "metadata": {},
   "outputs": [],
   "source": [
    "ent  = extract_POI(test)"
   ]
  },
  {
   "cell_type": "code",
   "execution_count": 45,
   "id": "31228745",
   "metadata": {},
   "outputs": [
    {
     "data": {
      "text/plain": [
       "59"
      ]
     },
     "execution_count": 45,
     "metadata": {},
     "output_type": "execute_result"
    }
   ],
   "source": [
    "len(ent)"
   ]
  },
  {
   "cell_type": "code",
   "execution_count": 46,
   "id": "cd3e86ff",
   "metadata": {},
   "outputs": [
    {
     "data": {
      "text/plain": [
       "49"
      ]
     },
     "execution_count": 46,
     "metadata": {},
     "output_type": "execute_result"
    }
   ],
   "source": [
    "df = pd.DataFrame(ent, columns = ['text'])\n",
    "df['text'].nunique()"
   ]
  },
  {
   "cell_type": "code",
   "execution_count": 47,
   "id": "9aef753e",
   "metadata": {},
   "outputs": [
    {
     "data": {
      "text/plain": [
       "array(['Doctor GUILLERMO RIVERA FLÓREZ Ministro del Interior Secretaría Técnica',\n",
       "       'vulneracio nes', 'Doradas Altas', 'Cañón de Iglesias', 'Iglesias',\n",
       "       'Magdalena Medio', 'Ramiro Vanoy', 'Cuco Vanoy',\n",
       "       'Bloque Barro Blanco', 'Tomás', 'Paisas', 'Rastrojos',\n",
       "       'favorecid os', 'Frente Virgilio Peralta', 'José Felipe Reyes',\n",
       "       'aba', 'Francisco Morales Peñate', 'Rubén Darío', 'impon er',\n",
       "       'Virgilio Peralta Arenas', 'Son', 'pr', 'Así',\n",
       "       'Francisco Morelos Peñate', 'Miguel Pérez', 'David Alexis Narváez',\n",
       "       'señor Alexis', 'Uré', 'Alexa', 'l', 'Yesica Osorio',\n",
       "       'Intendente Wilson', 'Nelson Ramírez', 'Arley Ortiz Rivas',\n",
       "       'Ramírez', 'Desplazamiento', 'Restricciones',\n",
       "       'Bloque Virgilio Peralta Arenas', 'lgunas', 'tonaciones',\n",
       "       'ASOCBAC', 'q ue', 'nción', 'Jaideza bi', 'Jaidukamá',\n",
       "       'Dirección Pos', 'Claudia Rojas', 'Rafael Hernando Navarro',\n",
       "       'Mauricio Redondo Valencia Archivado'], dtype=object)"
      ]
     },
     "execution_count": 47,
     "metadata": {},
     "output_type": "execute_result"
    }
   ],
   "source": [
    "df['text'].unique()"
   ]
  },
  {
   "cell_type": "code",
   "execution_count": 27,
   "id": "320e702c",
   "metadata": {},
   "outputs": [
    {
     "data": {
      "text/plain": [
       "'Ramón Quintero'"
      ]
     },
     "execution_count": 27,
     "metadata": {},
     "output_type": "execute_result"
    }
   ],
   "source": [
    "test"
   ]
  },
  {
   "cell_type": "code",
   "execution_count": null,
   "id": "dcdf6b70",
   "metadata": {},
   "outputs": [],
   "source": []
  },
  {
   "cell_type": "code",
   "execution_count": null,
   "id": "f0ff66fe",
   "metadata": {},
   "outputs": [],
   "source": []
  },
  {
   "cell_type": "code",
   "execution_count": null,
   "id": "78baa741",
   "metadata": {},
   "outputs": [],
   "source": []
  },
  {
   "cell_type": "code",
   "execution_count": 32,
   "id": "4280305f",
   "metadata": {
    "scrolled": true
   },
   "outputs": [
    {
     "name": "stderr",
     "output_type": "stream",
     "text": [
      "IOPub data rate exceeded.\n",
      "The notebook server will temporarily stop sending output\n",
      "to the client in order to avoid crashing it.\n",
      "To change this limit, set the config variable\n",
      "`--NotebookApp.iopub_data_rate_limit`.\n",
      "\n",
      "Current values:\n",
      "NotebookApp.iopub_data_rate_limit=1000000.0 (bytes/sec)\n",
      "NotebookApp.rate_limit_window=3.0 (secs)\n",
      "\n"
     ]
    },
    {
     "ename": "KeyboardInterrupt",
     "evalue": "",
     "output_type": "error",
     "traceback": [
      "\u001b[1;31m---------------------------------------------------------------------------\u001b[0m",
      "\u001b[1;31mKeyboardInterrupt\u001b[0m                         Traceback (most recent call last)",
      "Input \u001b[1;32mIn [32]\u001b[0m, in \u001b[0;36m<cell line: 1>\u001b[1;34m()\u001b[0m\n\u001b[1;32m----> 1\u001b[0m df[\u001b[38;5;124m\"\u001b[39m\u001b[38;5;124mPOI\u001b[39m\u001b[38;5;124m\"\u001b[39m] \u001b[38;5;241m=\u001b[39m \u001b[43mdf\u001b[49m\u001b[43m[\u001b[49m\u001b[38;5;124;43m\"\u001b[39;49m\u001b[38;5;124;43mText\u001b[39;49m\u001b[38;5;124;43m\"\u001b[39;49m\u001b[43m]\u001b[49m\u001b[38;5;241;43m.\u001b[39;49m\u001b[43mapply\u001b[49m\u001b[43m(\u001b[49m\u001b[43mextract_POI\u001b[49m\u001b[43m)\u001b[49m\n",
      "File \u001b[1;32m~\\anaconda3\\lib\\site-packages\\pandas\\core\\series.py:4433\u001b[0m, in \u001b[0;36mSeries.apply\u001b[1;34m(self, func, convert_dtype, args, **kwargs)\u001b[0m\n\u001b[0;32m   4323\u001b[0m \u001b[38;5;28;01mdef\u001b[39;00m \u001b[38;5;21mapply\u001b[39m(\n\u001b[0;32m   4324\u001b[0m     \u001b[38;5;28mself\u001b[39m,\n\u001b[0;32m   4325\u001b[0m     func: AggFuncType,\n\u001b[1;32m   (...)\u001b[0m\n\u001b[0;32m   4328\u001b[0m     \u001b[38;5;241m*\u001b[39m\u001b[38;5;241m*\u001b[39mkwargs,\n\u001b[0;32m   4329\u001b[0m ) \u001b[38;5;241m-\u001b[39m\u001b[38;5;241m>\u001b[39m DataFrame \u001b[38;5;241m|\u001b[39m Series:\n\u001b[0;32m   4330\u001b[0m     \u001b[38;5;124;03m\"\"\"\u001b[39;00m\n\u001b[0;32m   4331\u001b[0m \u001b[38;5;124;03m    Invoke function on values of Series.\u001b[39;00m\n\u001b[0;32m   4332\u001b[0m \n\u001b[1;32m   (...)\u001b[0m\n\u001b[0;32m   4431\u001b[0m \u001b[38;5;124;03m    dtype: float64\u001b[39;00m\n\u001b[0;32m   4432\u001b[0m \u001b[38;5;124;03m    \"\"\"\u001b[39;00m\n\u001b[1;32m-> 4433\u001b[0m     \u001b[38;5;28;01mreturn\u001b[39;00m \u001b[43mSeriesApply\u001b[49m\u001b[43m(\u001b[49m\u001b[38;5;28;43mself\u001b[39;49m\u001b[43m,\u001b[49m\u001b[43m \u001b[49m\u001b[43mfunc\u001b[49m\u001b[43m,\u001b[49m\u001b[43m \u001b[49m\u001b[43mconvert_dtype\u001b[49m\u001b[43m,\u001b[49m\u001b[43m \u001b[49m\u001b[43margs\u001b[49m\u001b[43m,\u001b[49m\u001b[43m \u001b[49m\u001b[43mkwargs\u001b[49m\u001b[43m)\u001b[49m\u001b[38;5;241;43m.\u001b[39;49m\u001b[43mapply\u001b[49m\u001b[43m(\u001b[49m\u001b[43m)\u001b[49m\n",
      "File \u001b[1;32m~\\anaconda3\\lib\\site-packages\\pandas\\core\\apply.py:1082\u001b[0m, in \u001b[0;36mSeriesApply.apply\u001b[1;34m(self)\u001b[0m\n\u001b[0;32m   1078\u001b[0m \u001b[38;5;28;01mif\u001b[39;00m \u001b[38;5;28misinstance\u001b[39m(\u001b[38;5;28mself\u001b[39m\u001b[38;5;241m.\u001b[39mf, \u001b[38;5;28mstr\u001b[39m):\n\u001b[0;32m   1079\u001b[0m     \u001b[38;5;66;03m# if we are a string, try to dispatch\u001b[39;00m\n\u001b[0;32m   1080\u001b[0m     \u001b[38;5;28;01mreturn\u001b[39;00m \u001b[38;5;28mself\u001b[39m\u001b[38;5;241m.\u001b[39mapply_str()\n\u001b[1;32m-> 1082\u001b[0m \u001b[38;5;28;01mreturn\u001b[39;00m \u001b[38;5;28;43mself\u001b[39;49m\u001b[38;5;241;43m.\u001b[39;49m\u001b[43mapply_standard\u001b[49m\u001b[43m(\u001b[49m\u001b[43m)\u001b[49m\n",
      "File \u001b[1;32m~\\anaconda3\\lib\\site-packages\\pandas\\core\\apply.py:1137\u001b[0m, in \u001b[0;36mSeriesApply.apply_standard\u001b[1;34m(self)\u001b[0m\n\u001b[0;32m   1131\u001b[0m         values \u001b[38;5;241m=\u001b[39m obj\u001b[38;5;241m.\u001b[39mastype(\u001b[38;5;28mobject\u001b[39m)\u001b[38;5;241m.\u001b[39m_values\n\u001b[0;32m   1132\u001b[0m         \u001b[38;5;66;03m# error: Argument 2 to \"map_infer\" has incompatible type\u001b[39;00m\n\u001b[0;32m   1133\u001b[0m         \u001b[38;5;66;03m# \"Union[Callable[..., Any], str, List[Union[Callable[..., Any], str]],\u001b[39;00m\n\u001b[0;32m   1134\u001b[0m         \u001b[38;5;66;03m# Dict[Hashable, Union[Union[Callable[..., Any], str],\u001b[39;00m\n\u001b[0;32m   1135\u001b[0m         \u001b[38;5;66;03m# List[Union[Callable[..., Any], str]]]]]\"; expected\u001b[39;00m\n\u001b[0;32m   1136\u001b[0m         \u001b[38;5;66;03m# \"Callable[[Any], Any]\"\u001b[39;00m\n\u001b[1;32m-> 1137\u001b[0m         mapped \u001b[38;5;241m=\u001b[39m \u001b[43mlib\u001b[49m\u001b[38;5;241;43m.\u001b[39;49m\u001b[43mmap_infer\u001b[49m\u001b[43m(\u001b[49m\n\u001b[0;32m   1138\u001b[0m \u001b[43m            \u001b[49m\u001b[43mvalues\u001b[49m\u001b[43m,\u001b[49m\n\u001b[0;32m   1139\u001b[0m \u001b[43m            \u001b[49m\u001b[43mf\u001b[49m\u001b[43m,\u001b[49m\u001b[43m  \u001b[49m\u001b[38;5;66;43;03m# type: ignore[arg-type]\u001b[39;49;00m\n\u001b[0;32m   1140\u001b[0m \u001b[43m            \u001b[49m\u001b[43mconvert\u001b[49m\u001b[38;5;241;43m=\u001b[39;49m\u001b[38;5;28;43mself\u001b[39;49m\u001b[38;5;241;43m.\u001b[39;49m\u001b[43mconvert_dtype\u001b[49m\u001b[43m,\u001b[49m\n\u001b[0;32m   1141\u001b[0m \u001b[43m        \u001b[49m\u001b[43m)\u001b[49m\n\u001b[0;32m   1143\u001b[0m \u001b[38;5;28;01mif\u001b[39;00m \u001b[38;5;28mlen\u001b[39m(mapped) \u001b[38;5;129;01mand\u001b[39;00m \u001b[38;5;28misinstance\u001b[39m(mapped[\u001b[38;5;241m0\u001b[39m], ABCSeries):\n\u001b[0;32m   1144\u001b[0m     \u001b[38;5;66;03m# GH#43986 Need to do list(mapped) in order to get treated as nested\u001b[39;00m\n\u001b[0;32m   1145\u001b[0m     \u001b[38;5;66;03m#  See also GH#25959 regarding EA support\u001b[39;00m\n\u001b[0;32m   1146\u001b[0m     \u001b[38;5;28;01mreturn\u001b[39;00m obj\u001b[38;5;241m.\u001b[39m_constructor_expanddim(\u001b[38;5;28mlist\u001b[39m(mapped), index\u001b[38;5;241m=\u001b[39mobj\u001b[38;5;241m.\u001b[39mindex)\n",
      "File \u001b[1;32m~\\anaconda3\\lib\\site-packages\\pandas\\_libs\\lib.pyx:2870\u001b[0m, in \u001b[0;36mpandas._libs.lib.map_infer\u001b[1;34m()\u001b[0m\n",
      "Input \u001b[1;32mIn [31]\u001b[0m, in \u001b[0;36mextract_POI\u001b[1;34m(text)\u001b[0m\n\u001b[0;32m     19\u001b[0m \u001b[38;5;28;01mfor\u001b[39;00m token \u001b[38;5;129;01min\u001b[39;00m doc\u001b[38;5;241m.\u001b[39ments:\n\u001b[0;32m     20\u001b[0m     \u001b[38;5;28;01mif\u001b[39;00m (token\u001b[38;5;241m.\u001b[39mlabel_ \u001b[38;5;241m==\u001b[39m \u001b[38;5;124m\"\u001b[39m\u001b[38;5;124mPER\u001b[39m\u001b[38;5;124m\"\u001b[39m \u001b[38;5;129;01mand\u001b[39;00m token\u001b[38;5;241m.\u001b[39mlabel_ \u001b[38;5;129;01mnot\u001b[39;00m \u001b[38;5;129;01min\u001b[39;00m entities):\n\u001b[1;32m---> 21\u001b[0m         entities\u001b[38;5;241m.\u001b[39mappend(\u001b[43mtoken\u001b[49m\u001b[38;5;241;43m.\u001b[39;49m\u001b[43mtext\u001b[49m)\n\u001b[0;32m     22\u001b[0m entities \u001b[38;5;241m=\u001b[39m [e\u001b[38;5;241m.\u001b[39mtranslate(\u001b[38;5;28mstr\u001b[39m\u001b[38;5;241m.\u001b[39mmaketrans(\u001b[38;5;124m'\u001b[39m\u001b[38;5;124m'\u001b[39m, \u001b[38;5;124m'\u001b[39m\u001b[38;5;124m'\u001b[39m, punct)) \u001b[38;5;28;01mfor\u001b[39;00m e \u001b[38;5;129;01min\u001b[39;00m entities]\n\u001b[0;32m     23\u001b[0m \u001b[38;5;28mprint\u001b[39m(entities)\n",
      "\u001b[1;31mKeyboardInterrupt\u001b[0m: "
     ]
    }
   ],
   "source": [
    "df[\"POI\"] = df[\"Text\"].apply(extract_POI)"
   ]
  },
  {
   "cell_type": "markdown",
   "id": "c1b4710f",
   "metadata": {},
   "source": [
    "# 4.2. Extract Actors"
   ]
  },
  {
   "cell_type": "code",
   "execution_count": null,
   "id": "e28d4da3",
   "metadata": {},
   "outputs": [],
   "source": [
    "def extract_actors(text):\n",
    "    if text != text:\n",
    "        return []\n",
    "    \n",
    "    entities  = []\n",
    "    temp_text = replace_accents(text.lower())\n",
    "    \n",
    "    #grupos\n",
    "    for key, value in grupos.items():\n",
    "        temp_key =  replace_accents(key.lower())\n",
    "        temp_value = replace_accents(value.lower()) if value !=\"\" else \"\"\n",
    "        \n",
    "        if temp_key in temp_text: \n",
    "                entities += [key] * temp_text.count(temp_key)\n",
    "        if temp_value in temp_text:\n",
    "                entities += [key] * temp_text.count(temp_value)\n",
    "                \n",
    "    #narco_grupos           \n",
    "    for value in narco_grupos:\n",
    "        if replace_accents(value.lower()) in temp_text:\n",
    "            entities += [value] * temp_text.count(replace_accents(value.lower()))\n",
    "                \n",
    "            \n",
    "    doc = nlp(text)\n",
    "    for token in doc.ents:\n",
    "          if (token.label_ == \"ORG\" and token.label_ not in entities):\n",
    "            entities.append(token.text)\n",
    "    entities = [e.translate(str.maketrans('', '', punct)) for e in entities]\n",
    "    return entities"
   ]
  },
  {
   "cell_type": "code",
   "execution_count": null,
   "id": "dd11be5a",
   "metadata": {},
   "outputs": [],
   "source": [
    "test = df.loc[25][\"Text\"]\n",
    "doc = nlp(test)\n",
    "ents = []\n",
    "for token in doc.ents:\n",
    "    ents.append([token.label_, token.text])\n",
    "df= pd.Dataframe(ents, columns=['label', 'text'])\n",
    "df.sort_values('label', ascending=True)"
   ]
  },
  {
   "cell_type": "code",
   "execution_count": null,
   "id": "3998a16e",
   "metadata": {},
   "outputs": [],
   "source": [
    "df[\"Actors\"] = df[\"Text\"].apply(extract_actors)"
   ]
  },
  {
   "cell_type": "markdown",
   "id": "4d3c9e78",
   "metadata": {},
   "source": [
    "# 5. Saving text in csv"
   ]
  },
  {
   "cell_type": "code",
   "execution_count": null,
   "id": "6fc7efef",
   "metadata": {},
   "outputs": [],
   "source": [
    "df.to_csv(\"data/alertas.csv\", sep=\"|\", index=False)"
   ]
  },
  {
   "cell_type": "markdown",
   "id": "c890fc57",
   "metadata": {},
   "source": [
    "# 6. Export HTML"
   ]
  },
  {
   "cell_type": "code",
   "execution_count": 140,
   "id": "83442c6e",
   "metadata": {},
   "outputs": [
    {
     "name": "stderr",
     "output_type": "stream",
     "text": [
      "[NbConvertApp] Converting notebook 4_Distribution_of_documents_Departamentos.ipynb to html\n",
      "[NbConvertApp] Writing 1281710 bytes to 4_Distribution_of_documents_Departamentos.html\n"
     ]
    }
   ],
   "source": [
    "!jupyter nbconvert --to html 5_Actores_del_Conflicto.ipynb"
   ]
  },
  {
   "cell_type": "code",
   "execution_count": null,
   "id": "6f97e07e",
   "metadata": {},
   "outputs": [],
   "source": []
  }
 ],
 "metadata": {
  "kernelspec": {
   "display_name": "Python 3 (ipykernel)",
   "language": "python",
   "name": "python3"
  },
  "language_info": {
   "codemirror_mode": {
    "name": "ipython",
    "version": 3
   },
   "file_extension": ".py",
   "mimetype": "text/x-python",
   "name": "python",
   "nbconvert_exporter": "python",
   "pygments_lexer": "ipython3",
   "version": "3.9.12"
  }
 },
 "nbformat": 4,
 "nbformat_minor": 5
}
