{
 "cells": [
  {
   "cell_type": "markdown",
   "id": "ab54fbc5",
   "metadata": {},
   "source": [
    "# 1. Installs, Settings, Imports"
   ]
  },
  {
   "cell_type": "code",
   "execution_count": 1,
   "id": "4ecd1f37",
   "metadata": {},
   "outputs": [],
   "source": [
    "#install pyDF2\n",
    "#!pip install PyPDF2"
   ]
  },
  {
   "cell_type": "code",
   "execution_count": 2,
   "id": "384ef11e",
   "metadata": {},
   "outputs": [],
   "source": [
    "# importing all the required modules\n",
    "import PyPDF2\n",
    "from PyPDF2 import PdfReader\n",
    "import os, glob, pandas as pd, re"
   ]
  },
  {
   "cell_type": "code",
   "execution_count": 3,
   "id": "2c2be0cf",
   "metadata": {},
   "outputs": [],
   "source": [
    "pd.set_option('display.max_columns', None)  # or 1000\n",
    "pd.set_option('display.max_rows', None)  # or 1000\n",
    "pd.set_option('display.max_colwidth', None)  # or 199"
   ]
  },
  {
   "cell_type": "markdown",
   "id": "df1c2731",
   "metadata": {},
   "source": [
    "# 1.Import data "
   ]
  },
  {
   "cell_type": "code",
   "execution_count": 4,
   "id": "43023de7",
   "metadata": {
    "scrolled": true
   },
   "outputs": [
    {
     "name": "stderr",
     "output_type": "stream",
     "text": [
      "unknown widths : \n",
      "[0, IndirectObject(242, 0, 2532839972384)]\n",
      "unknown widths : \n",
      "[0, IndirectObject(245, 0, 2532839972384)]\n",
      "unknown widths : \n",
      "[0, IndirectObject(248, 0, 2532839972384)]\n",
      "unknown widths : \n",
      "[0, IndirectObject(251, 0, 2532839972384)]\n",
      "unknown widths : \n",
      "[0, IndirectObject(254, 0, 2532839972384)]\n",
      "unknown widths : \n",
      "[0, IndirectObject(257, 0, 2532839972384)]\n",
      "unknown widths : \n",
      "[0, IndirectObject(260, 0, 2532839972384)]\n",
      "unknown widths : \n",
      "[0, IndirectObject(263, 0, 2532839972384)]\n",
      "unknown widths : \n",
      "[0, IndirectObject(266, 0, 2532839972384)]\n",
      "unknown widths : \n",
      "[0, IndirectObject(269, 0, 2532839972384)]\n",
      "unknown widths : \n",
      "[0, IndirectObject(272, 0, 2532839972384)]\n",
      "unknown widths : \n",
      "[0, IndirectObject(275, 0, 2532839972384)]\n",
      "unknown widths : \n",
      "[0, IndirectObject(278, 0, 2532839972384)]\n",
      "unknown widths : \n",
      "[0, IndirectObject(281, 0, 2532839972384)]\n"
     ]
    },
    {
     "name": "stdout",
     "output_type": "stream",
     "text": [
      "919\n"
     ]
    }
   ],
   "source": [
    "files_info = []\n",
    "for filename in glob.iglob('data/**/*.pdf',\n",
    "                           recursive = True):\n",
    "    try:\n",
    "        reader = PdfReader(filename)\n",
    "        text = \"\"\n",
    "        for page in reader.pages:\n",
    "            text += page.extract_text() + \"\\n\"\n",
    "        files_info.append([filename, text])\n",
    "    except:\n",
    "        print(filename)\n",
    "    \n",
    "print(len(files_info))"
   ]
  },
  {
   "cell_type": "code",
   "execution_count": 6,
   "id": "b58ebe05",
   "metadata": {},
   "outputs": [],
   "source": [
    "df = pd.DataFrame(files_info, columns = ['Filename', 'Text'])"
   ]
  },
  {
   "cell_type": "code",
   "execution_count": 7,
   "id": "6ab7947e",
   "metadata": {},
   "outputs": [
    {
     "name": "stdout",
     "output_type": "stream",
     "text": [
      "919\n"
     ]
    }
   ],
   "source": [
    "print(len(df))"
   ]
  },
  {
   "cell_type": "markdown",
   "id": "08044c63",
   "metadata": {},
   "source": [
    "# 2. Adding type"
   ]
  },
  {
   "cell_type": "code",
   "execution_count": 10,
   "id": "dfa37e44",
   "metadata": {},
   "outputs": [],
   "source": [
    "df[\"Type\"] = df[\"Filename\"].apply(lambda x: \"advertencia\" if x.startswith(\"data\\\\advertencia_PDF\") else \"seguimiento\")"
   ]
  },
  {
   "cell_type": "markdown",
   "id": "d3705917",
   "metadata": {},
   "source": [
    "# 3. Adding Year"
   ]
  },
  {
   "cell_type": "code",
   "execution_count": 19,
   "id": "1822a819",
   "metadata": {},
   "outputs": [],
   "source": [
    "def get_year(filename):\n",
    "    filenames = [\"data\\\\seguimiento\\\\\", \"data\\\\advertencia_PDF\\\\AT \", \"data\\\\advertencia_PDF\\\\IR \"]\n",
    "    for x in filenames:\n",
    "        if filename.startswith(x):\n",
    "            return filename.split(x)[1][:4]\n",
    "        \n",
    "df[\"Year\"] = df[\"Filename\"].apply(get_year)"
   ]
  },
  {
   "cell_type": "code",
   "execution_count": 18,
   "id": "000a4d22",
   "metadata": {},
   "outputs": [
    {
     "data": {
      "text/plain": [
       "'2018'"
      ]
     },
     "execution_count": 18,
     "metadata": {},
     "output_type": "execute_result"
    }
   ],
   "source": [
    "s = \"data\\\\advertencia_PDF\\\\AT 2018\\\\AT N° 001-18 CAU-Suárez.pdf\"\n",
    "s.split(\"data\\\\advertencia_PDF\\\\AT \")[1][:4]"
   ]
  },
  {
   "cell_type": "code",
   "execution_count": 21,
   "id": "3bfe85b1",
   "metadata": {},
   "outputs": [
    {
     "data": {
      "text/plain": [
       "array(['2018', '2019', '2020', '2021', '2022', '2001', '2002', '2003',\n",
       "       '2004', '2005', '2006', '2007', '2008', '2009', '2010', '2011',\n",
       "       '2012', '2013'], dtype=object)"
      ]
     },
     "execution_count": 21,
     "metadata": {},
     "output_type": "execute_result"
    }
   ],
   "source": [
    "df.Year.unique()"
   ]
  },
  {
   "cell_type": "markdown",
   "id": "83b4573e",
   "metadata": {},
   "source": [
    "# 4. Cleaning Text"
   ]
  },
  {
   "cell_type": "code",
   "execution_count": 25,
   "id": "9300152c",
   "metadata": {
    "scrolled": false
   },
   "outputs": [],
   "source": [
    "import string\n",
    "replacing = [\n",
    "    \"Línea Nacional 018000914814 BUREAU VERrTAS Cenificationwwwdefensoriagovco Plantilla VIgente desde 27062017\",\n",
    "    \"Carrera 8No 12B31 Bogotá DC\",\n",
    "    \"Doctora NANCY PATRICIA GUTIERREZ CASTAÑEDA Ministerio del Interior Secretaría Técnica de laComisión Intersectorial para la Respuesta Rápida alas Alertas Tempranas CIPRAT\",\n",
    "    \"Doctora NANCY PATRICIA GUTIERREZ CASTAÑEDA ·Ministerio del Interior Secretaría Técnica de la Comisión Intersectorial para la Respuesta Rápida alas Alertas Tempranas CIPRAT\",\n",
    "    \"Doctora NANCY PATRICIA GUTIERREZ CASTAÑEDA ·Ministerio del Interior Secretaría Técnica de laComisión Intersectorial para la Respuesta Rápida alas Alertas Tempranas CIPRAT\",\n",
    "    \"Sede Central Calle 55 No 1032 Tel 3147300 Ext fax 2452 Bogotá DC Colombia correo electrónico satdefensoriaorgco\",\n",
    "    \"Doctor GUILLERMO RIVERA FLÓREZ Ministro del Interior Secretaría Técnica de la Comisión Intersectorial para la Respuesta Rápida a las Alertas Tempranas\",\n",
    "    \"Sede Central: Calle 55 No. 10 -32 Tels: 3147300 Ext. 2437 Telefax 3147300 Ext. 2452 Bogotá, D.C., Colombia correo electrónico: sat@defensoria.org.co\",\n",
    "    \"Sede Central Calle 55 N° 10-32 Teléfono 3147300 Ext 2437 Fax:3147300 Ext 2452 Correo electrónico: sat@defensoria.org.co\",\n",
    "    \"Sede Central: Calle 55 No. 10-32 Teléfono: 3147300 ex 2437 Telefax 3147300 ext 2452 Correo Electrónico: sat@defensoria.org.co - Bogotá, D.C., Colombia\", \n",
    "    \"Sede Central: Calle 55 No. 10-32 Teléfono: 3147300 Ext. 2437 Telefax 3147300 ext 2452 Correo Electrónico: sat@defensoria.org.co - Bogotá, D.C., Colombia\", \n",
    "    \"Sede Central: Calle 55 No. 10-32 Teléfonos: 6915300 ; 3147300 extensión: 2437, fax ext. 2452 Correo Electrónico: sat@defensoria.org.co – Calle 55 No. 10 -32 Bogotá, D.C. Colombia\",\n",
    "             \"Carrera 9 # 16 -21 Bogotá D.C. PBX: (57) (1) 3147300 Línea Nacional: 01 8000 914814 www.defensoria.gov.co Plantilla Vigente desde:\",\n",
    "             \"Doctor: GUILLERMO RIVERA FLÓREZ Ministro del Interior Secretaría Técnica de la Comisión Intersectorial para la Respuesta Rápida a las Alertas Tempranas (CIPRAT) Carrera 8 No. 12 B - 31 BOGOTÁ, D.C. Referencia:\",\n",
    "             \"CARLOS ALFONSO NEGRET MOSQUERA Defensor del Pueblo JProyectó: Mariana Hernández ArandaQ Revisó: Fernando Gaitán Peña Aprobó: Mauricio Redondo Valencia Consecutivo Dependencia: '7,n~\\\"-..11 .. 5Sentencia 00463 de 2018 Consejo de Estado c.p Jaime Orlando Santofimio Gamboa \\\":\\\" \\\". .Línea Nacional: 01 8000914814ISO9001: 2008 NTC GP 1000: 2009 www.defensoria.goY.co Plantilla Vigente desde: 27106/2017BUREAU VERITAS Certiticatíon\", \n",
    "             \"Carrera 9 # 16 -21, Bogo tá, D.C. PBX: (57) ( 1) 314 73 00, ext .: 3402 · Línea Nacional: 01 8000 914814 www.defensoria.gov.co Código: AD -P06 -F-20 - VERSIÓN: 04 - vigente desde: 07/12 /2016\"]\n",
    "\n",
    "def cleantext(text):\n",
    "    text = text.strip()\n",
    "    if text == \"\" or text != text or text == \" \":\n",
    "        return \"\"\n",
    "    for s in replacing:\n",
    "        if s in text:\n",
    "            print(\"*\")\n",
    "            text = text.replace(s, \"\")\n",
    "    text = text.translate(str.maketrans('', '', string.punctuation))\n",
    "    \n",
    "    return text\n",
    "\n",
    "df[\"Text\"] = df[\"Text\"].apply(cleantext)"
   ]
  },
  {
   "cell_type": "markdown",
   "id": "5aff9251",
   "metadata": {},
   "source": [
    "# 4. Saving text in csv"
   ]
  },
  {
   "cell_type": "code",
   "execution_count": 26,
   "id": "22bef082",
   "metadata": {},
   "outputs": [],
   "source": [
    "\n",
    "df.to_csv(\"data/alertas.csv\", sep=\"|\", index=False)"
   ]
  },
  {
   "cell_type": "markdown",
   "id": "878c9814",
   "metadata": {},
   "source": [
    "# 5. Saving HTML"
   ]
  },
  {
   "cell_type": "code",
   "execution_count": 27,
   "id": "ed70600d",
   "metadata": {},
   "outputs": [
    {
     "name": "stderr",
     "output_type": "stream",
     "text": [
      "[NbConvertApp] Converting notebook 1_Parsing_Data.ipynb to html\n",
      "[NbConvertApp] Writing 581604 bytes to 1_Parsing_Data.html\n"
     ]
    }
   ],
   "source": [
    "!jupyter nbconvert --to html 1_Parsing_Data.ipynb"
   ]
  },
  {
   "cell_type": "code",
   "execution_count": null,
   "id": "1162eeb1",
   "metadata": {},
   "outputs": [],
   "source": []
  }
 ],
 "metadata": {
  "kernelspec": {
   "display_name": "Python 3 (ipykernel)",
   "language": "python",
   "name": "python3"
  },
  "language_info": {
   "codemirror_mode": {
    "name": "ipython",
    "version": 3
   },
   "file_extension": ".py",
   "mimetype": "text/x-python",
   "name": "python",
   "nbconvert_exporter": "python",
   "pygments_lexer": "ipython3",
   "version": "3.9.7"
  }
 },
 "nbformat": 4,
 "nbformat_minor": 5
}
