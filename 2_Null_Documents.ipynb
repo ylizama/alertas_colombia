{
 "cells": [
  {
   "cell_type": "markdown",
   "id": "0fd4b156",
   "metadata": {},
   "source": [
    "# 1. Install, Imports, Settings"
   ]
  },
  {
   "cell_type": "code",
   "execution_count": 21,
   "id": "2550cf0f",
   "metadata": {},
   "outputs": [],
   "source": [
    "import pandas as pd\n",
    "import numpy as np\n",
    "from matplotlib import pyplot as plt"
   ]
  },
  {
   "cell_type": "code",
   "execution_count": 22,
   "id": "8a2612f4",
   "metadata": {},
   "outputs": [],
   "source": [
    "plt.rcParams[\"figure.figsize\"] = [10, 6]\n",
    "%config InlineBackend.figure_format = 'retina'"
   ]
  },
  {
   "cell_type": "markdown",
   "id": "e21e3781",
   "metadata": {},
   "source": [
    "# 2. Load data"
   ]
  },
  {
   "cell_type": "code",
   "execution_count": 23,
   "id": "2fd3dc51",
   "metadata": {},
   "outputs": [
    {
     "name": "stdout",
     "output_type": "stream",
     "text": [
      "Total Number of documents: 1753\n",
      "Number of documents with no accesible text: 5\n",
      "Number of documents with accesible text: 1748\n"
     ]
    }
   ],
   "source": [
    "df = pd.read_csv(\"data/alertas.csv\", sep=\"|\")\n",
    "print(\"Total Number of documents:\", len(df))\n",
    "print(\"Number of documents with no accesible text:\", len(df[df['Text'].isnull()]))\n",
    "print(\"Number of documents with accesible text:\",  len(df[df['Text'].notnull()]))"
   ]
  },
  {
   "cell_type": "code",
   "execution_count": 24,
   "id": "77e3540e",
   "metadata": {},
   "outputs": [
    {
     "data": {
      "text/html": [
       "<div>\n",
       "<style scoped>\n",
       "    .dataframe tbody tr th:only-of-type {\n",
       "        vertical-align: middle;\n",
       "    }\n",
       "\n",
       "    .dataframe tbody tr th {\n",
       "        vertical-align: top;\n",
       "    }\n",
       "\n",
       "    .dataframe thead th {\n",
       "        text-align: right;\n",
       "    }\n",
       "</style>\n",
       "<table border=\"1\" class=\"dataframe\">\n",
       "  <thead>\n",
       "    <tr style=\"text-align: right;\">\n",
       "      <th></th>\n",
       "      <th>Filename</th>\n",
       "      <th>Text</th>\n",
       "      <th>Subtype</th>\n",
       "      <th>Type</th>\n",
       "      <th>Year</th>\n",
       "      <th>Path</th>\n",
       "      <th>Departamento</th>\n",
       "    </tr>\n",
       "  </thead>\n",
       "  <tbody>\n",
       "    <tr>\n",
       "      <th>0</th>\n",
       "      <td>AT N° 003-18 NAR-Cumbitara, Maguí Payán, Polic...</td>\n",
       "      <td>Defensoria  \\ndel Pueblo  \\nCOLOMB IA \\n \\nBog...</td>\n",
       "      <td>Alerta Temprana</td>\n",
       "      <td>Advertencia</td>\n",
       "      <td>2018</td>\n",
       "      <td>data\\Advertencia_PDF\\AT 2018\\AT N° 003-18 NAR-...</td>\n",
       "      <td>Nariño</td>\n",
       "    </tr>\n",
       "    <tr>\n",
       "      <th>1</th>\n",
       "      <td>AT N° 004-18 NAR-Tumaco.pdf</td>\n",
       "      <td>Defensoría \\ndel Pueblo  \\nCO LO Mllt  \\nCarre...</td>\n",
       "      <td>Alerta Temprana</td>\n",
       "      <td>Advertencia</td>\n",
       "      <td>2018</td>\n",
       "      <td>data\\Advertencia_PDF\\AT 2018\\AT N° 004-18 NAR-...</td>\n",
       "      <td>Nariño</td>\n",
       "    </tr>\n",
       "    <tr>\n",
       "      <th>2</th>\n",
       "      <td>AT N° 005-18 COR-Tierralta.pdf</td>\n",
       "      <td>Carrera 9  16 21 Bogotá DC  \\nPBX 57 1 3147300...</td>\n",
       "      <td>Alerta Temprana</td>\n",
       "      <td>Advertencia</td>\n",
       "      <td>2018</td>\n",
       "      <td>data\\Advertencia_PDF\\AT 2018\\AT N° 005-18 COR-...</td>\n",
       "      <td>Córdoba</td>\n",
       "    </tr>\n",
       "    <tr>\n",
       "      <th>3</th>\n",
       "      <td>AT N° 006-18 ARA-Saravena.pdf</td>\n",
       "      <td>Defensoría \\ndel Pueblo  \\nCarrera 9   1621 Bo...</td>\n",
       "      <td>Alerta Temprana</td>\n",
       "      <td>Advertencia</td>\n",
       "      <td>2018</td>\n",
       "      <td>data\\Advertencia_PDF\\AT 2018\\AT N° 006-18 ARA-...</td>\n",
       "      <td>Arauca</td>\n",
       "    </tr>\n",
       "    <tr>\n",
       "      <th>4</th>\n",
       "      <td>AT N° 007-18 MET-Puerto Lleras, Puerto Rico y ...</td>\n",
       "      <td>San Vicente  Bajo \\nl  \\nMargen  \\nIzquierda  ...</td>\n",
       "      <td>Alerta Temprana</td>\n",
       "      <td>Advertencia</td>\n",
       "      <td>2018</td>\n",
       "      <td>data\\Advertencia_PDF\\AT 2018\\AT N° 007-18 MET-...</td>\n",
       "      <td>Meta</td>\n",
       "    </tr>\n",
       "  </tbody>\n",
       "</table>\n",
       "</div>"
      ],
      "text/plain": [
       "                                            Filename  \\\n",
       "0  AT N° 003-18 NAR-Cumbitara, Maguí Payán, Polic...   \n",
       "1                        AT N° 004-18 NAR-Tumaco.pdf   \n",
       "2                     AT N° 005-18 COR-Tierralta.pdf   \n",
       "3                      AT N° 006-18 ARA-Saravena.pdf   \n",
       "4  AT N° 007-18 MET-Puerto Lleras, Puerto Rico y ...   \n",
       "\n",
       "                                                Text          Subtype  \\\n",
       "0  Defensoria  \\ndel Pueblo  \\nCOLOMB IA \\n \\nBog...  Alerta Temprana   \n",
       "1  Defensoría \\ndel Pueblo  \\nCO LO Mllt  \\nCarre...  Alerta Temprana   \n",
       "2  Carrera 9  16 21 Bogotá DC  \\nPBX 57 1 3147300...  Alerta Temprana   \n",
       "3  Defensoría \\ndel Pueblo  \\nCarrera 9   1621 Bo...  Alerta Temprana   \n",
       "4  San Vicente  Bajo \\nl  \\nMargen  \\nIzquierda  ...  Alerta Temprana   \n",
       "\n",
       "          Type  Year                                               Path  \\\n",
       "0  Advertencia  2018  data\\Advertencia_PDF\\AT 2018\\AT N° 003-18 NAR-...   \n",
       "1  Advertencia  2018  data\\Advertencia_PDF\\AT 2018\\AT N° 004-18 NAR-...   \n",
       "2  Advertencia  2018  data\\Advertencia_PDF\\AT 2018\\AT N° 005-18 COR-...   \n",
       "3  Advertencia  2018  data\\Advertencia_PDF\\AT 2018\\AT N° 006-18 ARA-...   \n",
       "4  Advertencia  2018  data\\Advertencia_PDF\\AT 2018\\AT N° 007-18 MET-...   \n",
       "\n",
       "  Departamento  \n",
       "0       Nariño  \n",
       "1       Nariño  \n",
       "2      Córdoba  \n",
       "3       Arauca  \n",
       "4         Meta  "
      ]
     },
     "execution_count": 24,
     "metadata": {},
     "output_type": "execute_result"
    }
   ],
   "source": [
    "df.head()"
   ]
  },
  {
   "cell_type": "markdown",
   "id": "f758cbca",
   "metadata": {},
   "source": [
    "# 3. Number of Documents by Type, Subtype, Year "
   ]
  },
  {
   "cell_type": "code",
   "execution_count": 25,
   "id": "5f902c3b",
   "metadata": {},
   "outputs": [
    {
     "data": {
      "text/html": [
       "<div>\n",
       "<style scoped>\n",
       "    .dataframe tbody tr th:only-of-type {\n",
       "        vertical-align: middle;\n",
       "    }\n",
       "\n",
       "    .dataframe tbody tr th {\n",
       "        vertical-align: top;\n",
       "    }\n",
       "\n",
       "    .dataframe thead th {\n",
       "        text-align: right;\n",
       "    }\n",
       "</style>\n",
       "<table border=\"1\" class=\"dataframe\">\n",
       "  <thead>\n",
       "    <tr style=\"text-align: right;\">\n",
       "      <th></th>\n",
       "      <th></th>\n",
       "      <th></th>\n",
       "      <th>TxtAvailable</th>\n",
       "      <th>NoTxtAvailable</th>\n",
       "      <th>Total</th>\n",
       "      <th>%</th>\n",
       "    </tr>\n",
       "    <tr>\n",
       "      <th>Type</th>\n",
       "      <th>Subtype</th>\n",
       "      <th>Year</th>\n",
       "      <th></th>\n",
       "      <th></th>\n",
       "      <th></th>\n",
       "      <th></th>\n",
       "    </tr>\n",
       "  </thead>\n",
       "  <tbody>\n",
       "    <tr>\n",
       "      <th rowspan=\"3\" valign=\"top\">Advertencia</th>\n",
       "      <th rowspan=\"3\" valign=\"top\">Informe de Riesgo</th>\n",
       "      <th>2003</th>\n",
       "      <td>82</td>\n",
       "      <td>2.0</td>\n",
       "      <td>84.0</td>\n",
       "      <td>2.38</td>\n",
       "    </tr>\n",
       "    <tr>\n",
       "      <th>2007</th>\n",
       "      <td>36</td>\n",
       "      <td>2.0</td>\n",
       "      <td>38.0</td>\n",
       "      <td>5.26</td>\n",
       "    </tr>\n",
       "    <tr>\n",
       "      <th>2008</th>\n",
       "      <td>31</td>\n",
       "      <td>1.0</td>\n",
       "      <td>32.0</td>\n",
       "      <td>3.12</td>\n",
       "    </tr>\n",
       "  </tbody>\n",
       "</table>\n",
       "</div>"
      ],
      "text/plain": [
       "                                    TxtAvailable  NoTxtAvailable  Total     %\n",
       "Type        Subtype           Year                                           \n",
       "Advertencia Informe de Riesgo 2003            82             2.0   84.0  2.38\n",
       "                              2007            36             2.0   38.0  5.26\n",
       "                              2008            31             1.0   32.0  3.12"
      ]
     },
     "execution_count": 25,
     "metadata": {},
     "output_type": "execute_result"
    }
   ],
   "source": [
    "at = df[df['Text'].notnull()].groupby([\"Type\", \"Subtype\", \"Year\"]).agg({\"Filename\":\"count\"})\n",
    "at.columns = [\"TxtAvailable\"]\n",
    "\n",
    "nat = df[df['Text'].isnull()].groupby([\"Type\", \"Subtype\", \"Year\"]).agg({\"Filename\":\"count\"})\n",
    "nat.columns = ['NoTxtAvailable']\n",
    "\n",
    "dfr = pd.concat([at, nat], axis=1)\n",
    "dfr = dfr.fillna(0)\n",
    "dfr[\"Total\"] = dfr[\"TxtAvailable\"] + dfr[\"NoTxtAvailable\"]\n",
    "dfr['%'] = round((dfr[\"NoTxtAvailable\"] * 100) / (dfr[\"Total\"]), 2)\n",
    "dfr[dfr[\"%\"] > 0]"
   ]
  },
  {
   "cell_type": "markdown",
   "id": "527a8c35",
   "metadata": {},
   "source": [
    "# 7 Documentos con texto no disponible"
   ]
  },
  {
   "cell_type": "code",
   "execution_count": 26,
   "id": "f99d6cea",
   "metadata": {},
   "outputs": [
    {
     "data": {
      "text/html": [
       "<div>\n",
       "<style scoped>\n",
       "    .dataframe tbody tr th:only-of-type {\n",
       "        vertical-align: middle;\n",
       "    }\n",
       "\n",
       "    .dataframe tbody tr th {\n",
       "        vertical-align: top;\n",
       "    }\n",
       "\n",
       "    .dataframe thead th {\n",
       "        text-align: right;\n",
       "    }\n",
       "</style>\n",
       "<table border=\"1\" class=\"dataframe\">\n",
       "  <thead>\n",
       "    <tr style=\"text-align: right;\">\n",
       "      <th></th>\n",
       "      <th>Filename</th>\n",
       "      <th>Text</th>\n",
       "      <th>Subtype</th>\n",
       "      <th>Type</th>\n",
       "      <th>Year</th>\n",
       "      <th>Path</th>\n",
       "      <th>Departamento</th>\n",
       "    </tr>\n",
       "  </thead>\n",
       "  <tbody>\n",
       "    <tr>\n",
       "      <th>475</th>\n",
       "      <td>IR N° 079-03 ATLANTICO-Barranquilla.pdf</td>\n",
       "      <td>NaN</td>\n",
       "      <td>Informe de Riesgo</td>\n",
       "      <td>Advertencia</td>\n",
       "      <td>2003</td>\n",
       "      <td>data\\Advertencia_PDF\\IR 2003PDF\\IR N° 079-03 A...</td>\n",
       "      <td>Atlántico</td>\n",
       "    </tr>\n",
       "    <tr>\n",
       "      <th>476</th>\n",
       "      <td>IR N° 080-03 ATLANTICO-Barranquilla.pdf</td>\n",
       "      <td>NaN</td>\n",
       "      <td>Informe de Riesgo</td>\n",
       "      <td>Advertencia</td>\n",
       "      <td>2003</td>\n",
       "      <td>data\\Advertencia_PDF\\IR 2003PDF\\IR N° 080-03 A...</td>\n",
       "      <td>Atlántico</td>\n",
       "    </tr>\n",
       "    <tr>\n",
       "      <th>711</th>\n",
       "      <td>IR N° 024-07 META-Puerto López.pdf</td>\n",
       "      <td>NaN</td>\n",
       "      <td>Informe de Riesgo</td>\n",
       "      <td>Advertencia</td>\n",
       "      <td>2007</td>\n",
       "      <td>data\\Advertencia_PDF\\IR 2007PDF\\IR N° 024-07 M...</td>\n",
       "      <td>Meta</td>\n",
       "    </tr>\n",
       "    <tr>\n",
       "      <th>714</th>\n",
       "      <td>IR N° 027-07 A.I. META-Mapiripan y Puerto Conc...</td>\n",
       "      <td>NaN</td>\n",
       "      <td>Informe de Riesgo</td>\n",
       "      <td>Advertencia</td>\n",
       "      <td>2007</td>\n",
       "      <td>data\\Advertencia_PDF\\IR 2007PDF\\IR N° 027-07 A...</td>\n",
       "      <td>Meta</td>\n",
       "    </tr>\n",
       "    <tr>\n",
       "      <th>756</th>\n",
       "      <td>IR N° 031-08 BOLIVAR-Norosí - Inminencia.pdf</td>\n",
       "      <td>NaN</td>\n",
       "      <td>Informe de Riesgo</td>\n",
       "      <td>Advertencia</td>\n",
       "      <td>2008</td>\n",
       "      <td>data\\Advertencia_PDF\\IR 2008PDF\\IR N° 031-08 B...</td>\n",
       "      <td>Norte de Santander</td>\n",
       "    </tr>\n",
       "  </tbody>\n",
       "</table>\n",
       "</div>"
      ],
      "text/plain": [
       "                                              Filename Text  \\\n",
       "475            IR N° 079-03 ATLANTICO-Barranquilla.pdf  NaN   \n",
       "476            IR N° 080-03 ATLANTICO-Barranquilla.pdf  NaN   \n",
       "711                 IR N° 024-07 META-Puerto López.pdf  NaN   \n",
       "714  IR N° 027-07 A.I. META-Mapiripan y Puerto Conc...  NaN   \n",
       "756       IR N° 031-08 BOLIVAR-Norosí - Inminencia.pdf  NaN   \n",
       "\n",
       "               Subtype         Type  Year  \\\n",
       "475  Informe de Riesgo  Advertencia  2003   \n",
       "476  Informe de Riesgo  Advertencia  2003   \n",
       "711  Informe de Riesgo  Advertencia  2007   \n",
       "714  Informe de Riesgo  Advertencia  2007   \n",
       "756  Informe de Riesgo  Advertencia  2008   \n",
       "\n",
       "                                                  Path        Departamento  \n",
       "475  data\\Advertencia_PDF\\IR 2003PDF\\IR N° 079-03 A...           Atlántico  \n",
       "476  data\\Advertencia_PDF\\IR 2003PDF\\IR N° 080-03 A...           Atlántico  \n",
       "711  data\\Advertencia_PDF\\IR 2007PDF\\IR N° 024-07 M...                Meta  \n",
       "714  data\\Advertencia_PDF\\IR 2007PDF\\IR N° 027-07 A...                Meta  \n",
       "756  data\\Advertencia_PDF\\IR 2008PDF\\IR N° 031-08 B...  Norte de Santander  "
      ]
     },
     "execution_count": 26,
     "metadata": {},
     "output_type": "execute_result"
    }
   ],
   "source": [
    "df[df['Text'].isnull()]"
   ]
  },
  {
   "cell_type": "code",
   "execution_count": 27,
   "id": "13a204b2",
   "metadata": {},
   "outputs": [
    {
     "data": {
      "text/plain": [
       "['IR N° 079-03 ATLANTICO-Barranquilla.pdf',\n",
       " 'IR N° 080-03 ATLANTICO-Barranquilla.pdf',\n",
       " 'IR N° 024-07 META-Puerto López.pdf',\n",
       " 'IR N° 027-07 A.I. META-Mapiripan y Puerto Concordia GUAVIARE-San José del Guaviare.pdf',\n",
       " 'IR N° 031-08 BOLIVAR-Norosí - Inminencia.pdf']"
      ]
     },
     "execution_count": 27,
     "metadata": {},
     "output_type": "execute_result"
    }
   ],
   "source": [
    "list(df[df['Text'].isnull()]['Filename'])"
   ]
  },
  {
   "cell_type": "markdown",
   "id": "c890fc57",
   "metadata": {},
   "source": [
    "# 7. Export HTML"
   ]
  },
  {
   "cell_type": "code",
   "execution_count": 29,
   "id": "83442c6e",
   "metadata": {},
   "outputs": [
    {
     "name": "stderr",
     "output_type": "stream",
     "text": [
      "[NbConvertApp] Converting notebook 2_Null_Documents.ipynb to html\n",
      "[NbConvertApp] Writing 596079 bytes to 2_Null_Documents.html\n"
     ]
    }
   ],
   "source": [
    "!jupyter nbconvert --to html 2_Null_Documents.ipynb"
   ]
  },
  {
   "cell_type": "code",
   "execution_count": null,
   "id": "273daff7",
   "metadata": {},
   "outputs": [],
   "source": []
  }
 ],
 "metadata": {
  "kernelspec": {
   "display_name": "Python 3 (ipykernel)",
   "language": "python",
   "name": "python3"
  },
  "language_info": {
   "codemirror_mode": {
    "name": "ipython",
    "version": 3
   },
   "file_extension": ".py",
   "mimetype": "text/x-python",
   "name": "python",
   "nbconvert_exporter": "python",
   "pygments_lexer": "ipython3",
   "version": "3.9.12"
  }
 },
 "nbformat": 4,
 "nbformat_minor": 5
}
