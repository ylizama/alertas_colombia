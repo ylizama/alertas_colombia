{
 "cells": [
  {
   "cell_type": "code",
   "execution_count": 3,
   "id": "03b9ed0a",
   "metadata": {},
   "outputs": [
    {
     "data": {
      "text/plain": [
       "dict_keys(['a', 'b', 'c'])"
      ]
     },
     "execution_count": 3,
     "metadata": {},
     "output_type": "execute_result"
    }
   ],
   "source": [
    "from collections import Counter\n",
    "\n",
    "words = ['a', 'b', 'c', 'a']\n",
    "\n",
    "Counter(words).keys() # equals to list(set(words))"
   ]
  },
  {
   "cell_type": "code",
   "execution_count": 2,
   "id": "062df9ec",
   "metadata": {},
   "outputs": [
    {
     "data": {
      "text/plain": [
       "dict_values([2, 1, 1])"
      ]
     },
     "execution_count": 2,
     "metadata": {},
     "output_type": "execute_result"
    }
   ],
   "source": [
    "Counter(words).values() # counts the elements' frequency"
   ]
  },
  {
   "cell_type": "code",
   "execution_count": null,
   "id": "b72b7ac9",
   "metadata": {},
   "outputs": [],
   "source": [
    "def compare_arts(w1, w2):\n",
    "    for a in arts:\n",
    "        if w1.startswith(a) and (a + \" \" + w2) == w1:\n",
    "            print(w1, w2)\n",
    "            return True, w1\n",
    "        elif w2.startswith(a) and (a + \" \" + w1) == w2:\n",
    "            print(w1, w2)\n",
    "            return True, w2\n",
    "    print(w1, w2)    \n",
    "    return False, \"\"    \n",
    "\n",
    "actors = clean_list_actors(df)\n",
    "check = []\n",
    "for a in actors:\n",
    "    for b in arts:\n",
    "        if a.lower().startswith(b):\n",
    "            check.append(a)\n",
    "check = set(check)\n",
    "check"
   ]
  }
 ],
 "metadata": {
  "kernelspec": {
   "display_name": "Python 3 (ipykernel)",
   "language": "python",
   "name": "python3"
  },
  "language_info": {
   "codemirror_mode": {
    "name": "ipython",
    "version": 3
   },
   "file_extension": ".py",
   "mimetype": "text/x-python",
   "name": "python",
   "nbconvert_exporter": "python",
   "pygments_lexer": "ipython3",
   "version": "3.9.12"
  }
 },
 "nbformat": 4,
 "nbformat_minor": 5
}
